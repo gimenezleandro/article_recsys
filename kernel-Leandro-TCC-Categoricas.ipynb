{
 "cells": [
  {
   "cell_type": "code",
   "execution_count": 1,
   "metadata": {},
   "outputs": [],
   "source": [
    "#https://github.com/tttgm/fellowshipai/blob/master/Book-Crossing-Recommender.ipynb"
   ]
  },
  {
   "cell_type": "markdown",
   "metadata": {},
   "source": [
    "### Implementar os métodos de Colaborative Filtering\n",
    "## SVD model e NMF model"
   ]
  },
  {
   "cell_type": "markdown",
   "metadata": {
    "_cell_guid": "989ca8ad-c205-4c89-95f5-0678f63e90c1",
    "_uuid": "9c02125458024687b9bc5e80309c0d73ad3bd822"
   },
   "source": [
    "# Recommender Systems in Python 101"
   ]
  },
  {
   "cell_type": "markdown",
   "metadata": {
    "_cell_guid": "e4fd4b09-74b8-4e31-a934-920bedb8dac6",
    "_uuid": "3f8d6760d36ba5a1ff7999831c6d893b2be6c94f"
   },
   "source": [
    "This notebook is a practical introduction to the main [Recommender System](https://en.wikipedia.org/wiki/Recommender_system) (RecSys) techniques. The objective of a RecSys is to recommend relevant items for users, based on their preference. Preference and relevance are subjective, and they are generally inferred by items users have consumed previously.  \n",
    "The main RecSys techniques are:  \n",
    "- [**Collaborative Filtering**](https://en.wikipedia.org/wiki/Collaborative_filtering): This method makes automatic predictions (filtering) about the interests of a user by collecting preferences or taste information from many users (collaborating). The underlying assumption of the collaborative filtering approach is that if a person A has the same opinion as a person B on a set of items, A is more likely to have B's opinion for a given item than that of a randomly chosen person.   \n",
    "- [**Content-Based Filtering**](http://recommender-systems.org/content-based-filtering/): This method uses only information about the description and attributes of the items users has previously consumed to model user's preferences. In other words, these algorithms try to recommend items that are similar to those that a user liked in the past (or is examining in the present). In particular, various candidate items are compared with items previously rated by the user and the best-matching items are recommended.  \n",
    "- **Hybrid methods**:  Recent research has demonstrated that a hybrid approach, combining collaborative filtering and content-based filtering could be more effective than pure approaches in some cases. These methods can also be used to overcome some of the common problems in recommender systems such as cold start and the sparsity problem."
   ]
  },
  {
   "cell_type": "markdown",
   "metadata": {
    "_cell_guid": "bd1c7313-f898-4d87-a281-b405ad2bb006",
    "_uuid": "23c5f6f635d1ede5e6fa2ebecb7b6a4ede99a50b"
   },
   "source": [
    "In this notebook, we use a dataset we've shared on Kaggle Datasets: [Articles Sharing and Reading from CI&T Deskdrop](https://www.kaggle.com/gspmoreira/articles-sharing-reading-from-cit-deskdrop).  \n",
    "We will demonstrate how to implement **Collaborative Filtering**, **Content-Based Filtering** and **Hybrid methods** in Python, for the task of providing personalized recommendations to the users."
   ]
  },
  {
   "cell_type": "code",
   "execution_count": 221,
   "metadata": {
    "_cell_guid": "719f3966-e6fd-49c8-9f60-7bd741542450",
    "_uuid": "b61cd3125a7f8f991fc1bda85ae3cd26f74090ae"
   },
   "outputs": [],
   "source": [
    "import numpy as np\n",
    "import scipy\n",
    "import pandas as pd\n",
    "import math\n",
    "import random\n",
    "import sklearn\n",
    "from nltk.corpus import stopwords\n",
    "import nltk\n",
    "#nltk.download('stopwords')\n",
    "from sklearn.model_selection import train_test_split\n",
    "from sklearn.feature_extraction.text import TfidfVectorizer\n",
    "from sklearn.metrics.pairwise import cosine_similarity\n",
    "from scipy.sparse.linalg import svds\n",
    "import matplotlib.pyplot as plt\n",
    "\n",
    "import re\n",
    "\n",
    "pd.set_option('max_colwidth', 800)"
   ]
  },
  {
   "cell_type": "markdown",
   "metadata": {},
   "source": [
    "## User\n",
    "['Unnamed: 0', 'personId', 'timestamp', 'eventType', 'contentId',\n",
    "       'sessionId', 'userRegion', 'userCountry', 'browser', 'so', 'device',\n",
    "       'mobile', 'pc', 'tablet', 'brand', 'model', 'nativeMobile',\n",
    "       'device_group', 'datetime', 'month', 'interval_interact', 'count',\n",
    "       'mean_interval_time', 'sum_interval_time', 'countryName',\n",
    "       'userCountryRegion']"
   ]
  },
  {
   "cell_type": "code",
   "execution_count": 222,
   "metadata": {},
   "outputs": [],
   "source": [
    "## Article\n"
   ]
  },
  {
   "cell_type": "code",
   "execution_count": 296,
   "metadata": {},
   "outputs": [],
   "source": [
    "#indicando quais as variáveis são categóricas de cada dataset\n",
    "\n",
    "#lst_item_cols = ['authorPersonId','authorRegion','authorCountry','urlDomain', 'lang']\n",
    "lst_item_cols = ['authorPersonId','lang']\n",
    "#lst_user_cols = ['userRegion','userCountry','so','device_group']\n",
    "lst_user_cols = ['userRegion','userCountry']\n",
    "\n",
    "lst_convert = lst_user_cols + lst_item_cols"
   ]
  },
  {
   "cell_type": "markdown",
   "metadata": {
    "_cell_guid": "5f5c826d-f3d5-42d3-a7e6-0343a44cdc9f",
    "_uuid": "26f1f70fd978957b26f8884fc5f82bfe9475c666"
   },
   "source": [
    "# Loading data: CI&T Deskdrop dataset"
   ]
  },
  {
   "cell_type": "markdown",
   "metadata": {
    "_cell_guid": "3c48b62c-ad3b-4218-8fb2-2f0e86a16edc",
    "_uuid": "650c279eddc846a48274346e045cfb6e1f8895d5"
   },
   "source": [
    "In this section, we load the [Deskdrop dataset](https://www.kaggle.com/gspmoreira/articles-sharing-reading-from-cit-deskdrop), which contains a real sample of 12 months logs (Mar. 2016 - Feb. 2017) from CI&T's Internal Communication platform (DeskDrop). It contains about 73k logged users interactions on more than 3k public articles shared in the platform.\n",
    "It is composed of two CSV files:  \n",
    "- **shared_articles.csv**\n",
    "- **users_interactions.csv**\n",
    "\n",
    "Take a look in this kernels for a better picture of the dataset: \n",
    "- Deskdrop datasets EDA \n",
    "- DeskDrop Articles Topic Modeling"
   ]
  },
  {
   "cell_type": "markdown",
   "metadata": {
    "_cell_guid": "c9ee29ff-1fee-4dc9-a3cb-e5301c17fded",
    "_uuid": "1e66e976d34d4e28f5a92241b0ea82a2a66363ea"
   },
   "source": [
    "## shared_articles.csv"
   ]
  },
  {
   "cell_type": "markdown",
   "metadata": {
    "_cell_guid": "f09d2247-a40c-4aaf-90ce-15a8721a3036",
    "_uuid": "e64f4fa8a4751274bd2d37a0f45d2d3d664d6c3e"
   },
   "source": [
    "Contains information about the articles shared in the platform. Each article has its sharing date (timestamp), the original url, title, content in plain text, the article' lang (Portuguese: pt or English: en) and information about the user who shared the article (author).\n",
    "\n",
    "There are two possible event types at a given timestamp: \n",
    "- CONTENT SHARED: The article was shared in the platform and is available for users. \n",
    "- CONTENT REMOVED: The article was removed from the platform and not available for further recommendation.\n",
    "\n",
    "For the sake of simplicity, we only consider here the \"CONTENT SHARED\" event type, assuming (naively) that all articles were available during the whole one year period. For a more precise evaluation (and higher accuracy), only articles that were available at a given time should be recommended, but we let this exercice for you."
   ]
  },
  {
   "cell_type": "code",
   "execution_count": 297,
   "metadata": {},
   "outputs": [
    {
     "data": {
      "text/html": [
       "<div>\n",
       "<style scoped>\n",
       "    .dataframe tbody tr th:only-of-type {\n",
       "        vertical-align: middle;\n",
       "    }\n",
       "\n",
       "    .dataframe tbody tr th {\n",
       "        vertical-align: top;\n",
       "    }\n",
       "\n",
       "    .dataframe thead th {\n",
       "        text-align: right;\n",
       "    }\n",
       "</style>\n",
       "<table border=\"1\" class=\"dataframe\">\n",
       "  <thead>\n",
       "    <tr style=\"text-align: right;\">\n",
       "      <th></th>\n",
       "      <th>timestamp</th>\n",
       "      <th>eventType</th>\n",
       "      <th>contentId</th>\n",
       "      <th>authorPersonId</th>\n",
       "      <th>authorSessionId</th>\n",
       "      <th>authorUserAgent</th>\n",
       "      <th>authorRegion</th>\n",
       "      <th>authorCountry</th>\n",
       "      <th>contentType</th>\n",
       "      <th>url</th>\n",
       "      <th>title</th>\n",
       "      <th>text</th>\n",
       "      <th>lang</th>\n",
       "    </tr>\n",
       "  </thead>\n",
       "  <tbody>\n",
       "    <tr>\n",
       "      <th>1</th>\n",
       "      <td>1459193988</td>\n",
       "      <td>CONTENT SHARED</td>\n",
       "      <td>-4110354420726924665</td>\n",
       "      <td>4340306774493623681</td>\n",
       "      <td>8940341205206233829</td>\n",
       "      <td>NaN</td>\n",
       "      <td>NaN</td>\n",
       "      <td>NaN</td>\n",
       "      <td>HTML</td>\n",
       "      <td>http://www.nytimes.com/2016/03/28/business/dealbook/ethereum-a-virtual-currency-enables-transactions-that-rival-bitcoins.html</td>\n",
       "      <td>Ethereum, a Virtual Currency, Enables Transactions That Rival Bitcoin's</td>\n",
       "      <td>All of this work is still very early. The first full public version of the Ethereum software was recently released, and the system could face some of the same technical and legal problems that have tarnished Bitcoin. Many Bitcoin advocates say Ethereum will face more security problems than Bitcoin because of the greater complexity of the software. Thus far, Ethereum has faced much less testing, and many fewer attacks, than Bitcoin. The novel design of Ethereum may also invite intense scrutiny by authorities given that potentially fraudulent contracts, like the Ponzi schemes, can be written directly into the Ethereum system. But the sophisticated capabilities of the system have made it fascinating to some executives in corporate America. IBM said last year that it was experimenting with...</td>\n",
       "      <td>en</td>\n",
       "    </tr>\n",
       "    <tr>\n",
       "      <th>2</th>\n",
       "      <td>1459194146</td>\n",
       "      <td>CONTENT SHARED</td>\n",
       "      <td>-7292285110016212249</td>\n",
       "      <td>4340306774493623681</td>\n",
       "      <td>8940341205206233829</td>\n",
       "      <td>NaN</td>\n",
       "      <td>NaN</td>\n",
       "      <td>NaN</td>\n",
       "      <td>HTML</td>\n",
       "      <td>http://cointelegraph.com/news/bitcoin-future-when-gbpcoin-of-branson-wins-over-usdcoin-of-trump</td>\n",
       "      <td>Bitcoin Future: When GBPcoin of Branson Wins Over USDcoin of Trump</td>\n",
       "      <td>The alarm clock wakes me at 8:00 with stream of advert-free broadcasting, charged at one satoshi per second. The current BTC exchange rate makes that snooze button a costly proposition! So I get up, make coffee and go to my computer to check the overnight performance of my bots. TradeBot earns me on Trump and Branson TradeBot, which allocates funds between the main chain and various national currency side-chains, generated a lucrative 0.24 BTC return. TradeBot has been reliably profitable ever since I set it to trade USDcoin according to political prediction market data. As expected, the latest poll numbers came in as highly supportive of Trump's re-election as USDcoin CEO. Trump's resistance to de-anonymizing public spending, by moving USDcoin off the Confidential Transactions layer, ...</td>\n",
       "      <td>en</td>\n",
       "    </tr>\n",
       "    <tr>\n",
       "      <th>3</th>\n",
       "      <td>1459194474</td>\n",
       "      <td>CONTENT SHARED</td>\n",
       "      <td>-6151852268067518688</td>\n",
       "      <td>3891637997717104548</td>\n",
       "      <td>-1457532940883382585</td>\n",
       "      <td>NaN</td>\n",
       "      <td>NaN</td>\n",
       "      <td>NaN</td>\n",
       "      <td>HTML</td>\n",
       "      <td>https://cloudplatform.googleblog.com/2016/03/Google-Data-Center-360-Tour.html</td>\n",
       "      <td>Google Data Center 360° Tour</td>\n",
       "      <td>We're excited to share the Google Data Center 360° Tour - a YouTube 360° video that gives you an unprecedented and immersive look inside one of our data centers. There are several ways to view this video: On desktop using Google Chrome use your mouse or trackpad to change your view while the video plays YouTube app on mobile - move your device around to look at all angles while the video plays And the most immersive way to view - using Google Cardboard (currently supported by the Android YouTube app only, iOS support is coming soon!) Load the video in the YouTube app and tap on the Cardboard icon when the video starts to play. Insert your phone in Cardboard and look around. A little background . . . Several months ago, those of us on the Google Cloud Developer Advocacy Team had a rare ...</td>\n",
       "      <td>en</td>\n",
       "    </tr>\n",
       "    <tr>\n",
       "      <th>4</th>\n",
       "      <td>1459194497</td>\n",
       "      <td>CONTENT SHARED</td>\n",
       "      <td>2448026894306402386</td>\n",
       "      <td>4340306774493623681</td>\n",
       "      <td>8940341205206233829</td>\n",
       "      <td>NaN</td>\n",
       "      <td>NaN</td>\n",
       "      <td>NaN</td>\n",
       "      <td>HTML</td>\n",
       "      <td>https://bitcoinmagazine.com/articles/ibm-wants-to-evolve-the-internet-with-blockchain-technology-1459189322</td>\n",
       "      <td>IBM Wants to \"Evolve the Internet\" With Blockchain Technology</td>\n",
       "      <td>The Aite Group projects the blockchain market could be valued at $400 million by 2019. For that reason, some of the biggest names in banking, industry and technology have entered into the space to evaluate how this technology could change the financial world. IBM and Linux, for instance, have brought together some of the brightest minds in the industry and technology to work on blockchain technology through the Hyperledger Project. The Hyperledger Project is under the umbrella of the Linux Foundation, and seeks to incorporate findings by blockchain projects such as Blockstream, Ripple, Digital Asset Holdings and others in order to make blockchain technology useful for the world's biggest corporations. IBM has also contributed its own code to the project. According to John Wolpert, IBM'...</td>\n",
       "      <td>en</td>\n",
       "    </tr>\n",
       "    <tr>\n",
       "      <th>5</th>\n",
       "      <td>1459194522</td>\n",
       "      <td>CONTENT SHARED</td>\n",
       "      <td>-2826566343807132236</td>\n",
       "      <td>4340306774493623681</td>\n",
       "      <td>8940341205206233829</td>\n",
       "      <td>NaN</td>\n",
       "      <td>NaN</td>\n",
       "      <td>NaN</td>\n",
       "      <td>HTML</td>\n",
       "      <td>http://www.coindesk.com/ieee-blockchain-oxford-cloud-computing/</td>\n",
       "      <td>IEEE to Talk Blockchain at Cloud Computing Oxford-Con - CoinDesk</td>\n",
       "      <td>One of the largest and oldest organizations for computing professionals will kick off its annual conference on the future of mobile cloud computing tomorrow, where blockchain is scheduled to be one of the attractions. With more than 421,000 members in 260 countries, the Institute of Electrical and Electronics Engineers (IEEE) holding such a high-profile event has the potential to accelerate the rate of blockchain adoption by the engineering community. At the four-day conference, beginning Tuesday, the IEEE will host five blockchain seminars at the 702-year-old Exeter College of Oxford. The conference, IEEE Mobile Cloud 2016, is the organization's fourth annual event dedicated to mobile cloud computing services and engineering. Speaking at the event, hosted at Oxford University, profess...</td>\n",
       "      <td>en</td>\n",
       "    </tr>\n",
       "  </tbody>\n",
       "</table>\n",
       "</div>"
      ],
      "text/plain": [
       "    timestamp       eventType            contentId       authorPersonId  \\\n",
       "1  1459193988  CONTENT SHARED -4110354420726924665  4340306774493623681   \n",
       "2  1459194146  CONTENT SHARED -7292285110016212249  4340306774493623681   \n",
       "3  1459194474  CONTENT SHARED -6151852268067518688  3891637997717104548   \n",
       "4  1459194497  CONTENT SHARED  2448026894306402386  4340306774493623681   \n",
       "5  1459194522  CONTENT SHARED -2826566343807132236  4340306774493623681   \n",
       "\n",
       "       authorSessionId authorUserAgent authorRegion authorCountry contentType  \\\n",
       "1  8940341205206233829             NaN          NaN           NaN        HTML   \n",
       "2  8940341205206233829             NaN          NaN           NaN        HTML   \n",
       "3 -1457532940883382585             NaN          NaN           NaN        HTML   \n",
       "4  8940341205206233829             NaN          NaN           NaN        HTML   \n",
       "5  8940341205206233829             NaN          NaN           NaN        HTML   \n",
       "\n",
       "                                                                                                                             url  \\\n",
       "1  http://www.nytimes.com/2016/03/28/business/dealbook/ethereum-a-virtual-currency-enables-transactions-that-rival-bitcoins.html   \n",
       "2                                http://cointelegraph.com/news/bitcoin-future-when-gbpcoin-of-branson-wins-over-usdcoin-of-trump   \n",
       "3                                                  https://cloudplatform.googleblog.com/2016/03/Google-Data-Center-360-Tour.html   \n",
       "4                    https://bitcoinmagazine.com/articles/ibm-wants-to-evolve-the-internet-with-blockchain-technology-1459189322   \n",
       "5                                                                http://www.coindesk.com/ieee-blockchain-oxford-cloud-computing/   \n",
       "\n",
       "                                                                     title  \\\n",
       "1  Ethereum, a Virtual Currency, Enables Transactions That Rival Bitcoin's   \n",
       "2       Bitcoin Future: When GBPcoin of Branson Wins Over USDcoin of Trump   \n",
       "3                                             Google Data Center 360° Tour   \n",
       "4            IBM Wants to \"Evolve the Internet\" With Blockchain Technology   \n",
       "5         IEEE to Talk Blockchain at Cloud Computing Oxford-Con - CoinDesk   \n",
       "\n",
       "                                                                                                                                                                                                                                                                                                                                                                                                                                                                                                                                                                                                                                                                                                                                                                                                                              text  \\\n",
       "1  All of this work is still very early. The first full public version of the Ethereum software was recently released, and the system could face some of the same technical and legal problems that have tarnished Bitcoin. Many Bitcoin advocates say Ethereum will face more security problems than Bitcoin because of the greater complexity of the software. Thus far, Ethereum has faced much less testing, and many fewer attacks, than Bitcoin. The novel design of Ethereum may also invite intense scrutiny by authorities given that potentially fraudulent contracts, like the Ponzi schemes, can be written directly into the Ethereum system. But the sophisticated capabilities of the system have made it fascinating to some executives in corporate America. IBM said last year that it was experimenting with...   \n",
       "2  The alarm clock wakes me at 8:00 with stream of advert-free broadcasting, charged at one satoshi per second. The current BTC exchange rate makes that snooze button a costly proposition! So I get up, make coffee and go to my computer to check the overnight performance of my bots. TradeBot earns me on Trump and Branson TradeBot, which allocates funds between the main chain and various national currency side-chains, generated a lucrative 0.24 BTC return. TradeBot has been reliably profitable ever since I set it to trade USDcoin according to political prediction market data. As expected, the latest poll numbers came in as highly supportive of Trump's re-election as USDcoin CEO. Trump's resistance to de-anonymizing public spending, by moving USDcoin off the Confidential Transactions layer, ...   \n",
       "3  We're excited to share the Google Data Center 360° Tour - a YouTube 360° video that gives you an unprecedented and immersive look inside one of our data centers. There are several ways to view this video: On desktop using Google Chrome use your mouse or trackpad to change your view while the video plays YouTube app on mobile - move your device around to look at all angles while the video plays And the most immersive way to view - using Google Cardboard (currently supported by the Android YouTube app only, iOS support is coming soon!) Load the video in the YouTube app and tap on the Cardboard icon when the video starts to play. Insert your phone in Cardboard and look around. A little background . . . Several months ago, those of us on the Google Cloud Developer Advocacy Team had a rare ...   \n",
       "4  The Aite Group projects the blockchain market could be valued at $400 million by 2019. For that reason, some of the biggest names in banking, industry and technology have entered into the space to evaluate how this technology could change the financial world. IBM and Linux, for instance, have brought together some of the brightest minds in the industry and technology to work on blockchain technology through the Hyperledger Project. The Hyperledger Project is under the umbrella of the Linux Foundation, and seeks to incorporate findings by blockchain projects such as Blockstream, Ripple, Digital Asset Holdings and others in order to make blockchain technology useful for the world's biggest corporations. IBM has also contributed its own code to the project. According to John Wolpert, IBM'...   \n",
       "5  One of the largest and oldest organizations for computing professionals will kick off its annual conference on the future of mobile cloud computing tomorrow, where blockchain is scheduled to be one of the attractions. With more than 421,000 members in 260 countries, the Institute of Electrical and Electronics Engineers (IEEE) holding such a high-profile event has the potential to accelerate the rate of blockchain adoption by the engineering community. At the four-day conference, beginning Tuesday, the IEEE will host five blockchain seminars at the 702-year-old Exeter College of Oxford. The conference, IEEE Mobile Cloud 2016, is the organization's fourth annual event dedicated to mobile cloud computing services and engineering. Speaking at the event, hosted at Oxford University, profess...   \n",
       "\n",
       "  lang  \n",
       "1   en  \n",
       "2   en  \n",
       "3   en  \n",
       "4   en  \n",
       "5   en  "
      ]
     },
     "execution_count": 297,
     "metadata": {},
     "output_type": "execute_result"
    }
   ],
   "source": [
    "articles_df = pd.read_csv('shared_articles.csv')\n",
    "articles_df = articles_df[articles_df['eventType'] == 'CONTENT SHARED']\n",
    "articles_df.head(5)"
   ]
  },
  {
   "cell_type": "code",
   "execution_count": 298,
   "metadata": {},
   "outputs": [],
   "source": [
    "articles_df['urlDomain'] = articles_df['url'].apply(lambda x: re.sub(r'^http[s]*:\\/\\/', '', re.search(r'^http[s]*:\\/\\/[\\w\\.]*', x, re.IGNORECASE).group(0)))"
   ]
  },
  {
   "cell_type": "code",
   "execution_count": 299,
   "metadata": {},
   "outputs": [
    {
     "data": {
      "text/plain": [
       "(3047, 14)"
      ]
     },
     "execution_count": 299,
     "metadata": {},
     "output_type": "execute_result"
    }
   ],
   "source": [
    "articles_df.shape"
   ]
  },
  {
   "cell_type": "code",
   "execution_count": 300,
   "metadata": {},
   "outputs": [
    {
     "data": {
      "text/plain": [
       "HTML     3027\n",
       "RICH       10\n",
       "VIDEO      10\n",
       "Name: contentType, dtype: int64"
      ]
     },
     "execution_count": 300,
     "metadata": {},
     "output_type": "execute_result"
    }
   ],
   "source": [
    "articles_df['contentType'].value_counts()"
   ]
  },
  {
   "cell_type": "code",
   "execution_count": 301,
   "metadata": {},
   "outputs": [],
   "source": [
    "articles_df['urlDomain'] = articles_df['urlDomain'].apply(lambda x: x if x in(['techcrunch.com', 'medium.com', 'cloudplataform.googleblog.com','www.imdb.com','www.mckinsey.com']) else 'outros')"
   ]
  },
  {
   "cell_type": "code",
   "execution_count": 302,
   "metadata": {},
   "outputs": [],
   "source": [
    "for c in articles_df.columns:\n",
    "    if c in lst_convert:\n",
    "        articles_df[c] = articles_df[c].astype('category').cat.codes\n",
    "        #articles_df[c] = pd.factorize(articles_df[c])[0]"
   ]
  },
  {
   "cell_type": "code",
   "execution_count": 303,
   "metadata": {},
   "outputs": [
    {
     "data": {
      "text/html": [
       "<div>\n",
       "<style scoped>\n",
       "    .dataframe tbody tr th:only-of-type {\n",
       "        vertical-align: middle;\n",
       "    }\n",
       "\n",
       "    .dataframe tbody tr th {\n",
       "        vertical-align: top;\n",
       "    }\n",
       "\n",
       "    .dataframe thead th {\n",
       "        text-align: right;\n",
       "    }\n",
       "</style>\n",
       "<table border=\"1\" class=\"dataframe\">\n",
       "  <thead>\n",
       "    <tr style=\"text-align: right;\">\n",
       "      <th></th>\n",
       "      <th>timestamp</th>\n",
       "      <th>eventType</th>\n",
       "      <th>contentId</th>\n",
       "      <th>authorPersonId</th>\n",
       "      <th>authorSessionId</th>\n",
       "      <th>authorUserAgent</th>\n",
       "      <th>authorRegion</th>\n",
       "      <th>authorCountry</th>\n",
       "      <th>contentType</th>\n",
       "      <th>url</th>\n",
       "      <th>title</th>\n",
       "      <th>text</th>\n",
       "      <th>lang</th>\n",
       "      <th>urlDomain</th>\n",
       "    </tr>\n",
       "  </thead>\n",
       "  <tbody>\n",
       "    <tr>\n",
       "      <th>1</th>\n",
       "      <td>1459193988</td>\n",
       "      <td>CONTENT SHARED</td>\n",
       "      <td>-4110354420726924665</td>\n",
       "      <td>195</td>\n",
       "      <td>8940341205206233829</td>\n",
       "      <td>NaN</td>\n",
       "      <td>NaN</td>\n",
       "      <td>NaN</td>\n",
       "      <td>HTML</td>\n",
       "      <td>http://www.nytimes.com/2016/03/28/business/dealbook/ethereum-a-virtual-currency-enables-transactions-that-rival-bitcoins.html</td>\n",
       "      <td>Ethereum, a Virtual Currency, Enables Transactions That Rival Bitcoin's</td>\n",
       "      <td>All of this work is still very early. The first full public version of the Ethereum software was recently released, and the system could face some of the same technical and legal problems that have tarnished Bitcoin. Many Bitcoin advocates say Ethereum will face more security problems than Bitcoin because of the greater complexity of the software. Thus far, Ethereum has faced much less testing, and many fewer attacks, than Bitcoin. The novel design of Ethereum may also invite intense scrutiny by authorities given that potentially fraudulent contracts, like the Ponzi schemes, can be written directly into the Ethereum system. But the sophisticated capabilities of the system have made it fascinating to some executives in corporate America. IBM said last year that it was experimenting with...</td>\n",
       "      <td>0</td>\n",
       "      <td>outros</td>\n",
       "    </tr>\n",
       "    <tr>\n",
       "      <th>2</th>\n",
       "      <td>1459194146</td>\n",
       "      <td>CONTENT SHARED</td>\n",
       "      <td>-7292285110016212249</td>\n",
       "      <td>195</td>\n",
       "      <td>8940341205206233829</td>\n",
       "      <td>NaN</td>\n",
       "      <td>NaN</td>\n",
       "      <td>NaN</td>\n",
       "      <td>HTML</td>\n",
       "      <td>http://cointelegraph.com/news/bitcoin-future-when-gbpcoin-of-branson-wins-over-usdcoin-of-trump</td>\n",
       "      <td>Bitcoin Future: When GBPcoin of Branson Wins Over USDcoin of Trump</td>\n",
       "      <td>The alarm clock wakes me at 8:00 with stream of advert-free broadcasting, charged at one satoshi per second. The current BTC exchange rate makes that snooze button a costly proposition! So I get up, make coffee and go to my computer to check the overnight performance of my bots. TradeBot earns me on Trump and Branson TradeBot, which allocates funds between the main chain and various national currency side-chains, generated a lucrative 0.24 BTC return. TradeBot has been reliably profitable ever since I set it to trade USDcoin according to political prediction market data. As expected, the latest poll numbers came in as highly supportive of Trump's re-election as USDcoin CEO. Trump's resistance to de-anonymizing public spending, by moving USDcoin off the Confidential Transactions layer, ...</td>\n",
       "      <td>0</td>\n",
       "      <td>outros</td>\n",
       "    </tr>\n",
       "    <tr>\n",
       "      <th>3</th>\n",
       "      <td>1459194474</td>\n",
       "      <td>CONTENT SHARED</td>\n",
       "      <td>-6151852268067518688</td>\n",
       "      <td>187</td>\n",
       "      <td>-1457532940883382585</td>\n",
       "      <td>NaN</td>\n",
       "      <td>NaN</td>\n",
       "      <td>NaN</td>\n",
       "      <td>HTML</td>\n",
       "      <td>https://cloudplatform.googleblog.com/2016/03/Google-Data-Center-360-Tour.html</td>\n",
       "      <td>Google Data Center 360° Tour</td>\n",
       "      <td>We're excited to share the Google Data Center 360° Tour - a YouTube 360° video that gives you an unprecedented and immersive look inside one of our data centers. There are several ways to view this video: On desktop using Google Chrome use your mouse or trackpad to change your view while the video plays YouTube app on mobile - move your device around to look at all angles while the video plays And the most immersive way to view - using Google Cardboard (currently supported by the Android YouTube app only, iOS support is coming soon!) Load the video in the YouTube app and tap on the Cardboard icon when the video starts to play. Insert your phone in Cardboard and look around. A little background . . . Several months ago, those of us on the Google Cloud Developer Advocacy Team had a rare ...</td>\n",
       "      <td>0</td>\n",
       "      <td>outros</td>\n",
       "    </tr>\n",
       "    <tr>\n",
       "      <th>4</th>\n",
       "      <td>1459194497</td>\n",
       "      <td>CONTENT SHARED</td>\n",
       "      <td>2448026894306402386</td>\n",
       "      <td>195</td>\n",
       "      <td>8940341205206233829</td>\n",
       "      <td>NaN</td>\n",
       "      <td>NaN</td>\n",
       "      <td>NaN</td>\n",
       "      <td>HTML</td>\n",
       "      <td>https://bitcoinmagazine.com/articles/ibm-wants-to-evolve-the-internet-with-blockchain-technology-1459189322</td>\n",
       "      <td>IBM Wants to \"Evolve the Internet\" With Blockchain Technology</td>\n",
       "      <td>The Aite Group projects the blockchain market could be valued at $400 million by 2019. For that reason, some of the biggest names in banking, industry and technology have entered into the space to evaluate how this technology could change the financial world. IBM and Linux, for instance, have brought together some of the brightest minds in the industry and technology to work on blockchain technology through the Hyperledger Project. The Hyperledger Project is under the umbrella of the Linux Foundation, and seeks to incorporate findings by blockchain projects such as Blockstream, Ripple, Digital Asset Holdings and others in order to make blockchain technology useful for the world's biggest corporations. IBM has also contributed its own code to the project. According to John Wolpert, IBM'...</td>\n",
       "      <td>0</td>\n",
       "      <td>outros</td>\n",
       "    </tr>\n",
       "    <tr>\n",
       "      <th>5</th>\n",
       "      <td>1459194522</td>\n",
       "      <td>CONTENT SHARED</td>\n",
       "      <td>-2826566343807132236</td>\n",
       "      <td>195</td>\n",
       "      <td>8940341205206233829</td>\n",
       "      <td>NaN</td>\n",
       "      <td>NaN</td>\n",
       "      <td>NaN</td>\n",
       "      <td>HTML</td>\n",
       "      <td>http://www.coindesk.com/ieee-blockchain-oxford-cloud-computing/</td>\n",
       "      <td>IEEE to Talk Blockchain at Cloud Computing Oxford-Con - CoinDesk</td>\n",
       "      <td>One of the largest and oldest organizations for computing professionals will kick off its annual conference on the future of mobile cloud computing tomorrow, where blockchain is scheduled to be one of the attractions. With more than 421,000 members in 260 countries, the Institute of Electrical and Electronics Engineers (IEEE) holding such a high-profile event has the potential to accelerate the rate of blockchain adoption by the engineering community. At the four-day conference, beginning Tuesday, the IEEE will host five blockchain seminars at the 702-year-old Exeter College of Oxford. The conference, IEEE Mobile Cloud 2016, is the organization's fourth annual event dedicated to mobile cloud computing services and engineering. Speaking at the event, hosted at Oxford University, profess...</td>\n",
       "      <td>0</td>\n",
       "      <td>outros</td>\n",
       "    </tr>\n",
       "  </tbody>\n",
       "</table>\n",
       "</div>"
      ],
      "text/plain": [
       "    timestamp       eventType            contentId  authorPersonId  \\\n",
       "1  1459193988  CONTENT SHARED -4110354420726924665             195   \n",
       "2  1459194146  CONTENT SHARED -7292285110016212249             195   \n",
       "3  1459194474  CONTENT SHARED -6151852268067518688             187   \n",
       "4  1459194497  CONTENT SHARED  2448026894306402386             195   \n",
       "5  1459194522  CONTENT SHARED -2826566343807132236             195   \n",
       "\n",
       "       authorSessionId authorUserAgent authorRegion authorCountry contentType  \\\n",
       "1  8940341205206233829             NaN          NaN           NaN        HTML   \n",
       "2  8940341205206233829             NaN          NaN           NaN        HTML   \n",
       "3 -1457532940883382585             NaN          NaN           NaN        HTML   \n",
       "4  8940341205206233829             NaN          NaN           NaN        HTML   \n",
       "5  8940341205206233829             NaN          NaN           NaN        HTML   \n",
       "\n",
       "                                                                                                                             url  \\\n",
       "1  http://www.nytimes.com/2016/03/28/business/dealbook/ethereum-a-virtual-currency-enables-transactions-that-rival-bitcoins.html   \n",
       "2                                http://cointelegraph.com/news/bitcoin-future-when-gbpcoin-of-branson-wins-over-usdcoin-of-trump   \n",
       "3                                                  https://cloudplatform.googleblog.com/2016/03/Google-Data-Center-360-Tour.html   \n",
       "4                    https://bitcoinmagazine.com/articles/ibm-wants-to-evolve-the-internet-with-blockchain-technology-1459189322   \n",
       "5                                                                http://www.coindesk.com/ieee-blockchain-oxford-cloud-computing/   \n",
       "\n",
       "                                                                     title  \\\n",
       "1  Ethereum, a Virtual Currency, Enables Transactions That Rival Bitcoin's   \n",
       "2       Bitcoin Future: When GBPcoin of Branson Wins Over USDcoin of Trump   \n",
       "3                                             Google Data Center 360° Tour   \n",
       "4            IBM Wants to \"Evolve the Internet\" With Blockchain Technology   \n",
       "5         IEEE to Talk Blockchain at Cloud Computing Oxford-Con - CoinDesk   \n",
       "\n",
       "                                                                                                                                                                                                                                                                                                                                                                                                                                                                                                                                                                                                                                                                                                                                                                                                                              text  \\\n",
       "1  All of this work is still very early. The first full public version of the Ethereum software was recently released, and the system could face some of the same technical and legal problems that have tarnished Bitcoin. Many Bitcoin advocates say Ethereum will face more security problems than Bitcoin because of the greater complexity of the software. Thus far, Ethereum has faced much less testing, and many fewer attacks, than Bitcoin. The novel design of Ethereum may also invite intense scrutiny by authorities given that potentially fraudulent contracts, like the Ponzi schemes, can be written directly into the Ethereum system. But the sophisticated capabilities of the system have made it fascinating to some executives in corporate America. IBM said last year that it was experimenting with...   \n",
       "2  The alarm clock wakes me at 8:00 with stream of advert-free broadcasting, charged at one satoshi per second. The current BTC exchange rate makes that snooze button a costly proposition! So I get up, make coffee and go to my computer to check the overnight performance of my bots. TradeBot earns me on Trump and Branson TradeBot, which allocates funds between the main chain and various national currency side-chains, generated a lucrative 0.24 BTC return. TradeBot has been reliably profitable ever since I set it to trade USDcoin according to political prediction market data. As expected, the latest poll numbers came in as highly supportive of Trump's re-election as USDcoin CEO. Trump's resistance to de-anonymizing public spending, by moving USDcoin off the Confidential Transactions layer, ...   \n",
       "3  We're excited to share the Google Data Center 360° Tour - a YouTube 360° video that gives you an unprecedented and immersive look inside one of our data centers. There are several ways to view this video: On desktop using Google Chrome use your mouse or trackpad to change your view while the video plays YouTube app on mobile - move your device around to look at all angles while the video plays And the most immersive way to view - using Google Cardboard (currently supported by the Android YouTube app only, iOS support is coming soon!) Load the video in the YouTube app and tap on the Cardboard icon when the video starts to play. Insert your phone in Cardboard and look around. A little background . . . Several months ago, those of us on the Google Cloud Developer Advocacy Team had a rare ...   \n",
       "4  The Aite Group projects the blockchain market could be valued at $400 million by 2019. For that reason, some of the biggest names in banking, industry and technology have entered into the space to evaluate how this technology could change the financial world. IBM and Linux, for instance, have brought together some of the brightest minds in the industry and technology to work on blockchain technology through the Hyperledger Project. The Hyperledger Project is under the umbrella of the Linux Foundation, and seeks to incorporate findings by blockchain projects such as Blockstream, Ripple, Digital Asset Holdings and others in order to make blockchain technology useful for the world's biggest corporations. IBM has also contributed its own code to the project. According to John Wolpert, IBM'...   \n",
       "5  One of the largest and oldest organizations for computing professionals will kick off its annual conference on the future of mobile cloud computing tomorrow, where blockchain is scheduled to be one of the attractions. With more than 421,000 members in 260 countries, the Institute of Electrical and Electronics Engineers (IEEE) holding such a high-profile event has the potential to accelerate the rate of blockchain adoption by the engineering community. At the four-day conference, beginning Tuesday, the IEEE will host five blockchain seminars at the 702-year-old Exeter College of Oxford. The conference, IEEE Mobile Cloud 2016, is the organization's fourth annual event dedicated to mobile cloud computing services and engineering. Speaking at the event, hosted at Oxford University, profess...   \n",
       "\n",
       "   lang urlDomain  \n",
       "1     0    outros  \n",
       "2     0    outros  \n",
       "3     0    outros  \n",
       "4     0    outros  \n",
       "5     0    outros  "
      ]
     },
     "execution_count": 303,
     "metadata": {},
     "output_type": "execute_result"
    }
   ],
   "source": [
    "articles_df.head()"
   ]
  },
  {
   "cell_type": "code",
   "execution_count": 304,
   "metadata": {},
   "outputs": [
    {
     "data": {
      "text/plain": [
       "Index(['timestamp', 'eventType', 'contentId', 'authorPersonId',\n",
       "       'authorSessionId', 'authorUserAgent', 'authorRegion', 'authorCountry',\n",
       "       'contentType', 'url', 'title', 'text', 'lang', 'urlDomain'],\n",
       "      dtype='object')"
      ]
     },
     "execution_count": 304,
     "metadata": {},
     "output_type": "execute_result"
    }
   ],
   "source": [
    "articles_df.columns"
   ]
  },
  {
   "cell_type": "markdown",
   "metadata": {
    "_cell_guid": "487936d5-d7b3-487d-9ef1-e3ba1e4bc421",
    "_uuid": "3f96f2d88fa86814e2fa1273d80f26d2559823fd"
   },
   "source": [
    "## users_interactions.csv"
   ]
  },
  {
   "cell_type": "markdown",
   "metadata": {
    "_cell_guid": "325b8db8-ef44-4b59-8138-2a59bd02d66e",
    "_uuid": "86694f1b80b04b8f9b961148fb265f355f202b26"
   },
   "source": [
    "Contains logs of user interactions on shared articles. It can be joined to **articles_shared.csv** by **contentId** column.\n",
    "\n",
    "The eventType values are:  \n",
    "- **VIEW**: The user has opened the article. \n",
    "- **LIKE**: The user has liked the article. \n",
    "- **COMMENT CREATED**: The user created a comment in the article. \n",
    "- **FOLLOW**: The user chose to be notified on any new comment in the article. \n",
    "- **BOOKMARK**: The user has bookmarked the article for easy return in the future."
   ]
  },
  {
   "cell_type": "code",
   "execution_count": 305,
   "metadata": {
    "_cell_guid": "445d39ec-f6b0-4155-9f92-0a2540918bd1",
    "_uuid": "9829842326037e364de457f832deceae074d6164"
   },
   "outputs": [
    {
     "data": {
      "text/html": [
       "<div>\n",
       "<style scoped>\n",
       "    .dataframe tbody tr th:only-of-type {\n",
       "        vertical-align: middle;\n",
       "    }\n",
       "\n",
       "    .dataframe tbody tr th {\n",
       "        vertical-align: top;\n",
       "    }\n",
       "\n",
       "    .dataframe thead th {\n",
       "        text-align: right;\n",
       "    }\n",
       "</style>\n",
       "<table border=\"1\" class=\"dataframe\">\n",
       "  <thead>\n",
       "    <tr style=\"text-align: right;\">\n",
       "      <th></th>\n",
       "      <th>Unnamed: 0</th>\n",
       "      <th>personId</th>\n",
       "      <th>timestamp</th>\n",
       "      <th>eventType</th>\n",
       "      <th>contentId</th>\n",
       "      <th>sessionId</th>\n",
       "      <th>userRegion</th>\n",
       "      <th>userCountry</th>\n",
       "      <th>browser</th>\n",
       "      <th>so</th>\n",
       "      <th>...</th>\n",
       "      <th>nativeMobile</th>\n",
       "      <th>device_group</th>\n",
       "      <th>datetime</th>\n",
       "      <th>month</th>\n",
       "      <th>interval_interact</th>\n",
       "      <th>count</th>\n",
       "      <th>mean_interval_time</th>\n",
       "      <th>sum_interval_time</th>\n",
       "      <th>countryName</th>\n",
       "      <th>userCountryRegion</th>\n",
       "    </tr>\n",
       "  </thead>\n",
       "  <tbody>\n",
       "    <tr>\n",
       "      <th>0</th>\n",
       "      <td>0</td>\n",
       "      <td>-9223121837663643404</td>\n",
       "      <td>1461322785</td>\n",
       "      <td>VIEW</td>\n",
       "      <td>-5781461435447152359</td>\n",
       "      <td>6207458156008176463</td>\n",
       "      <td>SP</td>\n",
       "      <td>BR</td>\n",
       "      <td>Chrome</td>\n",
       "      <td>Windows</td>\n",
       "      <td>...</td>\n",
       "      <td>False</td>\n",
       "      <td>pc</td>\n",
       "      <td>2016-04-22 07:59:45</td>\n",
       "      <td>2016-04</td>\n",
       "      <td>0.000000</td>\n",
       "      <td>57</td>\n",
       "      <td>7731.537427</td>\n",
       "      <td>440697.633333</td>\n",
       "      <td>Brazil</td>\n",
       "      <td>BR-SP</td>\n",
       "    </tr>\n",
       "    <tr>\n",
       "      <th>1</th>\n",
       "      <td>1</td>\n",
       "      <td>-9223121837663643404</td>\n",
       "      <td>1461322815</td>\n",
       "      <td>VIEW</td>\n",
       "      <td>7229629480273331039</td>\n",
       "      <td>6207458156008176463</td>\n",
       "      <td>SP</td>\n",
       "      <td>BR</td>\n",
       "      <td>Chrome</td>\n",
       "      <td>Windows</td>\n",
       "      <td>...</td>\n",
       "      <td>False</td>\n",
       "      <td>pc</td>\n",
       "      <td>2016-04-22 08:00:15</td>\n",
       "      <td>2016-04</td>\n",
       "      <td>0.500000</td>\n",
       "      <td>57</td>\n",
       "      <td>7731.537427</td>\n",
       "      <td>440697.633333</td>\n",
       "      <td>Brazil</td>\n",
       "      <td>BR-SP</td>\n",
       "    </tr>\n",
       "    <tr>\n",
       "      <th>2</th>\n",
       "      <td>2</td>\n",
       "      <td>-9223121837663643404</td>\n",
       "      <td>1461778829</td>\n",
       "      <td>VIEW</td>\n",
       "      <td>-6484638837208285334</td>\n",
       "      <td>3718281880049969488</td>\n",
       "      <td>SP</td>\n",
       "      <td>BR</td>\n",
       "      <td>Chrome</td>\n",
       "      <td>Windows</td>\n",
       "      <td>...</td>\n",
       "      <td>False</td>\n",
       "      <td>pc</td>\n",
       "      <td>2016-04-27 14:40:29</td>\n",
       "      <td>2016-04</td>\n",
       "      <td>7600.233333</td>\n",
       "      <td>57</td>\n",
       "      <td>7731.537427</td>\n",
       "      <td>440697.633333</td>\n",
       "      <td>Brazil</td>\n",
       "      <td>BR-SP</td>\n",
       "    </tr>\n",
       "    <tr>\n",
       "      <th>3</th>\n",
       "      <td>3</td>\n",
       "      <td>-9223121837663643404</td>\n",
       "      <td>1462283851</td>\n",
       "      <td>VIEW</td>\n",
       "      <td>-730957269757756529</td>\n",
       "      <td>2625340673871268120</td>\n",
       "      <td>SP</td>\n",
       "      <td>BR</td>\n",
       "      <td>Chrome</td>\n",
       "      <td>Windows</td>\n",
       "      <td>...</td>\n",
       "      <td>False</td>\n",
       "      <td>pc</td>\n",
       "      <td>2016-05-03 10:57:31</td>\n",
       "      <td>2016-05</td>\n",
       "      <td>8417.033333</td>\n",
       "      <td>57</td>\n",
       "      <td>7731.537427</td>\n",
       "      <td>440697.633333</td>\n",
       "      <td>Brazil</td>\n",
       "      <td>BR-SP</td>\n",
       "    </tr>\n",
       "    <tr>\n",
       "      <th>4</th>\n",
       "      <td>4</td>\n",
       "      <td>-9223121837663643404</td>\n",
       "      <td>1462452127</td>\n",
       "      <td>VIEW</td>\n",
       "      <td>-8949113594875411859</td>\n",
       "      <td>-3673331845456357462</td>\n",
       "      <td>SP</td>\n",
       "      <td>BR</td>\n",
       "      <td>Chrome</td>\n",
       "      <td>Windows</td>\n",
       "      <td>...</td>\n",
       "      <td>False</td>\n",
       "      <td>pc</td>\n",
       "      <td>2016-05-05 09:42:07</td>\n",
       "      <td>2016-05</td>\n",
       "      <td>2804.600000</td>\n",
       "      <td>57</td>\n",
       "      <td>7731.537427</td>\n",
       "      <td>440697.633333</td>\n",
       "      <td>Brazil</td>\n",
       "      <td>BR-SP</td>\n",
       "    </tr>\n",
       "  </tbody>\n",
       "</table>\n",
       "<p>5 rows × 26 columns</p>\n",
       "</div>"
      ],
      "text/plain": [
       "   Unnamed: 0             personId   timestamp eventType            contentId  \\\n",
       "0           0 -9223121837663643404  1461322785      VIEW -5781461435447152359   \n",
       "1           1 -9223121837663643404  1461322815      VIEW  7229629480273331039   \n",
       "2           2 -9223121837663643404  1461778829      VIEW -6484638837208285334   \n",
       "3           3 -9223121837663643404  1462283851      VIEW  -730957269757756529   \n",
       "4           4 -9223121837663643404  1462452127      VIEW -8949113594875411859   \n",
       "\n",
       "             sessionId userRegion userCountry browser       so  \\\n",
       "0  6207458156008176463         SP          BR  Chrome  Windows   \n",
       "1  6207458156008176463         SP          BR  Chrome  Windows   \n",
       "2  3718281880049969488         SP          BR  Chrome  Windows   \n",
       "3  2625340673871268120         SP          BR  Chrome  Windows   \n",
       "4 -3673331845456357462         SP          BR  Chrome  Windows   \n",
       "\n",
       "         ...        nativeMobile  device_group             datetime    month  \\\n",
       "0        ...               False            pc  2016-04-22 07:59:45  2016-04   \n",
       "1        ...               False            pc  2016-04-22 08:00:15  2016-04   \n",
       "2        ...               False            pc  2016-04-27 14:40:29  2016-04   \n",
       "3        ...               False            pc  2016-05-03 10:57:31  2016-05   \n",
       "4        ...               False            pc  2016-05-05 09:42:07  2016-05   \n",
       "\n",
       "  interval_interact count  mean_interval_time sum_interval_time countryName  \\\n",
       "0          0.000000    57         7731.537427     440697.633333      Brazil   \n",
       "1          0.500000    57         7731.537427     440697.633333      Brazil   \n",
       "2       7600.233333    57         7731.537427     440697.633333      Brazil   \n",
       "3       8417.033333    57         7731.537427     440697.633333      Brazil   \n",
       "4       2804.600000    57         7731.537427     440697.633333      Brazil   \n",
       "\n",
       "  userCountryRegion  \n",
       "0             BR-SP  \n",
       "1             BR-SP  \n",
       "2             BR-SP  \n",
       "3             BR-SP  \n",
       "4             BR-SP  \n",
       "\n",
       "[5 rows x 26 columns]"
      ]
     },
     "execution_count": 305,
     "metadata": {},
     "output_type": "execute_result"
    }
   ],
   "source": [
    "interactions_df = pd.read_csv('users_interactions_2.csv')\n",
    "interactions_df.head()"
   ]
  },
  {
   "cell_type": "code",
   "execution_count": 306,
   "metadata": {},
   "outputs": [
    {
     "data": {
      "text/plain": [
       "Index(['Unnamed: 0', 'personId', 'timestamp', 'eventType', 'contentId',\n",
       "       'sessionId', 'userRegion', 'userCountry', 'browser', 'so', 'device',\n",
       "       'mobile', 'pc', 'tablet', 'brand', 'model', 'nativeMobile',\n",
       "       'device_group', 'datetime', 'month', 'interval_interact', 'count',\n",
       "       'mean_interval_time', 'sum_interval_time', 'countryName',\n",
       "       'userCountryRegion'],\n",
       "      dtype='object')"
      ]
     },
     "execution_count": 306,
     "metadata": {},
     "output_type": "execute_result"
    }
   ],
   "source": [
    "interactions_df.columns"
   ]
  },
  {
   "cell_type": "code",
   "execution_count": 307,
   "metadata": {},
   "outputs": [],
   "source": [
    "interactions_df = interactions_df.loc[interactions_df['contentId'].isin(articles_df['contentId'])]"
   ]
  },
  {
   "cell_type": "code",
   "execution_count": 308,
   "metadata": {},
   "outputs": [],
   "source": [
    "for c in interactions_df.columns:\n",
    "    if c in lst_convert:\n",
    "        interactions_df[c] = interactions_df[c].astype('category').cat.codes\n",
    "        #articles_df[c] = pd.factorize(articles_df[c])[0]"
   ]
  },
  {
   "cell_type": "markdown",
   "metadata": {
    "_cell_guid": "585f81a5-c6ff-4399-bbec-901c41fc7285",
    "_uuid": "6abb0af8474eabb50be7a9e6496bfa75ec1b2bd9"
   },
   "source": [
    "## Data munging"
   ]
  },
  {
   "cell_type": "markdown",
   "metadata": {
    "_cell_guid": "bad1a6c9-0258-4b89-85f9-bec89a523662",
    "_uuid": "84c2e91561d5de6afa7c45c173022193664c770e"
   },
   "source": [
    "As there are different interactions types, we associate them with a weight or strength, assuming that, for example, a comment in an article indicates a higher interest of the user on the item than a like, or than a simple view."
   ]
  },
  {
   "cell_type": "code",
   "execution_count": 309,
   "metadata": {
    "_cell_guid": "3239c376-05b8-4a58-9afc-f6f57f67405f",
    "_uuid": "b06f8c0b082f0ad07bf773a5ad2fae33c1f7acc2"
   },
   "outputs": [],
   "source": [
    "event_type_strength = {\n",
    "   'VIEW': 1.0,\n",
    "   'LIKE': 2., \n",
    "   'BOOKMARK': 2.5, \n",
    "   'FOLLOW': 3,\n",
    "   'COMMENT CREATED': 4,  \n",
    "}\n",
    "\n",
    "interactions_df['eventStrength'] = interactions_df['eventType'].apply(lambda x: event_type_strength[x])"
   ]
  },
  {
   "cell_type": "markdown",
   "metadata": {
    "_cell_guid": "5c92aa80-2926-44db-b358-c4c32de806c4",
    "_uuid": "91100a395fdf4fb20df02c8d248072457c980b5d"
   },
   "source": [
    "Recommender systems have a problem known as ***user cold-start***, in which is hard do provide personalized recommendations for users with none or a very few number of consumed items, due to the lack of information to model their preferences.  \n",
    "For this reason, we are keeping in the dataset only users with at leas 5 interactions."
   ]
  },
  {
   "cell_type": "code",
   "execution_count": 310,
   "metadata": {
    "_cell_guid": "bad1d8ea-9b67-4a47-80c5-87a5e55c4f38",
    "_uuid": "1698c88340183baa7f3ebb8c3b60eaa8e6ca708f"
   },
   "outputs": [
    {
     "name": "stdout",
     "output_type": "stream",
     "text": [
      "# users: 1895\n",
      "# users with at least 10 interactions: 768\n"
     ]
    }
   ],
   "source": [
    "users_interactions_count_df = interactions_df.groupby(['personId', 'contentId']).size().groupby('personId').size()\n",
    "print('# users: %d' % len(users_interactions_count_df))\n",
    "users_with_enough_interactions_df = users_interactions_count_df[users_interactions_count_df >= 10].reset_index()[['personId']]\n",
    "print('# users with at least 10 interactions: %d' % len(users_with_enough_interactions_df))"
   ]
  },
  {
   "cell_type": "code",
   "execution_count": 311,
   "metadata": {
    "_cell_guid": "4e79a418-a9d6-4e01-9f38-9b290a645626",
    "_uuid": "0f428a4c6e76f95de7ea328dc33c6539389ae5f0"
   },
   "outputs": [
    {
     "name": "stdout",
     "output_type": "stream",
     "text": [
      "# of interactions: 57980\n",
      "# of interactions from users with at least 5 interactions: 52784\n"
     ]
    }
   ],
   "source": [
    "print('# of interactions: %d' % len(interactions_df))\n",
    "interactions_from_selected_users_df = interactions_df.merge(users_with_enough_interactions_df, \n",
    "               how = 'right',\n",
    "               left_on = 'personId',\n",
    "               right_on = 'personId')\n",
    "print('# of interactions from users with at least 5 interactions: %d' % len(interactions_from_selected_users_df))"
   ]
  },
  {
   "cell_type": "markdown",
   "metadata": {
    "_cell_guid": "b81f2aae-4672-4ae7-aee5-f2c8f49ed863",
    "_uuid": "db9ae42791a79461ff11a462d142eae3d6c23e88"
   },
   "source": [
    "In Deskdrop, users are allowed to view an article many times, and interact with them in different ways (eg. like or comment). Thus, to model the user interest on a given article, we aggregate all the interactions the user has performed in an item by a weighted sum of interaction type strength and apply a log transformation to smooth the distribution."
   ]
  },
  {
   "cell_type": "code",
   "execution_count": 312,
   "metadata": {
    "_cell_guid": "54c82dd1-1102-4f11-ac6a-7993f8e5e842",
    "_uuid": "dcd64b20b47cf2c365341303ff410626a801f7a6"
   },
   "outputs": [
    {
     "name": "stdout",
     "output_type": "stream",
     "text": [
      "# of unique user/item interactions: 36600\n"
     ]
    },
    {
     "data": {
      "text/html": [
       "<div>\n",
       "<style scoped>\n",
       "    .dataframe tbody tr th:only-of-type {\n",
       "        vertical-align: middle;\n",
       "    }\n",
       "\n",
       "    .dataframe tbody tr th {\n",
       "        vertical-align: top;\n",
       "    }\n",
       "\n",
       "    .dataframe thead th {\n",
       "        text-align: right;\n",
       "    }\n",
       "</style>\n",
       "<table border=\"1\" class=\"dataframe\">\n",
       "  <thead>\n",
       "    <tr style=\"text-align: right;\">\n",
       "      <th></th>\n",
       "      <th>personId</th>\n",
       "      <th>contentId</th>\n",
       "      <th>eventStrength</th>\n",
       "    </tr>\n",
       "  </thead>\n",
       "  <tbody>\n",
       "    <tr>\n",
       "      <th>0</th>\n",
       "      <td>-9223121837663643404</td>\n",
       "      <td>-8949113594875411859</td>\n",
       "      <td>1.000000</td>\n",
       "    </tr>\n",
       "    <tr>\n",
       "      <th>1</th>\n",
       "      <td>-9223121837663643404</td>\n",
       "      <td>-8377626164558006982</td>\n",
       "      <td>1.000000</td>\n",
       "    </tr>\n",
       "    <tr>\n",
       "      <th>2</th>\n",
       "      <td>-9223121837663643404</td>\n",
       "      <td>-8208801367848627943</td>\n",
       "      <td>1.000000</td>\n",
       "    </tr>\n",
       "    <tr>\n",
       "      <th>3</th>\n",
       "      <td>-9223121837663643404</td>\n",
       "      <td>-8187220755213888616</td>\n",
       "      <td>1.000000</td>\n",
       "    </tr>\n",
       "    <tr>\n",
       "      <th>4</th>\n",
       "      <td>-9223121837663643404</td>\n",
       "      <td>-7423191370472335463</td>\n",
       "      <td>3.169925</td>\n",
       "    </tr>\n",
       "  </tbody>\n",
       "</table>\n",
       "</div>"
      ],
      "text/plain": [
       "              personId            contentId  eventStrength\n",
       "0 -9223121837663643404 -8949113594875411859       1.000000\n",
       "1 -9223121837663643404 -8377626164558006982       1.000000\n",
       "2 -9223121837663643404 -8208801367848627943       1.000000\n",
       "3 -9223121837663643404 -8187220755213888616       1.000000\n",
       "4 -9223121837663643404 -7423191370472335463       3.169925"
      ]
     },
     "execution_count": 312,
     "metadata": {},
     "output_type": "execute_result"
    }
   ],
   "source": [
    "def smooth_user_preference(x):\n",
    "    return math.log(1+x, 2)\n",
    "    \n",
    "interactions_full_df = interactions_from_selected_users_df \\\n",
    "                    .groupby(['personId', 'contentId'])['eventStrength'].sum() \\\n",
    "                    .apply(smooth_user_preference).reset_index()\n",
    "print('# of unique user/item interactions: %d' % len(interactions_full_df))\n",
    "interactions_full_df.head() "
   ]
  },
  {
   "cell_type": "markdown",
   "metadata": {
    "_cell_guid": "7db22656-f1b2-4264-b74d-92ef7e03168e",
    "_uuid": "999dac17031a334be5a2245086e9c4655c5e8324"
   },
   "source": [
    "# Evaluation"
   ]
  },
  {
   "cell_type": "markdown",
   "metadata": {
    "_cell_guid": "4c67fc79-fb30-4bb0-837d-a3097bf8b9b4",
    "_uuid": "7951a4fce829b66e1c96ef81fd33b12dac5eae0f"
   },
   "source": [
    "Evaluation is important for machine learning projects, because it allows to compare objectivelly different algorithms and hyperparameter choices for models.  \n",
    "One key aspect of evaluation is to ensure that the trained model generalizes for data it was not trained on, using **Cross-validation** techniques. We are using here a simple cross-validation approach named **holdout**, in which a random data sample (20% in this case) are kept aside in the training process, and exclusively used for evaluation. All evaluation metrics reported here are computed using the **test set**.\n",
    "\n",
    "Ps. A more robust evaluation approach could be to split train and test sets by a reference date, where the train set is composed by all interactions before that date, and the test set are interactions after that date. For the sake of simplicity, we chose the first random approach for this notebook, but you may want to try the second approach to better simulate how the recsys would perform in production predicting \"future\" users interactions."
   ]
  },
  {
   "cell_type": "code",
   "execution_count": 313,
   "metadata": {
    "_cell_guid": "e594a5ef-255a-4d30-9ab2-7cebe12fe798",
    "_uuid": "babda61be5306281b34422dbded67675a0aab17d"
   },
   "outputs": [
    {
     "name": "stdout",
     "output_type": "stream",
     "text": [
      "# interactions on Train set: 29280\n",
      "# interactions on Test set: 7320\n"
     ]
    }
   ],
   "source": [
    "interactions_train_df, interactions_test_df = train_test_split(interactions_full_df,\n",
    "                                   stratify=interactions_full_df['personId'], \n",
    "                                   test_size=0.20,\n",
    "                                   random_state=99)\n",
    "\n",
    "print('# interactions on Train set: %d' % len(interactions_train_df))\n",
    "print('# interactions on Test set: %d' % len(interactions_test_df))"
   ]
  },
  {
   "cell_type": "markdown",
   "metadata": {
    "_cell_guid": "be788cfc-2733-4184-8dfb-24d789e3b7da",
    "_uuid": "9a1ce40c5b2b7f89c2e34a8fce1adbeb0cfabf46"
   },
   "source": [
    "In Recommender Systems, there are a set metrics commonly used for evaluation. We chose to work with **Top-N accuracy metrics**, which evaluates the accuracy of the top recommendations provided to a user, comparing to the items the user has actually interacted in test set.  \n",
    "This evaluation method works as follows:\n",
    "\n",
    "* For each user\n",
    "    * For each item the user has interacted in test set\n",
    "        * Sample 100 other items the user has never interacted.   \n",
    "        Ps. Here we naively assume those non interacted items are not relevant to the user, which might not be true, as the user may simply not be aware of those not interacted items. But let's keep this assumption.\n",
    "        * Ask the recommender model to produce a ranked list of recommended items, from a set composed one interacted item and the 100 non-interacted (\"non-relevant!) items\n",
    "        * Compute the Top-N accuracy metrics for this user and interacted item from the recommendations ranked list\n",
    "* Aggregate the global Top-N accuracy metrics"
   ]
  },
  {
   "cell_type": "markdown",
   "metadata": {
    "_cell_guid": "a6f711db-3848-42de-9cb1-8adbe9fffbbd",
    "_uuid": "cb9da9e9269f20d347c9a7d0320da02f5b5d9cda"
   },
   "source": [
    "The Top-N accuracy metric choosen was **Recall@N** which evaluates whether the interacted item is among the top N items (hit) in the ranked list of 101 recommendations for a user.  \n",
    "Ps. Other popular ranking metrics are **NDCG@N** and **MAP@N**, whose score calculation takes into account the position of the relevant item in the ranked list (max. value if relevant item is in the first position). You can find a reference to implement this metrics in this [post](http://fastml.com/evaluating-recommender-systems/)."
   ]
  },
  {
   "cell_type": "code",
   "execution_count": null,
   "metadata": {},
   "outputs": [],
   "source": []
  },
  {
   "cell_type": "code",
   "execution_count": 314,
   "metadata": {
    "_cell_guid": "5f08b8ac-00c7-43db-89b6-4c6637f92ec5",
    "_uuid": "b97d86eb838b7dc3ce70ce2bc460b37f643fbcbb"
   },
   "outputs": [],
   "source": [
    "#Indexing by personId to speed up the searches during evaluation\n",
    "interactions_full_indexed_df = interactions_full_df.set_index('personId')\n",
    "interactions_train_indexed_df = interactions_train_df.set_index('personId')\n",
    "interactions_test_indexed_df = interactions_test_df.set_index('personId')"
   ]
  },
  {
   "cell_type": "code",
   "execution_count": 315,
   "metadata": {
    "_cell_guid": "3ee4bdf5-fcde-418f-accc-c51421a71d75",
    "_uuid": "4c008550d5312b45c1786407cce587eaf19b565c"
   },
   "outputs": [],
   "source": [
    "def get_items_interacted(person_id, interactions_df):\n",
    "    # Get the user's data and merge in the movie information.\n",
    "    interacted_items = interactions_df.loc[person_id]['contentId']\n",
    "    return set(interacted_items if type(interacted_items) == pd.Series else [interacted_items])"
   ]
  },
  {
   "cell_type": "code",
   "execution_count": 316,
   "metadata": {
    "_cell_guid": "0e0639e7-4041-473d-a090-cd0087ce92c3",
    "_uuid": "c9612b159a8d626fe986586230b829ce2e93aff7"
   },
   "outputs": [],
   "source": [
    "#Top-N accuracy metrics consts\n",
    "EVAL_RANDOM_SAMPLE_NON_INTERACTED_ITEMS = 100\n",
    "#EVAL_RANDOM_SAMPLE_NON_INTERACTED_ITEMS = 50\n",
    "\n",
    "class ModelEvaluator:\n",
    "\n",
    "\n",
    "    def get_not_interacted_items_sample(self, person_id, sample_size, seed=42):\n",
    "        interacted_items = get_items_interacted(person_id, interactions_full_indexed_df)\n",
    "        all_items = set(articles_df['contentId'])\n",
    "        non_interacted_items = all_items - interacted_items\n",
    "\n",
    "        random.seed(seed)\n",
    "        non_interacted_items_sample = random.sample(non_interacted_items, sample_size)\n",
    "        return set(non_interacted_items_sample)\n",
    "\n",
    "    def _verify_hit_top_n(self, item_id, recommended_items, topn):        \n",
    "            try:\n",
    "                index = next(i for i, c in enumerate(recommended_items) if c == item_id)\n",
    "            except:\n",
    "                index = -1\n",
    "            hit = int(index in range(0, topn))\n",
    "            return hit, index\n",
    "\n",
    "    def evaluate_model_for_user(self, model, person_id):\n",
    "        #Getting the items in test set\n",
    "        interacted_values_testset = interactions_test_indexed_df.loc[person_id]\n",
    "        if type(interacted_values_testset['contentId']) == pd.Series:\n",
    "            person_interacted_items_testset = set(interacted_values_testset['contentId'])\n",
    "        else:\n",
    "            person_interacted_items_testset = set([int(interacted_values_testset['contentId'])])  \n",
    "        interacted_items_count_testset = len(person_interacted_items_testset) \n",
    "\n",
    "        items_to_ignore = get_items_interacted(person_id, interactions_train_indexed_df)\n",
    "        \n",
    "        if model.MODEL_NAME != 'LGBM':  \n",
    "            \n",
    "        #Getting a ranked recommendation list from a model for a given user\n",
    "            person_recs_df = model.recommend_items(person_id, items_to_ignore= items_to_ignore, topn=10000000000)\n",
    "\n",
    "            hits_at_5_count = 0\n",
    "            hits_at_10_count = 0\n",
    "            #For each item the user has interacted in test set\n",
    "            for item_id in person_interacted_items_testset:\n",
    "                print('item_id interact ',item_id)\n",
    "                #Getting a random sample (100) items the user has not interacted \n",
    "                #(to represent items that are assumed to be no relevant to the user)\n",
    "                non_interacted_items_sample = self.get_not_interacted_items_sample(person_id, \n",
    "                                                                              sample_size=EVAL_RANDOM_SAMPLE_NON_INTERACTED_ITEMS, \n",
    "                                                                              seed=item_id%(2**32))\n",
    "\n",
    "                #Combining the current interacted item with the 100 random items\n",
    "                items_to_filter_recs = non_interacted_items_sample.union(set([item_id]))\n",
    "\n",
    "                #Filtering only recommendations that are either the interacted item or from a random sample of 100 non-interacted items\n",
    "                valid_recs_df = person_recs_df[person_recs_df['contentId'].isin(items_to_filter_recs)] \n",
    "                #print('evaluation: ',valid_recs_df[['contentId']].head(1))\n",
    "                \n",
    "                valid_recs = valid_recs_df['contentId'].values\n",
    "                #Verifying if the current interacted item is among the Top-N recommended items\n",
    "                hit_at_5, index_at_5 = self._verify_hit_top_n(item_id, valid_recs, 5)\n",
    "                hits_at_5_count += hit_at_5\n",
    "                hit_at_10, index_at_10 = self._verify_hit_top_n(item_id, valid_recs, 10)\n",
    "                hits_at_10_count += hit_at_10\n",
    "\n",
    "        else:\n",
    "           # print('Model LGBM') \n",
    "            \n",
    "            hits_at_5_count = 0\n",
    "            hits_at_10_count = 0\n",
    "            #For each item the user has interacted in test set\n",
    "            i=0\n",
    "            for item_id in person_interacted_items_testset:\n",
    "                #print('person: {}    content: {}'.format(person_id, item_id))\n",
    "\n",
    "\n",
    "                #Getting a random sample (100) items the user has not interacted \n",
    "                #(to represent items that are assumed to be no relevant to the user)\n",
    "                non_interacted_items_sample = self.get_not_interacted_items_sample(person_id, \n",
    "                                                                              sample_size=EVAL_RANDOM_SAMPLE_NON_INTERACTED_ITEMS, \n",
    "                                                                              seed=item_id%(2**32))\n",
    "\n",
    "                #Combining the current interacted item with the 100 random items\n",
    "                items_to_filter_recs = non_interacted_items_sample.union(set([item_id]))\n",
    "                #print(items_to_filter_recs)\n",
    "                person_recs_df = model.recommend_items(person_id, items_to_filter_recs, items_to_ignore= items_to_ignore, topn=10)\n",
    "\n",
    "                #Filtering only recommendations that are either the interacted item or from a random sample of 100 non-interacted items\n",
    "                valid_recs_df = person_recs_df[person_recs_df['contentId'].isin(items_to_filter_recs)]  \n",
    "                \n",
    "                valid_recs = valid_recs_df['contentId'].values\n",
    "                #Verifying if the current interacted item is among the Top-N recommended items\n",
    "                hit_at_5, index_at_5 = self._verify_hit_top_n(item_id, valid_recs, 5)\n",
    "                hits_at_5_count += hit_at_5\n",
    "                hit_at_10, index_at_10 = self._verify_hit_top_n(item_id, valid_recs, 10)\n",
    "                hits_at_10_count += hit_at_10            \n",
    "                \n",
    "                #print('Recall@5: ',(hits_at_5_count / float(i)))\n",
    "                #print('Recall@10: ',(hits_at_10_count / float(i)))           \n",
    "            \n",
    "        #Recall is the rate of the interacted items that are ranked among the Top-N recommended items, \n",
    "        #when mixed with a set of non-relevant items\n",
    "        recall_at_5 = hits_at_5_count / float(interacted_items_count_testset)\n",
    "        recall_at_10 = hits_at_10_count / float(interacted_items_count_testset)\n",
    "\n",
    "        person_metrics = {'hits@5_count':hits_at_5_count, \n",
    "                          'hits@10_count':hits_at_10_count, \n",
    "                          'interacted_count': interacted_items_count_testset,\n",
    "                          'recall@5': recall_at_5,\n",
    "                          'recall@10': recall_at_10}\n",
    "        return person_metrics\n",
    "\n",
    "    def evaluate_model(self, model):\n",
    "        #print('Running evaluation for users')\n",
    "        people_metrics = []\n",
    "        i=0\n",
    "        print('tamanho users: ',len(list(interactions_test_indexed_df.index.unique().values)))\n",
    "        #for idx, person_id in enumerate(list(interactions_test_indexed_df.index.unique().values)):\n",
    "        for idx, person_id in enumerate(list(interactions_test_indexed_df.index.unique().values)):\n",
    "            i=i+1\n",
    "            if (i%50 == 0) and i>49:\n",
    "                print('Iteração ', i)            \n",
    "            #if idx % 100 == 0 and idx > 0:\n",
    "            #    print('%d users processed' % idx)\n",
    "            person_metrics = self.evaluate_model_for_user(model, person_id)  \n",
    "            person_metrics['_person_id'] = person_id\n",
    "            people_metrics.append(person_metrics)\n",
    "        print('%d users processed' % idx)\n",
    "\n",
    "        detailed_results_df = pd.DataFrame(people_metrics) \\\n",
    "                            .sort_values('interacted_count', ascending=False)\n",
    "        \n",
    "        global_recall_at_5 = detailed_results_df['hits@5_count'].sum() / float(detailed_results_df['interacted_count'].sum())\n",
    "        global_recall_at_10 = detailed_results_df['hits@10_count'].sum() / float(detailed_results_df['interacted_count'].sum())\n",
    "    \n",
    "        global_metrics = {'modelName': model.get_model_name(),\n",
    "                          'recall@5': global_recall_at_5,\n",
    "                          'recall@10': global_recall_at_10}    \n",
    "        #print(detailed_results_df)\n",
    "        return global_metrics, detailed_results_df\n",
    "    \n",
    "model_evaluator = ModelEvaluator()    "
   ]
  },
  {
   "cell_type": "code",
   "execution_count": 317,
   "metadata": {},
   "outputs": [],
   "source": [
    "#interactions_test_indexed_df.head(10).index.unique().values"
   ]
  },
  {
   "cell_type": "markdown",
   "metadata": {},
   "source": [
    "# LightGBM model"
   ]
  },
  {
   "cell_type": "markdown",
   "metadata": {},
   "source": [
    "### TF-IDF Itens"
   ]
  },
  {
   "cell_type": "code",
   "execution_count": 318,
   "metadata": {},
   "outputs": [],
   "source": [
    "train_articles_df = articles_df.loc[articles_df['contentId'].isin(interactions_train_df['contentId'])]\n",
    "#test_articles_df = articles_df.loc[articles_df['contentId'].isin(interactions_test_df['contentId'])]"
   ]
  },
  {
   "cell_type": "code",
   "execution_count": 319,
   "metadata": {},
   "outputs": [],
   "source": [
    "#Ignoring stopwords (words with no semantics) from English and Portuguese (as we have a corpus with mixed languages)\n",
    "stopwords_list = stopwords.words('english') + stopwords.words('portuguese')\n",
    "\n",
    "#Trains a model whose vectors size is 5000, composed by the main unigrams and bigrams found in the corpus, ignoring stopwords\n",
    "vectorizer = TfidfVectorizer(analyzer='word',\n",
    "                     ngram_range=(1, 2),\n",
    "                     min_df=0.003,\n",
    "                     max_df=0.5,\n",
    "                     max_features=500,\n",
    "                     stop_words=stopwords_list)\n",
    "\n",
    "\n",
    "tfidf_fit = vectorizer.fit(train_articles_df['title'] + \"\" + train_articles_df['text'])\n",
    "tfidf_feature_names = vectorizer.get_feature_names()"
   ]
  },
  {
   "cell_type": "markdown",
   "metadata": {},
   "source": [
    "### Aqui faria um método para formar a base de treino e teste"
   ]
  },
  {
   "cell_type": "code",
   "execution_count": 320,
   "metadata": {},
   "outputs": [],
   "source": [
    "def df_tfidf(articles_df):\n",
    "    item_ids = articles_df['contentId'].tolist()    \n",
    "    #print(\"=============================\",item_ids.index(6989198691754522425))    \n",
    "    tfidf_matrix = tfidf_fit.transform(articles_df['title'] + \"\" + articles_df['text'])\n",
    "    \n",
    "    #tfidf_matrix\n",
    "\n",
    "    df_tfidf_matrix = pd.DataFrame(tfidf_matrix.toarray())\n",
    "\n",
    "    #lst_item_cols = ['contentId','authorPersonId','authorRegion','authorCountry','urlDomain']\n",
    "    #lst_item_cols = ['contentId']\n",
    "    lst_item_cols.append('contentId')\n",
    "    \n",
    "    df_articles_tfidf = pd.concat([articles_df[lst_item_cols], df_tfidf_matrix.set_index(articles_df.index)], axis=1)\n",
    "        \n",
    "    item_cols = lst_item_cols + tfidf_feature_names\n",
    "\n",
    "    for idx, c in enumerate(item_cols):\n",
    "        if c != 'contentId':\n",
    "            item_cols[idx] = 'item_'+str(c)\n",
    "\n",
    "    df_articles_tfidf.columns = item_cols\n",
    "\n",
    "    #df_articles_tfidf = pd.get_dummies(df_articles_tfidf)\n",
    "    df_articles_tfidf.set_index('contentId', inplace=True)\n",
    "    \n",
    "    return df_articles_tfidf, item_ids, tfidf_matrix "
   ]
  },
  {
   "cell_type": "code",
   "execution_count": 321,
   "metadata": {},
   "outputs": [],
   "source": [
    "train_df_articles_tfidf, train_items_ids, train_tfidf_matrix = df_tfidf(train_articles_df)"
   ]
  },
  {
   "cell_type": "code",
   "execution_count": 322,
   "metadata": {},
   "outputs": [],
   "source": [
    "#test_df_articles_tfidf, test_items_ids, test_tfidf_matrix = df_tfidf(test_articles_df)"
   ]
  },
  {
   "cell_type": "code",
   "execution_count": 323,
   "metadata": {},
   "outputs": [
    {
     "data": {
      "text/plain": [
       "(2908, 502)"
      ]
     },
     "execution_count": 323,
     "metadata": {},
     "output_type": "execute_result"
    }
   ],
   "source": [
    "train_df_articles_tfidf.shape"
   ]
  },
  {
   "cell_type": "code",
   "execution_count": 324,
   "metadata": {},
   "outputs": [],
   "source": [
    "#test_df_articles_tfidf.shape"
   ]
  },
  {
   "cell_type": "markdown",
   "metadata": {},
   "source": [
    "### CRIAÇÃO DA BASE DE DADOS COM USUÁRIOS"
   ]
  },
  {
   "cell_type": "markdown",
   "metadata": {},
   "source": [
    "#### Código para capturar os itens do tf-idf de cada usuário e calcular a média ponderada com base no eventstrength"
   ]
  },
  {
   "cell_type": "code",
   "execution_count": 325,
   "metadata": {},
   "outputs": [],
   "source": [
    "#7229629480273331039"
   ]
  },
  {
   "cell_type": "code",
   "execution_count": 326,
   "metadata": {},
   "outputs": [],
   "source": [
    "#item_ids.index(1120323498091467525)"
   ]
  },
  {
   "cell_type": "code",
   "execution_count": 327,
   "metadata": {},
   "outputs": [],
   "source": [
    "#tfidf_matrix[1179326165172129711:1179326165172129711+1]"
   ]
  },
  {
   "cell_type": "code",
   "execution_count": 328,
   "metadata": {},
   "outputs": [],
   "source": [
    "#lst_user_cols = ['userRegion','userCountry','so','device_group']\n",
    "#lst_user_cols = ['userCountry']"
   ]
  },
  {
   "cell_type": "code",
   "execution_count": 329,
   "metadata": {},
   "outputs": [],
   "source": [
    "def get_item_profile(item_id, tfidf_matrix, item_ids):\n",
    "    \n",
    "    #print(item_id)\n",
    "    #print('------------')\n",
    "    #print(item_ids)\n",
    "    idx = item_ids.index(item_id)\n",
    "    item_profile = tfidf_matrix[idx:idx+1]\n",
    "    return item_profile\n",
    "\n",
    "def get_item_profiles(ids, tfidf_matrix, item_ids):\n",
    "    #print(ids)\n",
    "    item_profiles_list = [get_item_profile(x, tfidf_matrix, item_ids) for x in ids]\n",
    "    #print(item_profiles_list)\n",
    "    item_profiles = scipy.sparse.vstack(item_profiles_list)\n",
    "    return item_profiles\n",
    "\n",
    "def build_users_profile(person_id, interactions_indexed_df, interactions_indexed_mode_df, tfidf_matrix, item_ids):\n",
    "    interactions_person_df = interactions_indexed_df.loc[[person_id]]\n",
    "    #print(interactions_person_df.head())\n",
    "    #print(interactions_person_df['contentId'])\n",
    "    user_item_profiles = get_item_profiles(interactions_person_df['contentId'], tfidf_matrix,  item_ids)\n",
    "    \n",
    "    user_item_strengths = np.array(interactions_person_df['eventStrength']).reshape(-1,1)\n",
    "    \n",
    "    #print(user_item_strengths.shape)\n",
    "    #print(user_item_profiles.shape)\n",
    "    #print(np.sum(user_item_strengths).shape)\n",
    "    \n",
    "    #print(np.array(interactions_person_df['eventStrength']).reshape(-1,1))\n",
    "    #Weighted average of item profiles by the interactions strength\n",
    "    user_item_strengths_weighted_avg = np.sum(user_item_profiles.multiply(user_item_strengths), axis=0) / np.sum(user_item_strengths)\n",
    "    user_profile_norm = sklearn.preprocessing.normalize(user_item_strengths_weighted_avg)\n",
    "    \n",
    "    #cosine_similarity(user_profile_norm,user_item_strengths_weighted_avg).flatten()\n",
    "    \n",
    "    #interactions_indexed_mode_df[['userCountry']].loc[-9223121837663643404].mode()\n",
    "    user_profile_mode = interactions_indexed_mode_df[lst_user_cols].loc[person_id].mode().head(1) #verificar porque alguns casos mostram mais de uma moda\n",
    "    \n",
    "    \n",
    "    return user_profile_mode, user_profile_norm\n",
    "\n",
    "def build_users_profiles(interactions_df, tfidf_matrix, item_ids): \n",
    "\n",
    "    interactions_indexed_mode_df = interactions_from_selected_users_df.loc[ \\\n",
    "                                     (interactions_from_selected_users_df['personId'].astype('str')+ \\\n",
    "                                      interactions_from_selected_users_df['contentId'].astype('str')) \\\n",
    "                                     .isin(interactions_df['personId'].astype('str')+ \\\n",
    "                                           interactions_df['contentId'].astype('str'))].set_index('personId')\n",
    "    #print(interactions_indexed_mode_df)\n",
    "    interactions_indexed_df = interactions_full_df.loc[ \\\n",
    "                                     (interactions_full_df['personId'].astype('str')+ \\\n",
    "                                      interactions_full_df['contentId'].astype('str')) \\\n",
    "                                     .isin(interactions_df['personId'].astype('str')+ \\\n",
    "                                           interactions_df['contentId'].astype('str'))].set_index('personId')\n",
    "    user_profiles = {}\n",
    "    for person_id in interactions_indexed_df.index.unique():\n",
    "        mode, tfidf = build_users_profile(person_id, interactions_indexed_df, interactions_indexed_mode_df, tfidf_matrix, item_ids)\n",
    "        infos = np.append(np.array(mode),tfidf.flatten())\n",
    "        user_profiles[person_id] = infos\n",
    "        #Printar os casos em que a moda retorna mais de uma linha\n",
    "        #if np.array(mode).size > 4:\n",
    "        #    print(person_id)\n",
    "        #    print(np.array(mode))\n",
    "        \n",
    "    df_user = pd.DataFrame.from_dict(user_profiles, orient='index') \n",
    "    user_cols = lst_user_cols + tfidf_feature_names\n",
    "    #user_cols = tfidf_feature_names\n",
    "    \n",
    "    for idx, c in enumerate(user_cols):\n",
    "        user_cols[idx] = 'usr_'+str(c)\n",
    "        \n",
    "    df_user.columns = user_cols\n",
    "    #df_user = pd.get_dummies(df_user)\n",
    "    \n",
    "    return df_user#, np.array(mode), tfidf.flatten()"
   ]
  },
  {
   "cell_type": "code",
   "execution_count": 330,
   "metadata": {},
   "outputs": [],
   "source": [
    "pd.set_option('max_colwidth', 800)"
   ]
  },
  {
   "cell_type": "code",
   "execution_count": 331,
   "metadata": {},
   "outputs": [
    {
     "data": {
      "text/plain": [
       "768"
      ]
     },
     "execution_count": 331,
     "metadata": {},
     "output_type": "execute_result"
    }
   ],
   "source": [
    "train_df_user = build_users_profiles(interactions_train_df, train_tfidf_matrix, train_items_ids)\n",
    "len(train_df_user)"
   ]
  },
  {
   "cell_type": "code",
   "execution_count": 332,
   "metadata": {},
   "outputs": [
    {
     "data": {
      "text/plain": [
       "(2908, 500)"
      ]
     },
     "execution_count": 332,
     "metadata": {},
     "output_type": "execute_result"
    }
   ],
   "source": [
    "train_tfidf_matrix.shape"
   ]
  },
  {
   "cell_type": "code",
   "execution_count": 333,
   "metadata": {},
   "outputs": [],
   "source": [
    "#test_df_user = build_users_profiles(interactions_test_df, test_tfidf_matrix, test_items_ids)\n",
    "#len(test_df_user)"
   ]
  },
  {
   "cell_type": "code",
   "execution_count": 334,
   "metadata": {},
   "outputs": [],
   "source": [
    "#test_tfidf_matrix.shape"
   ]
  },
  {
   "cell_type": "markdown",
   "metadata": {},
   "source": [
    "## Concatenando as bases interação, user e artigo"
   ]
  },
  {
   "cell_type": "code",
   "execution_count": 335,
   "metadata": {},
   "outputs": [],
   "source": [
    "def build_interactions_profiles(df_user, interactions_indexed_df, df_articles_tfidf):\n",
    "    array_users = df_user.reset_index()['index'].values#[:2]\n",
    "\n",
    "    df_interactions_indexed = interactions_indexed_df[['contentId']].join(df_user).reset_index()\n",
    "\n",
    "    df_interactions_indexed = df_interactions_indexed.set_index('contentId').join(df_articles_tfidf).reset_index()\n",
    "    \n",
    "    df_interactions_indexed.rename(columns={'index':'personId'}, inplace=True)\n",
    "    \n",
    "    \n",
    "    \n",
    "    return df_interactions_indexed"
   ]
  },
  {
   "cell_type": "code",
   "execution_count": 336,
   "metadata": {},
   "outputs": [],
   "source": [
    "df_interactions_train_indexed = build_interactions_profiles(train_df_user, interactions_train_indexed_df, train_df_articles_tfidf)"
   ]
  },
  {
   "cell_type": "code",
   "execution_count": 337,
   "metadata": {},
   "outputs": [
    {
     "data": {
      "text/plain": [
       "(29280, 1006)"
      ]
     },
     "execution_count": 337,
     "metadata": {},
     "output_type": "execute_result"
    }
   ],
   "source": [
    "df_interactions_train_indexed.shape"
   ]
  },
  {
   "cell_type": "code",
   "execution_count": 338,
   "metadata": {},
   "outputs": [],
   "source": [
    "df_interactions_train_indexed.set_index('personId', inplace=True)"
   ]
  },
  {
   "cell_type": "code",
   "execution_count": 339,
   "metadata": {},
   "outputs": [],
   "source": [
    "df_interactions_train_indexed['y'] = 1"
   ]
  },
  {
   "cell_type": "markdown",
   "metadata": {},
   "source": [
    "# TODOS OS PROCESSAMENTOS FEITOS NO NOTEBOOK PARA A BASE DE TESTE DEVEM SER FEITOS NO MÉTODO DE RECOMENDAÇÃO PARA CADA CONJUNTO DE 101 ITENS"
   ]
  },
  {
   "cell_type": "code",
   "execution_count": 340,
   "metadata": {},
   "outputs": [],
   "source": [
    "#df_interactions_test_indexed = build_interactions_profiles(test_df_user, interactions_test_indexed_df, test_df_articles_tfidf)"
   ]
  },
  {
   "cell_type": "code",
   "execution_count": 341,
   "metadata": {},
   "outputs": [],
   "source": [
    "#df_interactions_test_indexed.shape"
   ]
  },
  {
   "cell_type": "code",
   "execution_count": 342,
   "metadata": {},
   "outputs": [],
   "source": [
    "#df_test_interactions_cols = df_interactions_test_indexed.columns"
   ]
  },
  {
   "cell_type": "code",
   "execution_count": null,
   "metadata": {},
   "outputs": [],
   "source": []
  },
  {
   "cell_type": "markdown",
   "metadata": {},
   "source": [
    "#### DF NON INTERACTIONS"
   ]
  },
  {
   "cell_type": "code",
   "execution_count": 343,
   "metadata": {},
   "outputs": [],
   "source": [
    "def get_items_interacted(person_id, interactions_df):\n",
    "    # Get the user's data and merge in the movie information.\n",
    "    interacted_items = interactions_df.loc[person_id]['contentId']\n",
    "    return set(interacted_items if type(interacted_items) == pd.Series else [interacted_items])"
   ]
  },
  {
   "cell_type": "code",
   "execution_count": 344,
   "metadata": {},
   "outputs": [],
   "source": [
    "def get_not_interacted_items_sample(person_id, interacted_items, all_items_list, sample_size, seed=42):\n",
    "    #interacted_items = get_items_interacted(person_id, df_interactions_indexed)\n",
    "    #sample_size = len(interacted_items)\n",
    "    #if sample_size <= 10:\n",
    "    #    sample_size = 11\n",
    "    sample_size = 20\n",
    "    \n",
    "    all_items = set(all_items_list)\n",
    "    non_interacted_items = all_items - interacted_items\n",
    "\n",
    "    random.seed(seed)\n",
    "    non_interacted_items_sample = random.sample(non_interacted_items, sample_size)\n",
    "    return non_interacted_items_sample\n",
    "    #return set(non_interacted_items_sample)"
   ]
  },
  {
   "cell_type": "code",
   "execution_count": 345,
   "metadata": {},
   "outputs": [],
   "source": [
    "def build_df_train_test(df_interactions_indexed, df_articles_tfidf, df_user):\n",
    "    array_users = np.unique(df_interactions_indexed.index.values)#[:100]\n",
    "\n",
    "    df_non_interactions_10 = pd.DataFrame()\n",
    "    nparray = np.empty((1, df_interactions_indexed.shape[1]), dtype=int)\n",
    "\n",
    "    i=0\n",
    "    for personId in array_users:\n",
    "\n",
    "        interacted_items = df_interactions_indexed.loc[personId]['contentId']\n",
    "        interacted_items = set(interacted_items if type(interacted_items) == pd.Series else [interacted_items])\n",
    "\n",
    "        non_interacted_items_sample = get_not_interacted_items_sample(personId, interacted_items, list(df_articles_tfidf.index), sample_size=1,seed=44)\n",
    "        non_interacted_items_size = len(non_interacted_items_sample)\n",
    "        i_df = df_articles_tfidf.loc[non_interacted_items_sample]\n",
    "        data = list(i_df.index)\n",
    "        \n",
    "        i_df.reset_index(inplace=True, drop=True)\n",
    "\n",
    "        u = df_user.loc[[personId]]\n",
    "        u_df = pd.concat([u]*non_interacted_items_size, ignore_index=True)\n",
    "        #u_df2 = pd.DataFrame(data = (list(personId)*non_interacted_items_size), columns=['personId'])\n",
    "\n",
    "        #data = non_interacted_items_sample\n",
    "        #data = list(df_articles_tfidf.index)\n",
    "        \n",
    "        ui_df = pd.DataFrame(data = data, columns=['contentId'])\n",
    "        ui_df.insert(loc=0, column='personId', value=personId)\n",
    "        #print(\"--- %s df ---\" % (time.time() - start_time))\n",
    "        #print(df_non_interactions_10.append(pd.concat((ui_df,u_df,i_df),axis=1), sort=False) )\n",
    "\n",
    "        #start_time = time.time()\n",
    "        #df_non_interactions_10 = df_non_interactions_10.append(pd.concat((ui_df,u_df,i_df),axis=1), sort=False)\n",
    "        #x = pd.concat((ui_df,u_df,i_df),axis=1)\n",
    "        #df_non_interactions_10 = x.append(df_non_interactions_10, sort=False)\n",
    "        #print(\"--- %appends seconds ---\" % (time.time() - start_time))    \n",
    "\n",
    "\n",
    "        #start_time = time.time()\n",
    "       # nparray = pd.concat((ui_df,u_df,i_df),axis=1).values\n",
    "        df_concat = pd.concat((ui_df,u_df,i_df),axis=1)\n",
    "        \n",
    "        nparray = np.concatenate((nparray,np.array(df_concat.values)), axis=0)\n",
    "        #nparray = np.concatenate((nparray,np.array(pd.concat((ui_df,u_df),axis=1).values)), axis=0)\n",
    "        #print(\"--- %appends seconds ---\" % (time.time() - start_time))\n",
    "        i=i+1\n",
    "        if (i%500 == 0) and i>499:\n",
    "            print('Iteração ', i)\n",
    "\n",
    "\n",
    "    df_non_interactions_10 = pd.DataFrame(nparray)\n",
    "\n",
    "    cols = df_concat.columns\n",
    "    df_non_interactions_10.columns = cols\n",
    "    df_non_interactions_10['y'] = 0\n",
    "\n",
    "    #drop na primeira linha que foi criada\n",
    "    df_non_interactions_10.drop(df_non_interactions_10.index[0], inplace=True)\n",
    "\n",
    "    df_non_interactions_10['contentId'] = df_non_interactions_10['contentId'].astype('int64')\n",
    "    df_non_interactions_10['personId'] = df_non_interactions_10['contentId'].astype('int64')\n",
    "\n",
    "\n",
    "    df_non_interactions_10.set_index('personId', inplace=True)\n",
    "\n",
    "    ### CONCATENANDO INTERACTIONS E NON_INTERACTIONS\n",
    "    #df_interactions_indexed.rename(columns={'index':'personId'}, inplace=True)\n",
    "\n",
    "    df_interactions_and_non = pd.concat((df_interactions_indexed,df_non_interactions_10), sort=False)\n",
    "\n",
    "    df_interactions_and_non = df_interactions_and_non.fillna(0)\n",
    "    df_interactions_and_non.reset_index(inplace=True)\n",
    "\n",
    "    #y = df_interactions_and_non['y']\n",
    "\n",
    "    #return X, y\n",
    "    return df_interactions_and_non\n",
    "    "
   ]
  },
  {
   "cell_type": "code",
   "execution_count": 346,
   "metadata": {},
   "outputs": [],
   "source": [
    "#%%time\n",
    "#test_df_interactions_and_non = build_df_train_test(df_interactions_test_indexed)"
   ]
  },
  {
   "cell_type": "code",
   "execution_count": 347,
   "metadata": {},
   "outputs": [],
   "source": [
    "#del df_interactions_test_indexed"
   ]
  },
  {
   "cell_type": "code",
   "execution_count": 348,
   "metadata": {},
   "outputs": [],
   "source": [
    "#test_df_interactions_and_non.shape\n",
    "#(17266, 11109)"
   ]
  },
  {
   "cell_type": "code",
   "execution_count": 349,
   "metadata": {},
   "outputs": [],
   "source": [
    "#test_df_interactions_and_non.to_csv('test_df_interactions_and_non.csv', sep=';')"
   ]
  },
  {
   "cell_type": "code",
   "execution_count": 350,
   "metadata": {},
   "outputs": [],
   "source": [
    "#del test_df_interactions_and_non"
   ]
  },
  {
   "cell_type": "code",
   "execution_count": 351,
   "metadata": {},
   "outputs": [
    {
     "name": "stdout",
     "output_type": "stream",
     "text": [
      "Iteração  500\n",
      "Wall time: 48.3 s\n"
     ]
    }
   ],
   "source": [
    "%%time\n",
    "train_df_interactions_and_non = build_df_train_test(df_interactions_train_indexed, train_df_articles_tfidf, train_df_user)"
   ]
  },
  {
   "cell_type": "code",
   "execution_count": 352,
   "metadata": {
    "scrolled": true
   },
   "outputs": [
    {
     "data": {
      "text/html": [
       "<div>\n",
       "<style scoped>\n",
       "    .dataframe tbody tr th:only-of-type {\n",
       "        vertical-align: middle;\n",
       "    }\n",
       "\n",
       "    .dataframe tbody tr th {\n",
       "        vertical-align: top;\n",
       "    }\n",
       "\n",
       "    .dataframe thead th {\n",
       "        text-align: right;\n",
       "    }\n",
       "</style>\n",
       "<table border=\"1\" class=\"dataframe\">\n",
       "  <thead>\n",
       "    <tr style=\"text-align: right;\">\n",
       "      <th></th>\n",
       "      <th>personId</th>\n",
       "      <th>contentId</th>\n",
       "      <th>usr_userRegion</th>\n",
       "      <th>usr_userCountry</th>\n",
       "      <th>usr_000</th>\n",
       "      <th>usr_10</th>\n",
       "      <th>usr_100</th>\n",
       "      <th>usr_20</th>\n",
       "      <th>usr_2015</th>\n",
       "      <th>usr_2016</th>\n",
       "      <th>...</th>\n",
       "      <th>item_work</th>\n",
       "      <th>item_working</th>\n",
       "      <th>item_works</th>\n",
       "      <th>item_world</th>\n",
       "      <th>item_would</th>\n",
       "      <th>item_write</th>\n",
       "      <th>item_year</th>\n",
       "      <th>item_years</th>\n",
       "      <th>item_yet</th>\n",
       "      <th>y</th>\n",
       "    </tr>\n",
       "  </thead>\n",
       "  <tbody>\n",
       "    <tr>\n",
       "      <th>0</th>\n",
       "      <td>-6944500707172804068</td>\n",
       "      <td>-9222795471790223670</td>\n",
       "      <td>65.0</td>\n",
       "      <td>2.0</td>\n",
       "      <td>0.034373</td>\n",
       "      <td>0.047248</td>\n",
       "      <td>0.034609</td>\n",
       "      <td>0.048462</td>\n",
       "      <td>0.054358</td>\n",
       "      <td>0.082165</td>\n",
       "      <td>...</td>\n",
       "      <td>0.00000</td>\n",
       "      <td>0.0</td>\n",
       "      <td>0.000000</td>\n",
       "      <td>0.0</td>\n",
       "      <td>0.000000</td>\n",
       "      <td>0.0</td>\n",
       "      <td>0.0</td>\n",
       "      <td>0.0</td>\n",
       "      <td>0.000000</td>\n",
       "      <td>1</td>\n",
       "    </tr>\n",
       "    <tr>\n",
       "      <th>1</th>\n",
       "      <td>-5868110530814399805</td>\n",
       "      <td>-9222795471790223670</td>\n",
       "      <td>65.0</td>\n",
       "      <td>2.0</td>\n",
       "      <td>0.041621</td>\n",
       "      <td>0.051015</td>\n",
       "      <td>0.020749</td>\n",
       "      <td>0.029878</td>\n",
       "      <td>0.053656</td>\n",
       "      <td>0.051659</td>\n",
       "      <td>...</td>\n",
       "      <td>0.00000</td>\n",
       "      <td>0.0</td>\n",
       "      <td>0.000000</td>\n",
       "      <td>0.0</td>\n",
       "      <td>0.000000</td>\n",
       "      <td>0.0</td>\n",
       "      <td>0.0</td>\n",
       "      <td>0.0</td>\n",
       "      <td>0.000000</td>\n",
       "      <td>1</td>\n",
       "    </tr>\n",
       "    <tr>\n",
       "      <th>2</th>\n",
       "      <td>-1032019229384696495</td>\n",
       "      <td>-9222795471790223670</td>\n",
       "      <td>49.0</td>\n",
       "      <td>21.0</td>\n",
       "      <td>0.048907</td>\n",
       "      <td>0.040844</td>\n",
       "      <td>0.020010</td>\n",
       "      <td>0.024346</td>\n",
       "      <td>0.024997</td>\n",
       "      <td>0.036986</td>\n",
       "      <td>...</td>\n",
       "      <td>0.00000</td>\n",
       "      <td>0.0</td>\n",
       "      <td>0.000000</td>\n",
       "      <td>0.0</td>\n",
       "      <td>0.000000</td>\n",
       "      <td>0.0</td>\n",
       "      <td>0.0</td>\n",
       "      <td>0.0</td>\n",
       "      <td>0.000000</td>\n",
       "      <td>1</td>\n",
       "    </tr>\n",
       "    <tr>\n",
       "      <th>3</th>\n",
       "      <td>1895326251577378793</td>\n",
       "      <td>-9222795471790223670</td>\n",
       "      <td>65.0</td>\n",
       "      <td>2.0</td>\n",
       "      <td>0.024428</td>\n",
       "      <td>0.026947</td>\n",
       "      <td>0.031152</td>\n",
       "      <td>0.036602</td>\n",
       "      <td>0.081479</td>\n",
       "      <td>0.076514</td>\n",
       "      <td>...</td>\n",
       "      <td>0.00000</td>\n",
       "      <td>0.0</td>\n",
       "      <td>0.000000</td>\n",
       "      <td>0.0</td>\n",
       "      <td>0.000000</td>\n",
       "      <td>0.0</td>\n",
       "      <td>0.0</td>\n",
       "      <td>0.0</td>\n",
       "      <td>0.000000</td>\n",
       "      <td>1</td>\n",
       "    </tr>\n",
       "    <tr>\n",
       "      <th>4</th>\n",
       "      <td>2833428826475063405</td>\n",
       "      <td>-9216926795620865886</td>\n",
       "      <td>65.0</td>\n",
       "      <td>2.0</td>\n",
       "      <td>0.030545</td>\n",
       "      <td>0.047712</td>\n",
       "      <td>0.020293</td>\n",
       "      <td>0.030902</td>\n",
       "      <td>0.046305</td>\n",
       "      <td>0.031688</td>\n",
       "      <td>...</td>\n",
       "      <td>0.16966</td>\n",
       "      <td>0.0</td>\n",
       "      <td>0.079689</td>\n",
       "      <td>0.0</td>\n",
       "      <td>0.117156</td>\n",
       "      <td>0.0</td>\n",
       "      <td>0.0</td>\n",
       "      <td>0.0</td>\n",
       "      <td>0.038502</td>\n",
       "      <td>1</td>\n",
       "    </tr>\n",
       "  </tbody>\n",
       "</table>\n",
       "<p>5 rows × 1007 columns</p>\n",
       "</div>"
      ],
      "text/plain": [
       "              personId            contentId  usr_userRegion  usr_userCountry  \\\n",
       "0 -6944500707172804068 -9222795471790223670            65.0              2.0   \n",
       "1 -5868110530814399805 -9222795471790223670            65.0              2.0   \n",
       "2 -1032019229384696495 -9222795471790223670            49.0             21.0   \n",
       "3  1895326251577378793 -9222795471790223670            65.0              2.0   \n",
       "4  2833428826475063405 -9216926795620865886            65.0              2.0   \n",
       "\n",
       "    usr_000    usr_10   usr_100    usr_20  usr_2015  usr_2016 ...  item_work  \\\n",
       "0  0.034373  0.047248  0.034609  0.048462  0.054358  0.082165 ...    0.00000   \n",
       "1  0.041621  0.051015  0.020749  0.029878  0.053656  0.051659 ...    0.00000   \n",
       "2  0.048907  0.040844  0.020010  0.024346  0.024997  0.036986 ...    0.00000   \n",
       "3  0.024428  0.026947  0.031152  0.036602  0.081479  0.076514 ...    0.00000   \n",
       "4  0.030545  0.047712  0.020293  0.030902  0.046305  0.031688 ...    0.16966   \n",
       "\n",
       "   item_working  item_works  item_world  item_would  item_write  item_year  \\\n",
       "0           0.0    0.000000         0.0    0.000000         0.0        0.0   \n",
       "1           0.0    0.000000         0.0    0.000000         0.0        0.0   \n",
       "2           0.0    0.000000         0.0    0.000000         0.0        0.0   \n",
       "3           0.0    0.000000         0.0    0.000000         0.0        0.0   \n",
       "4           0.0    0.079689         0.0    0.117156         0.0        0.0   \n",
       "\n",
       "   item_years  item_yet  y  \n",
       "0         0.0  0.000000  1  \n",
       "1         0.0  0.000000  1  \n",
       "2         0.0  0.000000  1  \n",
       "3         0.0  0.000000  1  \n",
       "4         0.0  0.038502  1  \n",
       "\n",
       "[5 rows x 1007 columns]"
      ]
     },
     "execution_count": 352,
     "metadata": {},
     "output_type": "execute_result"
    }
   ],
   "source": [
    "train_df_interactions_and_non.head()"
   ]
  },
  {
   "cell_type": "code",
   "execution_count": 353,
   "metadata": {},
   "outputs": [],
   "source": [
    "del df_interactions_train_indexed"
   ]
  },
  {
   "cell_type": "code",
   "execution_count": 354,
   "metadata": {},
   "outputs": [
    {
     "data": {
      "text/plain": [
       "(44640, 1007)"
      ]
     },
     "execution_count": 354,
     "metadata": {},
     "output_type": "execute_result"
    }
   ],
   "source": [
    "train_df_interactions_and_non.shape\n",
    "#(44640, 11109)"
   ]
  },
  {
   "cell_type": "code",
   "execution_count": 355,
   "metadata": {},
   "outputs": [],
   "source": [
    "#train_df_interactions_and_non.to_csv('train_df_interactions_and_non.csv', sep=';')"
   ]
  },
  {
   "cell_type": "code",
   "execution_count": 356,
   "metadata": {},
   "outputs": [],
   "source": [
    "#del train_df_interactions_and_non"
   ]
  },
  {
   "cell_type": "code",
   "execution_count": null,
   "metadata": {},
   "outputs": [],
   "source": []
  },
  {
   "cell_type": "code",
   "execution_count": null,
   "metadata": {},
   "outputs": [],
   "source": []
  },
  {
   "cell_type": "code",
   "execution_count": 357,
   "metadata": {},
   "outputs": [],
   "source": [
    "#X_test = test_df_interactions_and_non.drop(['contentId','personId','y'], axis=1)\n",
    "#y_test = test_df_interactions_and_non['y']"
   ]
  },
  {
   "cell_type": "code",
   "execution_count": 375,
   "metadata": {},
   "outputs": [],
   "source": [
    "X_train = train_df_interactions_and_non.drop(['contentId','personId','y'], axis=1)\n",
    "y_train = train_df_interactions_and_non['y']"
   ]
  },
  {
   "cell_type": "code",
   "execution_count": 376,
   "metadata": {},
   "outputs": [
    {
     "data": {
      "text/plain": [
       "(44640, 1004)"
      ]
     },
     "execution_count": 376,
     "metadata": {},
     "output_type": "execute_result"
    }
   ],
   "source": [
    "X_train.shape"
   ]
  },
  {
   "cell_type": "code",
   "execution_count": 377,
   "metadata": {},
   "outputs": [
    {
     "data": {
      "text/html": [
       "<div>\n",
       "<style scoped>\n",
       "    .dataframe tbody tr th:only-of-type {\n",
       "        vertical-align: middle;\n",
       "    }\n",
       "\n",
       "    .dataframe tbody tr th {\n",
       "        vertical-align: top;\n",
       "    }\n",
       "\n",
       "    .dataframe thead th {\n",
       "        text-align: right;\n",
       "    }\n",
       "</style>\n",
       "<table border=\"1\" class=\"dataframe\">\n",
       "  <thead>\n",
       "    <tr style=\"text-align: right;\">\n",
       "      <th></th>\n",
       "      <th>usr_userRegion</th>\n",
       "      <th>usr_userCountry</th>\n",
       "      <th>usr_000</th>\n",
       "      <th>usr_10</th>\n",
       "      <th>usr_100</th>\n",
       "      <th>usr_20</th>\n",
       "      <th>usr_2015</th>\n",
       "      <th>usr_2016</th>\n",
       "      <th>usr_30</th>\n",
       "      <th>usr_ability</th>\n",
       "      <th>...</th>\n",
       "      <th>item_words</th>\n",
       "      <th>item_work</th>\n",
       "      <th>item_working</th>\n",
       "      <th>item_works</th>\n",
       "      <th>item_world</th>\n",
       "      <th>item_would</th>\n",
       "      <th>item_write</th>\n",
       "      <th>item_year</th>\n",
       "      <th>item_years</th>\n",
       "      <th>item_yet</th>\n",
       "    </tr>\n",
       "  </thead>\n",
       "  <tbody>\n",
       "    <tr>\n",
       "      <th>0</th>\n",
       "      <td>65.0</td>\n",
       "      <td>2.0</td>\n",
       "      <td>0.034373</td>\n",
       "      <td>0.047248</td>\n",
       "      <td>0.034609</td>\n",
       "      <td>0.048462</td>\n",
       "      <td>0.054358</td>\n",
       "      <td>0.082165</td>\n",
       "      <td>0.061302</td>\n",
       "      <td>0.027067</td>\n",
       "      <td>...</td>\n",
       "      <td>0.0</td>\n",
       "      <td>0.00000</td>\n",
       "      <td>0.0</td>\n",
       "      <td>0.000000</td>\n",
       "      <td>0.0</td>\n",
       "      <td>0.000000</td>\n",
       "      <td>0.0</td>\n",
       "      <td>0.0</td>\n",
       "      <td>0.0</td>\n",
       "      <td>0.000000</td>\n",
       "    </tr>\n",
       "    <tr>\n",
       "      <th>1</th>\n",
       "      <td>65.0</td>\n",
       "      <td>2.0</td>\n",
       "      <td>0.041621</td>\n",
       "      <td>0.051015</td>\n",
       "      <td>0.020749</td>\n",
       "      <td>0.029878</td>\n",
       "      <td>0.053656</td>\n",
       "      <td>0.051659</td>\n",
       "      <td>0.038140</td>\n",
       "      <td>0.017471</td>\n",
       "      <td>...</td>\n",
       "      <td>0.0</td>\n",
       "      <td>0.00000</td>\n",
       "      <td>0.0</td>\n",
       "      <td>0.000000</td>\n",
       "      <td>0.0</td>\n",
       "      <td>0.000000</td>\n",
       "      <td>0.0</td>\n",
       "      <td>0.0</td>\n",
       "      <td>0.0</td>\n",
       "      <td>0.000000</td>\n",
       "    </tr>\n",
       "    <tr>\n",
       "      <th>2</th>\n",
       "      <td>49.0</td>\n",
       "      <td>21.0</td>\n",
       "      <td>0.048907</td>\n",
       "      <td>0.040844</td>\n",
       "      <td>0.020010</td>\n",
       "      <td>0.024346</td>\n",
       "      <td>0.024997</td>\n",
       "      <td>0.036986</td>\n",
       "      <td>0.019894</td>\n",
       "      <td>0.024137</td>\n",
       "      <td>...</td>\n",
       "      <td>0.0</td>\n",
       "      <td>0.00000</td>\n",
       "      <td>0.0</td>\n",
       "      <td>0.000000</td>\n",
       "      <td>0.0</td>\n",
       "      <td>0.000000</td>\n",
       "      <td>0.0</td>\n",
       "      <td>0.0</td>\n",
       "      <td>0.0</td>\n",
       "      <td>0.000000</td>\n",
       "    </tr>\n",
       "    <tr>\n",
       "      <th>3</th>\n",
       "      <td>65.0</td>\n",
       "      <td>2.0</td>\n",
       "      <td>0.024428</td>\n",
       "      <td>0.026947</td>\n",
       "      <td>0.031152</td>\n",
       "      <td>0.036602</td>\n",
       "      <td>0.081479</td>\n",
       "      <td>0.076514</td>\n",
       "      <td>0.036399</td>\n",
       "      <td>0.023407</td>\n",
       "      <td>...</td>\n",
       "      <td>0.0</td>\n",
       "      <td>0.00000</td>\n",
       "      <td>0.0</td>\n",
       "      <td>0.000000</td>\n",
       "      <td>0.0</td>\n",
       "      <td>0.000000</td>\n",
       "      <td>0.0</td>\n",
       "      <td>0.0</td>\n",
       "      <td>0.0</td>\n",
       "      <td>0.000000</td>\n",
       "    </tr>\n",
       "    <tr>\n",
       "      <th>4</th>\n",
       "      <td>65.0</td>\n",
       "      <td>2.0</td>\n",
       "      <td>0.030545</td>\n",
       "      <td>0.047712</td>\n",
       "      <td>0.020293</td>\n",
       "      <td>0.030902</td>\n",
       "      <td>0.046305</td>\n",
       "      <td>0.031688</td>\n",
       "      <td>0.021803</td>\n",
       "      <td>0.000352</td>\n",
       "      <td>...</td>\n",
       "      <td>0.0</td>\n",
       "      <td>0.16966</td>\n",
       "      <td>0.0</td>\n",
       "      <td>0.079689</td>\n",
       "      <td>0.0</td>\n",
       "      <td>0.117156</td>\n",
       "      <td>0.0</td>\n",
       "      <td>0.0</td>\n",
       "      <td>0.0</td>\n",
       "      <td>0.038502</td>\n",
       "    </tr>\n",
       "  </tbody>\n",
       "</table>\n",
       "<p>5 rows × 1004 columns</p>\n",
       "</div>"
      ],
      "text/plain": [
       "   usr_userRegion  usr_userCountry   usr_000    usr_10   usr_100    usr_20  \\\n",
       "0            65.0              2.0  0.034373  0.047248  0.034609  0.048462   \n",
       "1            65.0              2.0  0.041621  0.051015  0.020749  0.029878   \n",
       "2            49.0             21.0  0.048907  0.040844  0.020010  0.024346   \n",
       "3            65.0              2.0  0.024428  0.026947  0.031152  0.036602   \n",
       "4            65.0              2.0  0.030545  0.047712  0.020293  0.030902   \n",
       "\n",
       "   usr_2015  usr_2016    usr_30  usr_ability    ...     item_words  item_work  \\\n",
       "0  0.054358  0.082165  0.061302     0.027067    ...            0.0    0.00000   \n",
       "1  0.053656  0.051659  0.038140     0.017471    ...            0.0    0.00000   \n",
       "2  0.024997  0.036986  0.019894     0.024137    ...            0.0    0.00000   \n",
       "3  0.081479  0.076514  0.036399     0.023407    ...            0.0    0.00000   \n",
       "4  0.046305  0.031688  0.021803     0.000352    ...            0.0    0.16966   \n",
       "\n",
       "   item_working  item_works  item_world  item_would  item_write  item_year  \\\n",
       "0           0.0    0.000000         0.0    0.000000         0.0        0.0   \n",
       "1           0.0    0.000000         0.0    0.000000         0.0        0.0   \n",
       "2           0.0    0.000000         0.0    0.000000         0.0        0.0   \n",
       "3           0.0    0.000000         0.0    0.000000         0.0        0.0   \n",
       "4           0.0    0.079689         0.0    0.117156         0.0        0.0   \n",
       "\n",
       "   item_years  item_yet  \n",
       "0         0.0  0.000000  \n",
       "1         0.0  0.000000  \n",
       "2         0.0  0.000000  \n",
       "3         0.0  0.000000  \n",
       "4         0.0  0.038502  \n",
       "\n",
       "[5 rows x 1004 columns]"
      ]
     },
     "execution_count": 377,
     "metadata": {},
     "output_type": "execute_result"
    }
   ],
   "source": [
    "X_train.head()"
   ]
  },
  {
   "cell_type": "code",
   "execution_count": 361,
   "metadata": {},
   "outputs": [],
   "source": [
    "X_train_columns = X_train.columns"
   ]
  },
  {
   "cell_type": "code",
   "execution_count": 362,
   "metadata": {},
   "outputs": [],
   "source": [
    "import lightgbm as lgb"
   ]
  },
  {
   "cell_type": "markdown",
   "metadata": {},
   "source": [
    "objective = lambdarank\n",
    "boosting_type = gbdt\n",
    "num_trees = 30\n",
    "num_leaves = 128\n",
    "feature_fraction = 0.2\n",
    "bagging_fraction = 0.2\n",
    "max_bin = 256\n",
    "learning_rate = 0.2\n",
    "label_gain = 1,30"
   ]
  },
  {
   "cell_type": "markdown",
   "metadata": {},
   "source": [
    "\n",
    "\n",
    "'num_trees': [30]\n",
    "'num_leaves': [128]\n",
    "'feature_fraction': [0.2]\n",
    "'bagging_fraction': [0.2]\n",
    "'max_bin':  [256]\n",
    "'label_gain': [1,30]"
   ]
  },
  {
   "cell_type": "markdown",
   "metadata": {},
   "source": [
    "from sklearn.metrics import auc, accuracy_score, roc_auc_score\n",
    "from sklearn.model_selection import GridSearchCV\n",
    "\n",
    "estimator = lgb.LGBMClassifier(learning_rate = 0.125, metric = 'l1', \n",
    "                        n_estimators = 20, num_leaves = 38)\n",
    "\n",
    "#'n_estimators': [x for x in range(20, 36, 2)],\n",
    "#'learning_rate': [0.10, 0.125, 0.15, 0.175, 0.2]}\n",
    "param_grid = {\n",
    "    'n_estimators': [50],\n",
    "    'learning_rate': [0.10],\n",
    "    'objective' : ['binary'],\n",
    "    'metric': ['binary_logloss'],\n",
    "    'boosting_type' : ['gbdt'],\n",
    "    'num_trees': [55],\n",
    "    'num_leaves': [128],\n",
    "    'feature_fraction': [0.2],\n",
    "    'bagging_fraction': [0.2],\n",
    "    'max_bin':  [256],\n",
    "    'label_gain': [1,30]}\n",
    "gridsearch = GridSearchCV(estimator = estimator, param_grid = param_grid, \n",
    "                          cv = 3, n_jobs = -2, verbose = 1)#, \n",
    "                          #fit_params={'early_stopping_rounds':20})\n",
    "                          #fit_params={'early_stopping_rounds':20,'eval_set':[(X,y)]})\n",
    "\n",
    "gridsearch.fit(X_train, y_train,\n",
    "        eval_set = [(X_val, y_val)],\n",
    "        eval_metric = ['auc', 'binary_logloss'])"
   ]
  },
  {
   "cell_type": "markdown",
   "metadata": {},
   "source": [
    "print('Best score: ', gridsearch.best_score_)\n",
    "mod = gridsearch.best_estimator_"
   ]
  },
  {
   "cell_type": "code",
   "execution_count": 378,
   "metadata": {},
   "outputs": [],
   "source": [
    "X_train, X_val, y_train, y_val = train_test_split(X_train,\n",
    "                                    y_train,\n",
    "                                    test_size = 0.2,\n",
    "                                    random_state=22)"
   ]
  },
  {
   "cell_type": "code",
   "execution_count": 379,
   "metadata": {},
   "outputs": [],
   "source": [
    "#https://github.com/Microsoft/LightGBM/blob/master/examples/python-guide/advanced_example.py\n",
    "# if you want to re-use data, remember to set free_raw_data=False\n",
    "#lgb_train = lgb.Dataset(X_train, y_train, weight=W_train, free_raw_data=False)\n",
    "#lgb_eval = lgb.Dataset(X_test, y_test, reference=lgb_train, weight=W_test, free_raw_data=False)"
   ]
  },
  {
   "cell_type": "code",
   "execution_count": 380,
   "metadata": {},
   "outputs": [],
   "source": [
    "#https://stackoverflow.com/questions/51311831/how-to-convert-categorical-data-to-numerical-data\n",
    "l_usr = [\"usr_\" + c for c in lst_user_cols]\n",
    "l_item = [\"item_\" + c for c in lst_item_cols if c != 'contentId']\n",
    "#x for x in a if x != 20\n",
    "categorical_features = l_usr + l_item"
   ]
  },
  {
   "cell_type": "code",
   "execution_count": 381,
   "metadata": {},
   "outputs": [
    {
     "name": "stdout",
     "output_type": "stream",
     "text": [
      "['usr_userRegion', 'usr_userCountry', 'item_authorPersonId', 'item_lang']\n"
     ]
    }
   ],
   "source": [
    "print(categorical_features)"
   ]
  },
  {
   "cell_type": "code",
   "execution_count": 382,
   "metadata": {},
   "outputs": [
    {
     "name": "stdout",
     "output_type": "stream",
     "text": [
      "Format a Train and Validation Set for LGB\n"
     ]
    }
   ],
   "source": [
    "print('Format a Train and Validation Set for LGB')\n",
    "df_train = lgb.Dataset(X_train, label=y_train, categorical_feature=categorical_features)\n",
    "df_val = lgb.Dataset(X_val, label=y_val, categorical_feature=categorical_features)\n",
    "#df_test = lgb.Dataset(X_val, label=y_val)"
   ]
  },
  {
   "cell_type": "code",
   "execution_count": 383,
   "metadata": {},
   "outputs": [
    {
     "name": "stderr",
     "output_type": "stream",
     "text": [
      "D:\\Anaconda\\lib\\site-packages\\lightgbm\\engine.py:113: UserWarning: Found `num_iterations` in params. Will use it instead of argument\n",
      "  warnings.warn(\"Found `{}` in params. Will use it instead of argument\".format(alias))\n",
      "D:\\Anaconda\\lib\\site-packages\\lightgbm\\basic.py:1184: UserWarning: Using categorical_feature in Dataset.\n",
      "  warnings.warn('Using categorical_feature in Dataset.')\n",
      "D:\\Anaconda\\lib\\site-packages\\lightgbm\\basic.py:742: UserWarning: categorical_feature in param dict is overridden.\n",
      "  warnings.warn('categorical_feature in param dict is overridden.')\n"
     ]
    },
    {
     "name": "stdout",
     "output_type": "stream",
     "text": [
      "Training until validation scores don't improve for 20 rounds.\n",
      "[50]\tdf_val's binary_logloss: 0.477743\n",
      "[100]\tdf_val's binary_logloss: 0.421554\n",
      "[150]\tdf_val's binary_logloss: 0.391616\n",
      "[200]\tdf_val's binary_logloss: 0.369574\n",
      "[250]\tdf_val's binary_logloss: 0.354797\n",
      "[300]\tdf_val's binary_logloss: 0.342452\n",
      "[350]\tdf_val's binary_logloss: 0.33321\n",
      "[400]\tdf_val's binary_logloss: 0.325775\n",
      "[450]\tdf_val's binary_logloss: 0.320546\n",
      "[500]\tdf_val's binary_logloss: 0.315921\n",
      "[550]\tdf_val's binary_logloss: 0.311912\n",
      "[600]\tdf_val's binary_logloss: 0.308324\n",
      "[650]\tdf_val's binary_logloss: 0.304239\n",
      "[700]\tdf_val's binary_logloss: 0.301279\n",
      "[750]\tdf_val's binary_logloss: 0.298269\n",
      "[800]\tdf_val's binary_logloss: 0.297174\n",
      "[850]\tdf_val's binary_logloss: 0.2949\n",
      "[900]\tdf_val's binary_logloss: 0.292775\n",
      "[950]\tdf_val's binary_logloss: 0.290727\n",
      "[1000]\tdf_val's binary_logloss: 0.287609\n",
      "[1050]\tdf_val's binary_logloss: 0.285408\n",
      "[1100]\tdf_val's binary_logloss: 0.284162\n",
      "[1150]\tdf_val's binary_logloss: 0.282937\n",
      "[1200]\tdf_val's binary_logloss: 0.281718\n",
      "[1250]\tdf_val's binary_logloss: 0.280927\n",
      "[1300]\tdf_val's binary_logloss: 0.279958\n",
      "[1350]\tdf_val's binary_logloss: 0.278274\n",
      "[1400]\tdf_val's binary_logloss: 0.27668\n",
      "[1450]\tdf_val's binary_logloss: 0.275957\n",
      "Early stopping, best iteration is:\n",
      "[1450]\tdf_val's binary_logloss: 0.275957\n",
      "Wall time: 54 s\n"
     ]
    }
   ],
   "source": [
    "%%time\n",
    "\n",
    "parms = {'task': 'train',\n",
    "    'boosting_type': 'gbdt',\n",
    "    'objective': 'binary',\n",
    "    'metric': 'binary_logloss',\n",
    "    'learning_rate': 0.05, \n",
    "    'max_depth': 5,\n",
    "    'num_iterations': 3000,  \n",
    "    'min_data_in_leaf': 20,#60 \n",
    "    'lambda_l1': 1.0,\n",
    "    'feature_fraction': 0.2, \n",
    "    'bagging_fraction': 0.2, \n",
    "    'bagging_freq': 5}\n",
    "    #'num_leaves': 95,\n",
    "    \n",
    "rnds = 100\n",
    "#mod = lgb.train(parms, train_set=df_train, num_boost_round=rnds,valid_sets=[df_val], valid_names=['df_val'], verbose_eval=50, early_stopping_rounds=20)\n",
    "mod = lgb.train(parms, train_set=df_train, num_boost_round=rnds, valid_sets=[df_val], valid_names=['df_val'],verbose_eval=50, early_stopping_rounds=20)"
   ]
  },
  {
   "cell_type": "markdown",
   "metadata": {},
   "source": [
    "# verificar tratar o authorrsonID como categórico, pois ele deve estar numérico"
   ]
  },
  {
   "cell_type": "code",
   "execution_count": 374,
   "metadata": {
    "scrolled": true
   },
   "outputs": [
    {
     "data": {
      "text/plain": [
       "<matplotlib.axes._subplots.AxesSubplot at 0x1b1811afb38>"
      ]
     },
     "execution_count": 374,
     "metadata": {},
     "output_type": "execute_result"
    },
    {
     "data": {
      "image/png": "[encoded data removed]",
      "text/plain": [
       "<Figure size 1008x720 with 1 Axes>"
      ]
     },
     "metadata": {},
     "output_type": "display_data"
    }
   ],
   "source": [
    "\n",
    "import matplotlib.pyplot as plt\n",
    "%matplotlib inline\n",
    "lgb.plot_importance(mod, max_num_features=50, figsize=(14,10))"
   ]
  },
  {
   "cell_type": "code",
   "execution_count": null,
   "metadata": {},
   "outputs": [],
   "source": []
  },
  {
   "cell_type": "code",
   "execution_count": null,
   "metadata": {},
   "outputs": [],
   "source": [
    "pred = mod.predict(X_train)"
   ]
  },
  {
   "cell_type": "code",
   "execution_count": null,
   "metadata": {},
   "outputs": [],
   "source": [
    "pred"
   ]
  },
  {
   "cell_type": "code",
   "execution_count": null,
   "metadata": {},
   "outputs": [],
   "source": [
    "test_articles_df = articles_df.loc[articles_df['contentId'].isin(interactions_test_df['contentId'])]"
   ]
  },
  {
   "cell_type": "code",
   "execution_count": null,
   "metadata": {},
   "outputs": [],
   "source": [
    "test_df_articles_tfidf, test_items_ids, test_tfidf_matrix = df_tfidf(test_articles_df)"
   ]
  },
  {
   "cell_type": "code",
   "execution_count": null,
   "metadata": {},
   "outputs": [],
   "source": [
    "test_df_user = build_users_profiles(interactions_test_df, test_tfidf_matrix, test_items_ids)\n",
    "\n",
    "#df_interactions_test_indexed = build_interactions_profiles(test_df_user, interactions_test_indexed_df, test_df_articles_tfidf)"
   ]
  },
  {
   "cell_type": "code",
   "execution_count": 370,
   "metadata": {},
   "outputs": [],
   "source": [
    "import time as time"
   ]
  },
  {
   "cell_type": "code",
   "execution_count": 371,
   "metadata": {},
   "outputs": [],
   "source": [
    "class LGBMRecommender:\n",
    "    #import time as time\n",
    "\n",
    "    MODEL_NAME = 'LGBM'\n",
    "    def __init__(self, modelo):\n",
    "        self.modelo = modelo\n",
    "        self.time = time\n",
    "        \n",
    "    def get_model_name(self):\n",
    "        return self.MODEL_NAME\n",
    "        \n",
    "    def recommend_items(self, person_id, itens_to_rec, items_to_ignore, topn=10, verbose=False):\n",
    "\n",
    "        test_articles_df = articles_df.loc[articles_df['contentId'].isin(itens_to_rec)]\n",
    "        test_df_articles_tfidf, test_items_ids, test_tfidf_matrix = df_tfidf(test_articles_df)\n",
    "\n",
    "        i_df = test_df_articles_tfidf\n",
    "        i_df.reset_index(inplace=True, drop=True)\n",
    "        \n",
    "        #test_df_user vem de fora da classe - antigo\n",
    "        #agora estamos capturando as informações do usuário da base de treino, pois não sabemos o perfil dele futuro (base de teste)\n",
    "        u = train_df_user.loc[[person_id]]\n",
    "        u_df = pd.concat([u]*len(itens_to_rec), ignore_index=True)\n",
    "        \n",
    "        data = list(test_articles_df['contentId'])\n",
    "        ui_df = pd.DataFrame(data = data, columns=['contentId'])\n",
    "        ui_df.insert(loc=0, column='personId', value=person_id)\n",
    "        \n",
    "        interactions_test_df_rec = pd.concat((ui_df,u_df,i_df),axis=1)\n",
    "        #print('recommendation: ', interactions_test_df_rec[['contentId']].head(1))\n",
    "        \n",
    "        df_to_rec = interactions_test_df_rec\n",
    "        df_to_rec_pred = df_to_rec.drop(['contentId','personId'], axis=1)\n",
    "        #print(df_to_rec.shape)\n",
    "        \n",
    "        #df_to_rec_pred_columns = df_to_rec_pred.columns\n",
    "        #df_aux = pd.DataFrame(index = df_to_rec_pred.index, columns = X_train_columns)\n",
    "\n",
    "        #for c in X_train_columns:\n",
    "        #    if c in df_to_rec_pred_columns:\n",
    "        #        df_aux[c] = df_to_rec_pred[c]\n",
    "        #            #print(df_aux[c])\n",
    "        #    else:\n",
    "        #        #print(c)\n",
    "        #        df_aux[c] = df_aux[c].fillna(0)\n",
    "        #        \n",
    "        #df_to_rec_pred = df_aux\n",
    "\n",
    "        #usar quando vir a resposta direto do modelo\n",
    "        pred = self.modelo.predict(df_to_rec_pred)\n",
    "        #pred = self.modelo.predict_proba(df_to_rec_pred)\n",
    "        \n",
    "        #print(\"--- %seconds pred ---\" % (time.time() - start_time))\n",
    "        #start_time = time.time()\n",
    "        preds_df =  pd.DataFrame(pred, columns = ['1'])\n",
    "        #preds_df =  pd.DataFrame(pred, columns = ['0','1'])\n",
    "        lgbm_preds_df = pd.concat((df_to_rec[['contentId','personId']],preds_df[['1']]), axis=1)\n",
    "        \n",
    "        lgbm_preds_df.set_index('personId', inplace=True)\n",
    "        #print(\"--- %seconds lgbm_preds_df ---\" % (time.time() - start_time))\n",
    "        #print(lgbm_preds_df)\n",
    "        #print('userid ',person_id)\n",
    "        \n",
    "        #start_time = time.time()\n",
    "        \n",
    "        sorted_user_predictions = lgbm_preds_df.loc[[person_id]].sort_values(by='1',ascending=False) \\\n",
    "                                    .reset_index(drop=True).rename(columns={'1': 'recStrength'})\n",
    "        #print(sorted_user_predictions)\n",
    "        #print(\"--- %seconds sorted_user_predictions ---\" % (time.time() - start_time))\n",
    "        # Recommend the highest predicted rating movies that the user hasn't seen yet.       \n",
    "        recommendations_df = sorted_user_predictions[~sorted_user_predictions['contentId'].isin(items_to_ignore)] \\\n",
    "                               .sort_values('recStrength', ascending = False) \\\n",
    "                               .head(topn)\n",
    "        #print(recommendations_df)\n",
    "        #start_time = time.time()\n",
    "        if verbose:\n",
    "            if self.items_df is None:\n",
    "                raise Exception('\"items_df\" is required in verbose mode')\n",
    "\n",
    "            recommendations_df = recommendations_df.merge(self.items_df, how = 'left', \n",
    "                                                          left_on = 'contentId', \n",
    "                                                          right_on = 'contentId')[['recStrength', 'contentId', 'title', 'url', 'lang']]\n",
    "\n",
    "        #print(\"--- %seconds recommendations_df ---\" % (time.time() - start_time))\n",
    "        #print(recommendations_df)\n",
    "        return recommendations_df\n",
    "    \n",
    "lgbm_recommender_model = LGBMRecommender(mod)"
   ]
  },
  {
   "cell_type": "code",
   "execution_count": 372,
   "metadata": {
    "scrolled": true
   },
   "outputs": [
    {
     "name": "stdout",
     "output_type": "stream",
     "text": [
      "Evaluating Light GBM model...\n",
      "tamanho users:  768\n",
      "Iteração  50\n",
      "Iteração  100\n",
      "Iteração  150\n",
      "Iteração  200\n",
      "Iteração  250\n",
      "Iteração  300\n",
      "Iteração  350\n",
      "Iteração  400\n",
      "Iteração  450\n",
      "Iteração  500\n",
      "Iteração  550\n",
      "Iteração  600\n",
      "Iteração  650\n",
      "Iteração  700\n",
      "Iteração  750\n",
      "767 users processed\n",
      "\n",
      "Global metrics:\n",
      "{'modelName': 'LGBM', 'recall@5': 0.2228142076502732, 'recall@10': 0.35327868852459016}\n",
      "Wall time: 40min 11s\n"
     ]
    }
   ],
   "source": [
    "%%time\n",
    "print('Evaluating Light GBM model...')\n",
    "lgbm_global_metrics, lgbm_detailed_results_df = model_evaluator.evaluate_model(lgbm_recommender_model)\n",
    "print('\\nGlobal metrics:\\n%s' % lgbm_global_metrics)\n",
    "lgbm_detailed_results_df.head(10)\n",
    "\n",
    "\n",
    "###testar com 5 interações pra cima, estava dando erro num loc dentro do recomender"
   ]
  },
  {
   "cell_type": "code",
   "execution_count": null,
   "metadata": {},
   "outputs": [],
   "source": [
    "Global metrics:\n",
    "{'modelName': 'LGBM', 'recall@5': 0.2485677749360614, 'recall@10': 0.35616368286445012}\n",
    "Wall time: 8min 4s"
   ]
  },
  {
   "cell_type": "code",
   "execution_count": null,
   "metadata": {},
   "outputs": [],
   "source": [
    "articles_df[articles_df['contentId'] == 6989198691754522425]"
   ]
  },
  {
   "cell_type": "code",
   "execution_count": null,
   "metadata": {},
   "outputs": [],
   "source": [
    "interactions_full_df[interactions_full_df['contentId'] == 6989198691754522425]"
   ]
  },
  {
   "cell_type": "code",
   "execution_count": null,
   "metadata": {},
   "outputs": [],
   "source": []
  },
  {
   "cell_type": "code",
   "execution_count": null,
   "metadata": {},
   "outputs": [],
   "source": []
  },
  {
   "cell_type": "code",
   "execution_count": null,
   "metadata": {},
   "outputs": [],
   "source": [
    "def check_base(base):\n",
    "    s_types = base.dtypes\n",
    "    \n",
    "    s_miss = np.zeros(base.columns.size)\n",
    "    j=0\n",
    "    for i in base.columns:\n",
    "        s_miss[j] = sum(base[i].isnull())\n",
    "        j+=1\n",
    "\n",
    "    df = pd.DataFrame({'columns':base.columns, 'types':s_types.values, 'missing':s_miss})\n",
    "        \n",
    "    return df[['columns','types','missing']] #ordenando a sequência das colunas"
   ]
  },
  {
   "cell_type": "code",
   "execution_count": null,
   "metadata": {},
   "outputs": [],
   "source": [
    "articles_df.shape"
   ]
  },
  {
   "cell_type": "code",
   "execution_count": null,
   "metadata": {},
   "outputs": [],
   "source": [
    "check_base(interactions_indexed_mode_df)"
   ]
  },
  {
   "cell_type": "code",
   "execution_count": null,
   "metadata": {},
   "outputs": [],
   "source": [
    "articles_df.loc[articles_df['contentId']==-1868297195590431285]"
   ]
  },
  {
   "cell_type": "code",
   "execution_count": null,
   "metadata": {},
   "outputs": [],
   "source": []
  },
  {
   "cell_type": "code",
   "execution_count": null,
   "metadata": {},
   "outputs": [],
   "source": []
  },
  {
   "cell_type": "code",
   "execution_count": null,
   "metadata": {},
   "outputs": [],
   "source": []
  },
  {
   "cell_type": "code",
   "execution_count": null,
   "metadata": {},
   "outputs": [],
   "source": []
  },
  {
   "cell_type": "code",
   "execution_count": null,
   "metadata": {},
   "outputs": [],
   "source": []
  },
  {
   "cell_type": "code",
   "execution_count": null,
   "metadata": {},
   "outputs": [],
   "source": []
  },
  {
   "cell_type": "code",
   "execution_count": null,
   "metadata": {},
   "outputs": [],
   "source": []
  },
  {
   "cell_type": "code",
   "execution_count": null,
   "metadata": {},
   "outputs": [],
   "source": []
  },
  {
   "cell_type": "code",
   "execution_count": null,
   "metadata": {},
   "outputs": [],
   "source": []
  },
  {
   "cell_type": "code",
   "execution_count": null,
   "metadata": {},
   "outputs": [],
   "source": []
  },
  {
   "cell_type": "code",
   "execution_count": null,
   "metadata": {},
   "outputs": [],
   "source": []
  },
  {
   "cell_type": "code",
   "execution_count": null,
   "metadata": {},
   "outputs": [],
   "source": []
  },
  {
   "cell_type": "code",
   "execution_count": null,
   "metadata": {},
   "outputs": [],
   "source": []
  },
  {
   "cell_type": "code",
   "execution_count": null,
   "metadata": {},
   "outputs": [],
   "source": []
  },
  {
   "cell_type": "code",
   "execution_count": null,
   "metadata": {},
   "outputs": [],
   "source": []
  },
  {
   "cell_type": "code",
   "execution_count": null,
   "metadata": {},
   "outputs": [],
   "source": []
  },
  {
   "cell_type": "code",
   "execution_count": null,
   "metadata": {},
   "outputs": [],
   "source": []
  },
  {
   "cell_type": "code",
   "execution_count": null,
   "metadata": {},
   "outputs": [],
   "source": []
  },
  {
   "cell_type": "code",
   "execution_count": null,
   "metadata": {},
   "outputs": [],
   "source": []
  },
  {
   "cell_type": "code",
   "execution_count": null,
   "metadata": {},
   "outputs": [],
   "source": []
  },
  {
   "cell_type": "code",
   "execution_count": null,
   "metadata": {},
   "outputs": [],
   "source": []
  },
  {
   "cell_type": "code",
   "execution_count": null,
   "metadata": {},
   "outputs": [],
   "source": []
  },
  {
   "cell_type": "code",
   "execution_count": null,
   "metadata": {},
   "outputs": [],
   "source": []
  },
  {
   "cell_type": "code",
   "execution_count": null,
   "metadata": {},
   "outputs": [],
   "source": []
  },
  {
   "cell_type": "code",
   "execution_count": null,
   "metadata": {},
   "outputs": [],
   "source": []
  },
  {
   "cell_type": "code",
   "execution_count": null,
   "metadata": {},
   "outputs": [],
   "source": []
  },
  {
   "cell_type": "code",
   "execution_count": null,
   "metadata": {},
   "outputs": [],
   "source": []
  },
  {
   "cell_type": "code",
   "execution_count": null,
   "metadata": {},
   "outputs": [],
   "source": []
  },
  {
   "cell_type": "code",
   "execution_count": null,
   "metadata": {},
   "outputs": [],
   "source": []
  },
  {
   "cell_type": "code",
   "execution_count": null,
   "metadata": {},
   "outputs": [],
   "source": []
  },
  {
   "cell_type": "code",
   "execution_count": null,
   "metadata": {},
   "outputs": [],
   "source": []
  },
  {
   "cell_type": "code",
   "execution_count": null,
   "metadata": {},
   "outputs": [],
   "source": []
  },
  {
   "cell_type": "code",
   "execution_count": null,
   "metadata": {},
   "outputs": [],
   "source": []
  },
  {
   "cell_type": "code",
   "execution_count": null,
   "metadata": {},
   "outputs": [],
   "source": []
  },
  {
   "cell_type": "code",
   "execution_count": null,
   "metadata": {},
   "outputs": [],
   "source": []
  },
  {
   "cell_type": "code",
   "execution_count": null,
   "metadata": {},
   "outputs": [],
   "source": []
  },
  {
   "cell_type": "code",
   "execution_count": null,
   "metadata": {},
   "outputs": [],
   "source": []
  },
  {
   "cell_type": "code",
   "execution_count": null,
   "metadata": {},
   "outputs": [],
   "source": []
  },
  {
   "cell_type": "code",
   "execution_count": null,
   "metadata": {},
   "outputs": [],
   "source": []
  },
  {
   "cell_type": "code",
   "execution_count": null,
   "metadata": {},
   "outputs": [],
   "source": []
  },
  {
   "cell_type": "code",
   "execution_count": null,
   "metadata": {},
   "outputs": [],
   "source": []
  },
  {
   "cell_type": "code",
   "execution_count": null,
   "metadata": {},
   "outputs": [],
   "source": []
  },
  {
   "cell_type": "code",
   "execution_count": null,
   "metadata": {},
   "outputs": [],
   "source": []
  },
  {
   "cell_type": "code",
   "execution_count": null,
   "metadata": {},
   "outputs": [],
   "source": []
  },
  {
   "cell_type": "code",
   "execution_count": null,
   "metadata": {},
   "outputs": [],
   "source": []
  },
  {
   "cell_type": "code",
   "execution_count": null,
   "metadata": {},
   "outputs": [],
   "source": []
  },
  {
   "cell_type": "code",
   "execution_count": null,
   "metadata": {},
   "outputs": [],
   "source": []
  },
  {
   "cell_type": "code",
   "execution_count": null,
   "metadata": {},
   "outputs": [],
   "source": []
  },
  {
   "cell_type": "code",
   "execution_count": null,
   "metadata": {},
   "outputs": [],
   "source": []
  },
  {
   "cell_type": "code",
   "execution_count": null,
   "metadata": {},
   "outputs": [],
   "source": []
  },
  {
   "cell_type": "code",
   "execution_count": null,
   "metadata": {},
   "outputs": [],
   "source": []
  },
  {
   "cell_type": "code",
   "execution_count": null,
   "metadata": {},
   "outputs": [],
   "source": []
  },
  {
   "cell_type": "markdown",
   "metadata": {
    "_cell_guid": "385247d0-adf3-4094-94df-5c9eb4838849",
    "_uuid": "b9e9ef77403ce530fa25d4f57a43261baa3b13cc"
   },
   "source": [
    "## Hybrid Recommender"
   ]
  },
  {
   "cell_type": "markdown",
   "metadata": {
    "_cell_guid": "f82c40f2-cbba-4cd1-817f-c8a1f27dd4fb",
    "_uuid": "255de28ff7990e2ba7a0e7ad50b6887740d76c28"
   },
   "source": [
    "What if we combine Collaborative Filtering and Content-Based Filtering approaches?    \n",
    "Would that provide us with more accurate recommendations?    \n",
    "In fact, hybrid methods have performed better than individual approaches in many studies and have being extensively used by researchers and practioners.  \n",
    "Let's build a simple hybridization method, by only multiply the CF score with the Content-Based score, and ranking by resulting score."
   ]
  },
  {
   "cell_type": "code",
   "execution_count": null,
   "metadata": {
    "_cell_guid": "6014bdf1-448e-485c-9a7a-410f875f92ce",
    "_uuid": "52fabb5abddc6b642ec94434efbf64dac1bd6cd9"
   },
   "outputs": [],
   "source": [
    "class HybridRecommender:\n",
    "    \n",
    "    MODEL_NAME = 'Hybrid'\n",
    "    \n",
    "    def __init__(self, cb_rec_model, cf_rec_model, items_df):\n",
    "        self.cb_rec_model = cb_rec_model\n",
    "        self.cf_rec_model = cf_rec_model\n",
    "        self.items_df = items_df\n",
    "        \n",
    "    def get_model_name(self):\n",
    "        return self.MODEL_NAME\n",
    "        \n",
    "    def recommend_items(self, user_id, items_to_ignore=[], topn=10, verbose=False):\n",
    "        #Getting the top-1000 Content-based filtering recommendations\n",
    "        cb_recs_df = self.cb_rec_model.recommend_items(user_id, items_to_ignore=items_to_ignore, verbose=verbose,\n",
    "                                                           topn=1000).rename(columns={'recStrength': 'recStrengthCB'})\n",
    "        \n",
    "        #Getting the top-1000 Collaborative filtering recommendations\n",
    "        cf_recs_df = self.cf_rec_model.recommend_items(user_id, items_to_ignore=items_to_ignore, verbose=verbose, \n",
    "                                                           topn=1000).rename(columns={'recStrength': 'recStrengthCF'})\n",
    "        \n",
    "        #Combining the results by contentId\n",
    "        recs_df = cb_recs_df.merge(cf_recs_df,\n",
    "                                   how = 'inner', \n",
    "                                   left_on = 'contentId', \n",
    "                                   right_on = 'contentId')\n",
    "        \n",
    "        #Computing a hybrid recommendation score based on CF and CB scores\n",
    "        #recs_df['recStrengthHybrid'] = recs_df['recStrengthCB'] * recs_df['recStrengthCF']\n",
    "        print(min(recs_df['recStrengthCB']))\n",
    "        recs_df['recStrengthHybrid'] = recs_df['recStrengthCB'] * recs_df['recStrengthCF']\n",
    "        \n",
    "        #Sorting recommendations by hybrid score\n",
    "        recommendations_df = recs_df.sort_values('recStrengthHybrid', ascending=False).head(topn)\n",
    "\n",
    "        if verbose:\n",
    "            if self.items_df is None:\n",
    "                raise Exception('\"items_df\" is required in verbose mode')\n",
    "\n",
    "            recommendations_df = recommendations_df.merge(self.items_df, how = 'left', \n",
    "                                                          left_on = 'contentId', \n",
    "                                                          right_on = 'contentId')[['recStrengthHybrid', 'contentId', 'title', 'url', 'lang']]\n",
    "\n",
    "\n",
    "        return recommendations_df\n",
    "    \n",
    "hybrid_recommender_model = HybridRecommender(content_based_recommender_model, cf_recommender_model, articles_df)"
   ]
  },
  {
   "cell_type": "markdown",
   "metadata": {
    "_cell_guid": "d5f5129c-7ca6-44da-99d7-224f8cba1c6d",
    "_uuid": "14a63938f9ea9c4dc939e1831f486bf9e444853c"
   },
   "source": [
    "**It appears we have a new champion!**  \n",
    "Our simple hybrid approach surpasses Content-Based filtering with its combination with Collaborative Filtering. Now we have a **Recall@5** of **43%** and **Recall@10** of **53%**"
   ]
  },
  {
   "cell_type": "code",
   "execution_count": null,
   "metadata": {
    "_cell_guid": "ba301021-8c21-458b-8565-ae0d6e88b637",
    "_uuid": "131844d0156a866c688b19181fc63fa676017d67"
   },
   "outputs": [],
   "source": [
    "print('Evaluating Hybrid model...')\n",
    "hybrid_global_metrics, hybrid_detailed_results_df = model_evaluator.evaluate_model(hybrid_recommender_model)\n",
    "print('\\nGlobal metrics:\\n%s' % hybrid_global_metrics)\n",
    "hybrid_detailed_results_df.head(10)"
   ]
  },
  {
   "cell_type": "markdown",
   "metadata": {
    "_cell_guid": "bde95842-5f92-4161-943f-34ec80969aa4",
    "_uuid": "2732ea17af581efaec91458a7b2666f76c8bfd1d"
   },
   "source": [
    "## Comparing the methods"
   ]
  },
  {
   "cell_type": "code",
   "execution_count": null,
   "metadata": {
    "_cell_guid": "6b294753-5371-46cb-a7fa-d4f2d8c1a3e2",
    "_uuid": "06c824e8787618cc02eace0196423acb32981aec"
   },
   "outputs": [],
   "source": [
    "global_metrics_df = pd.DataFrame([pop_global_metrics, cf_global_metrics, cb_global_metrics, hybrid_global_metrics]) \\\n",
    "                        .set_index('modelName')\n",
    "global_metrics_df"
   ]
  },
  {
   "cell_type": "code",
   "execution_count": null,
   "metadata": {},
   "outputs": [],
   "source": [
    "%matplotlib inline\n",
    "ax = global_metrics_df.transpose()[['Collaborative Filtering','Content-Based','Hybrid']].plot(kind='bar', figsize=(15,8))\n",
    "for p in ax.patches:\n",
    "    ax.annotate(\"%.3f\" % p.get_height(), (p.get_x() + p.get_width() / 2., p.get_height()), ha='center', va='center', xytext=(0, 10), textcoords='offset points')\n"
   ]
  },
  {
   "cell_type": "code",
   "execution_count": null,
   "metadata": {
    "_cell_guid": "e4a67773-62e1-4eb5-a6fe-4342fb71590a",
    "_uuid": "432c01385dc6fc238a53eb0a0bbec61b641ef263"
   },
   "outputs": [],
   "source": [
    "%matplotlib inline\n",
    "ax = global_metrics_df.transpose().plot(kind='bar', figsize=(15,8))\n",
    "for p in ax.patches:\n",
    "    ax.annotate(\"%.3f\" % p.get_height(), (p.get_x() + p.get_width() / 2., p.get_height()), ha='center', va='center', xytext=(0, 10), textcoords='offset points')"
   ]
  },
  {
   "cell_type": "markdown",
   "metadata": {
    "_cell_guid": "60689e32-a091-4067-9aa6-3520d4d48af2",
    "_uuid": "24bc9679fb3bfc224aeda1b236e36ab17c468d18"
   },
   "source": [
    "# Testing"
   ]
  },
  {
   "cell_type": "markdown",
   "metadata": {
    "_cell_guid": "58b12970-5607-4626-b6a0-e6941730a059",
    "_uuid": "1e7aa27a218a053a58b0b39618eec3429da3ef6a"
   },
   "source": [
    "Let's test the best model (Hybrid) for my user."
   ]
  },
  {
   "cell_type": "code",
   "execution_count": null,
   "metadata": {
    "_cell_guid": "07d07d66-1092-4316-a852-d5895d364737",
    "_uuid": "5dad675fe82c4008691ac140e5e57fe29544a940"
   },
   "outputs": [],
   "source": [
    "def inspect_interactions(person_id, test_set=True):\n",
    "    if test_set:\n",
    "        interactions_df = interactions_test_indexed_df\n",
    "    else:\n",
    "        interactions_df = interactions_train_indexed_df\n",
    "    return interactions_df.loc[person_id].merge(articles_df, how = 'left', \n",
    "                                                      left_on = 'contentId', \n",
    "                                                      right_on = 'contentId') \\\n",
    "                          .sort_values('eventStrength', ascending = False)[['eventStrength', \n",
    "                                                                          'contentId',\n",
    "                                                                          'title', 'url', 'lang']]"
   ]
  },
  {
   "cell_type": "markdown",
   "metadata": {
    "_cell_guid": "b76a6f66-6aec-47af-a8f6-6c594781cddc",
    "_uuid": "e377b6a862349fa8483deea70f1c362117f25001"
   },
   "source": [
    "Here we see some articles I interacted in Deskdrop from train set. It can be easily observed that among my main interests are **machine learning**, **deep learning**, **artificial intelligence**, and **google cloud platform**."
   ]
  },
  {
   "cell_type": "code",
   "execution_count": null,
   "metadata": {
    "_cell_guid": "ec962ce2-0593-4d29-8383-57dc9e785589",
    "_uuid": "d850f080e3a24aab664c10f7ab1a9eb3dc5bed39"
   },
   "outputs": [],
   "source": [
    "inspect_interactions(-1479311724257856983, test_set=False).head(20)"
   ]
  },
  {
   "cell_type": "markdown",
   "metadata": {
    "_cell_guid": "c6427984-842a-4d61-8a23-580b93e0fa12",
    "_uuid": "a6d56dc1c9d14e39d95e11a6f616ca2c577cd37f"
   },
   "source": [
    "**The recommendations really matches my interests, as I would read all of them!**"
   ]
  },
  {
   "cell_type": "code",
   "execution_count": null,
   "metadata": {
    "_cell_guid": "71944eb4-51ee-4e23-8643-ef2abe83822e",
    "_uuid": "af890f5ca9b3ae92bfdb51e61af6d5737aaf8e56"
   },
   "outputs": [],
   "source": [
    "hybrid_recommender_model.recommend_items(-1479311724257856983, topn=20, verbose=True)"
   ]
  },
  {
   "cell_type": "markdown",
   "metadata": {
    "_cell_guid": "75bf1701-e83c-4440-b088-858380e584e3",
    "_uuid": "72a8ec0dc47d567c6a891f51622747154075058d"
   },
   "source": [
    "# Conclusion"
   ]
  },
  {
   "cell_type": "markdown",
   "metadata": {
    "_cell_guid": "0fe267b0-2cef-404f-be12-b4dab61a483c",
    "_uuid": "e85e19fdd4e120b4552e97565457845c510fa65d"
   },
   "source": [
    "In this notebook, we've explored and compared the main Recommender Systems techniques on [CI&T Deskdrop](https://www.kaggle.com/gspmoreira/articles-sharing-reading-from-cit-deskdrop) dataset. It could be observed that for articles recommendation, content-based filtering and a hybrid method performed better than Collaborative Filtering alone.  \n",
    "\n",
    "There is large room for improvements of the results. Here are some tips:\n",
    "- In this example, we've completely ignored the time, considering that all articles were available to be recommended to users at any time. A better approach would be to filter only articles that were available for users at a given time.\n",
    "- You could leverage the available contextual information to model users preferences across time (period of day, day of week, month), location (country and state/district) and devices (browser, mobile native app).  \n",
    "This contextual information can be easily incorporated in [Learn-to-Rank](https://en.wikipedia.org/wiki/Learning_to_rank) models (like XGBoost Gradient Boosting Decision Trees with ranking objective) or Logistic models (with categorical features [One-Hot encoded](http://scikit-learn.org/stable/modules/generated/sklearn.preprocessing.OneHotEncoder.html) or [Feature Hashed](https://en.wikipedia.org/wiki/Feature_hashing)). Take a look in the summary my solution shared for [Outbrain Click Prediction](https://www.kaggle.com/c/outbrain-click-prediction/discussion/27897#157215) competition. \n",
    "- Those basic techniques were used for didactic purposes. There are more advanced techniques in RecSys research community, specially advanced Matrix Factorization and Deep Learning models.  \n",
    "\n",
    "You can know more about state-of-the-art methods published in Recommender Systems on [ACM RecSys conference](https://recsys.acm.org/).  \n",
    "If you are more like practioner than researcher, you might try some Collaborative Filtering frameworks in this dataset, like [surprise](https://github.com/NicolasHug/Surprise), [mrec](https://github.com/Mendeley/mrec),  [python-recsys](https://github.com/ocelma/python-recsys) and [Spark ALS Matrix Factorization](https://spark.apache.org/docs/latest/mllib-collaborative-filtering.html) (distributed implementation for large datasets).  \n",
    "Take a look in this [presentation](https://www.slideshare.net/gabrielspmoreira/discovering-users-topics-of-interest-in-recommender-systems-tdc-sp-2016) where I describe a production recommender system, focused on Content-Based Filtering and Topic Modeling techniques."
   ]
  },
  {
   "cell_type": "code",
   "execution_count": null,
   "metadata": {},
   "outputs": [],
   "source": []
  },
  {
   "cell_type": "code",
   "execution_count": null,
   "metadata": {},
   "outputs": [],
   "source": []
  },
  {
   "cell_type": "code",
   "execution_count": null,
   "metadata": {},
   "outputs": [],
   "source": []
  },
  {
   "cell_type": "code",
   "execution_count": null,
   "metadata": {},
   "outputs": [],
   "source": [
    "from collections import defaultdict\n",
    "from surprise import Reader\n",
    "from surprise import SVD\n",
    "from surprise import Dataset\n",
    "from surprise.model_selection import train_test_split\n",
    "from surprise import accuracy\n",
    "\n",
    "\n",
    "\n",
    "\n",
    "\n",
    "# First train an SVD algorithm on the movielens dataset.\n",
    "#data = Dataset.load_builtin('ml-100k')\n",
    "\n",
    "reader = Reader(rating_scale=(1, 4))\n",
    "   \n",
    "# The columns must correspond to user id, item id and ratings (in that order).\n",
    "datatrain = Dataset.load_from_df(interactions_train_df[['personId', 'contentId', 'eventStrength']], reader)\n",
    "\n",
    "datatest = Dataset.load_from_df(interactions_test_df[['personId', 'contentId', 'eventStrength']], reader)\n",
    "#datatest.raw_ratings\n",
    "\n",
    "#trainset, testset = train_test_split(data, test_size=0.30)\n",
    "trainset = datatrain.construct_trainset(datatrain.raw_ratings)\n",
    "algo = SVD(n_factors=15)\n",
    "algo.fit(trainset)\n",
    "\n",
    "# Than predict ratings for all pairs (u, i) that are NOT in the training set.\n",
    "#testset = trainset.build_anti_testset()\n",
    "testset = datatest.construct_testset(datatest.raw_ratings)\n",
    "predictions = algo.test(testset)\n",
    "accuracy.rmse(predictions)\n",
    "#top_n = get_top_n(predictions, n=10)\n",
    "\n",
    "# Print the recommended items for each user\n",
    "#for uid, user_ratings in top_n.items():"
   ]
  },
  {
   "cell_type": "code",
   "execution_count": null,
   "metadata": {},
   "outputs": [],
   "source": [
    "def get_top_n(predictions, n=10):\n",
    "    i=0\n",
    "    # First map the predictions to each user.\n",
    "    top_n = defaultdict(list)\n",
    "    lst =[]\n",
    "    for uid, iid, true_r, est, _ in predictions:\n",
    "        lst_aux = [uid,iid,est]\n",
    "        #top_n[uid].append((iid, est))\n",
    "        lst.append(lst_aux)\n",
    "    return lst\n",
    "\n",
    "top_n = get_top_n(predictions, n=10)"
   ]
  },
  {
   "cell_type": "code",
   "execution_count": null,
   "metadata": {},
   "outputs": [],
   "source": [
    "top_n[:1]"
   ]
  },
  {
   "cell_type": "code",
   "execution_count": null,
   "metadata": {},
   "outputs": [],
   "source": [
    "x = pd.DataFrame(top_n).fillna(0)\n"
   ]
  },
  {
   "cell_type": "code",
   "execution_count": null,
   "metadata": {},
   "outputs": [],
   "source": [
    "x.columns = ['personId', 'contentId', 'eventStrength']"
   ]
  },
  {
   "cell_type": "code",
   "execution_count": null,
   "metadata": {},
   "outputs": [],
   "source": [
    "np.array(x.eventStrength).size"
   ]
  },
  {
   "cell_type": "code",
   "execution_count": null,
   "metadata": {},
   "outputs": [],
   "source": [
    "len(x['contentId'].unique().tolist())"
   ]
  },
  {
   "cell_type": "code",
   "execution_count": null,
   "metadata": {},
   "outputs": [],
   "source": [
    "len(x['personId'].unique().tolist())"
   ]
  },
  {
   "cell_type": "code",
   "execution_count": null,
   "metadata": {},
   "outputs": [],
   "source": [
    "x.loc[x.eventStrength == 0]"
   ]
  },
  {
   "cell_type": "code",
   "execution_count": null,
   "metadata": {},
   "outputs": [],
   "source": [
    "x.loc[(x['personId']==-9016528795238256703) & (x['contentId']==-9192549002213406534)]"
   ]
  },
  {
   "cell_type": "code",
   "execution_count": null,
   "metadata": {},
   "outputs": [],
   "source": [
    "pd.set_option('display.max_rows', 1000000) "
   ]
  },
  {
   "cell_type": "code",
   "execution_count": null,
   "metadata": {},
   "outputs": [],
   "source": [
    "#x.pivot_table(values='eventStrength', index=x['personId'].tolist(), columns=x['contentId'].tolist()).head(10)\n",
    "#x.pivot_table(values='eventStrength', index=x.personId, columns='contentId').head(10)"
   ]
  },
  {
   "cell_type": "code",
   "execution_count": null,
   "metadata": {},
   "outputs": [],
   "source": [
    "#df = x.pivot_table(values='eventStrength', index=x.personId, columns='contentId').fillna(0).transpose()\n",
    "df = x.pivot_table(values='eventStrength', index=x['personId'], columns='contentId').fillna(0).transpose()"
   ]
  },
  {
   "cell_type": "code",
   "execution_count": null,
   "metadata": {},
   "outputs": [],
   "source": [
    "df.head()"
   ]
  },
  {
   "cell_type": "code",
   "execution_count": null,
   "metadata": {},
   "outputs": [],
   "source": []
  },
  {
   "cell_type": "code",
   "execution_count": null,
   "metadata": {},
   "outputs": [],
   "source": []
  },
  {
   "cell_type": "code",
   "execution_count": null,
   "metadata": {},
   "outputs": [],
   "source": [
    "class ConstantFolds():\n",
    "\n",
    "    def __init__(self, trainset_size, n_splits=None, random_state=None,\n",
    "                 shuffle=True):\n",
    "\n",
    "        self.n_splits = 1\n",
    "        self.shuffle = shuffle\n",
    "        self.random_state = random_state\n",
    "        self.trainset_size = trainset_size\n",
    "\n",
    "    def split(self, data):\n",
    "\n",
    "        indices = np.arange(len(data.raw_ratings))\n",
    "\n",
    "        if self.shuffle:\n",
    "            get_rng(self.random_state).shuffle(indices)\n",
    "\n",
    "        raw_trainset = data.raw_ratings[:self.trainset_size]\n",
    "        raw_testset = data.raw_ratings[self.trainset_size:]\n",
    "\n",
    "        trainset = data.construct_trainset(raw_trainset)\n",
    "        testset = data.construct_testset(raw_testset)\n",
    "\n",
    "        yield trainset, testset\n",
    "\n",
    "    def get_n_folds(self):\n",
    "\n",
    "        return self.n_splits"
   ]
  },
  {
   "cell_type": "code",
   "execution_count": null,
   "metadata": {},
   "outputs": [],
   "source": [
    "raw_ratings"
   ]
  },
  {
   "cell_type": "code",
   "execution_count": null,
   "metadata": {},
   "outputs": [],
   "source": [
    "indices = np.arange(len(data.raw_ratings))\n",
    "\n",
    "if self.shuffle:\n",
    "    get_rng(self.random_state).shuffle(indices)\n",
    "\n",
    "raw_trainset = data.raw_ratings[:self.trainset_size]\n",
    "raw_testset = data.raw_ratings[self.trainset_size:]\n",
    "\n",
    "trainset = data.construct_trainset(raw_trainset)\n",
    "testset = data.construct_testset(raw_testset)\n",
    "\n",
    "yield trainset, testset"
   ]
  },
  {
   "cell_type": "code",
   "execution_count": null,
   "metadata": {},
   "outputs": [],
   "source": []
  },
  {
   "cell_type": "code",
   "execution_count": null,
   "metadata": {},
   "outputs": [],
   "source": []
  },
  {
   "cell_type": "code",
   "execution_count": null,
   "metadata": {},
   "outputs": [],
   "source": []
  },
  {
   "cell_type": "code",
   "execution_count": null,
   "metadata": {},
   "outputs": [],
   "source": []
  },
  {
   "cell_type": "code",
   "execution_count": null,
   "metadata": {},
   "outputs": [],
   "source": []
  },
  {
   "cell_type": "code",
   "execution_count": null,
   "metadata": {},
   "outputs": [],
   "source": []
  },
  {
   "cell_type": "code",
   "execution_count": null,
   "metadata": {},
   "outputs": [],
   "source": []
  },
  {
   "cell_type": "code",
   "execution_count": null,
   "metadata": {},
   "outputs": [],
   "source": []
  },
  {
   "cell_type": "code",
   "execution_count": null,
   "metadata": {},
   "outputs": [],
   "source": []
  },
  {
   "cell_type": "code",
   "execution_count": null,
   "metadata": {},
   "outputs": [],
   "source": []
  },
  {
   "cell_type": "code",
   "execution_count": null,
   "metadata": {},
   "outputs": [],
   "source": []
  },
  {
   "cell_type": "code",
   "execution_count": null,
   "metadata": {},
   "outputs": [],
   "source": []
  },
  {
   "cell_type": "code",
   "execution_count": null,
   "metadata": {},
   "outputs": [],
   "source": []
  },
  {
   "cell_type": "code",
   "execution_count": null,
   "metadata": {},
   "outputs": [],
   "source": []
  },
  {
   "cell_type": "code",
   "execution_count": null,
   "metadata": {},
   "outputs": [],
   "source": []
  },
  {
   "cell_type": "code",
   "execution_count": null,
   "metadata": {},
   "outputs": [],
   "source": []
  },
  {
   "cell_type": "code",
   "execution_count": null,
   "metadata": {},
   "outputs": [],
   "source": []
  },
  {
   "cell_type": "code",
   "execution_count": null,
   "metadata": {},
   "outputs": [],
   "source": []
  },
  {
   "cell_type": "code",
   "execution_count": null,
   "metadata": {},
   "outputs": [],
   "source": []
  },
  {
   "cell_type": "code",
   "execution_count": null,
   "metadata": {},
   "outputs": [],
   "source": []
  },
  {
   "cell_type": "code",
   "execution_count": null,
   "metadata": {},
   "outputs": [],
   "source": []
  },
  {
   "cell_type": "code",
   "execution_count": null,
   "metadata": {},
   "outputs": [],
   "source": []
  },
  {
   "cell_type": "code",
   "execution_count": null,
   "metadata": {},
   "outputs": [],
   "source": []
  },
  {
   "cell_type": "code",
   "execution_count": null,
   "metadata": {},
   "outputs": [],
   "source": []
  },
  {
   "cell_type": "code",
   "execution_count": null,
   "metadata": {},
   "outputs": [],
   "source": []
  },
  {
   "cell_type": "code",
   "execution_count": null,
   "metadata": {},
   "outputs": [],
   "source": []
  },
  {
   "cell_type": "code",
   "execution_count": null,
   "metadata": {},
   "outputs": [],
   "source": []
  },
  {
   "cell_type": "code",
   "execution_count": null,
   "metadata": {},
   "outputs": [],
   "source": []
  },
  {
   "cell_type": "code",
   "execution_count": null,
   "metadata": {},
   "outputs": [],
   "source": []
  },
  {
   "cell_type": "code",
   "execution_count": null,
   "metadata": {},
   "outputs": [],
   "source": []
  },
  {
   "cell_type": "code",
   "execution_count": null,
   "metadata": {},
   "outputs": [],
   "source": []
  },
  {
   "cell_type": "code",
   "execution_count": null,
   "metadata": {},
   "outputs": [],
   "source": []
  }
 ],
 "metadata": {
  "kernelspec": {
   "display_name": "Python 3",
   "language": "python",
   "name": "python3"
  },
  "language_info": {
   "codemirror_mode": {
    "name": "ipython",
    "version": 3
   },
   "file_extension": ".py",
   "mimetype": "text/x-python",
   "name": "python",
   "nbconvert_exporter": "python",
   "pygments_lexer": "ipython3",
   "version": "3.6.5"
  }
 },
 "nbformat": 4,
 "nbformat_minor": 1
}
