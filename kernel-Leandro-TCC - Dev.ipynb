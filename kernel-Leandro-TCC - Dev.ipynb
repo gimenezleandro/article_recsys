{
 "cells": [
  {
   "cell_type": "code",
   "execution_count": 1,
   "metadata": {},
   "outputs": [],
   "source": [
    "#https://github.com/tttgm/fellowshipai/blob/master/Book-Crossing-Recommender.ipynb"
   ]
  },
  {
   "cell_type": "markdown",
   "metadata": {},
   "source": [
    "### Implementar os métodos de Colaborative Filtering\n",
    "## SVD model e NMF model"
   ]
  },
  {
   "cell_type": "code",
   "execution_count": null,
   "metadata": {},
   "outputs": [],
   "source": []
  },
  {
   "cell_type": "markdown",
   "metadata": {
    "_cell_guid": "989ca8ad-c205-4c89-95f5-0678f63e90c1",
    "_uuid": "9c02125458024687b9bc5e80309c0d73ad3bd822"
   },
   "source": [
    "# Recommender Systems in Python 101"
   ]
  },
  {
   "cell_type": "markdown",
   "metadata": {
    "_cell_guid": "e4fd4b09-74b8-4e31-a934-920bedb8dac6",
    "_uuid": "3f8d6760d36ba5a1ff7999831c6d893b2be6c94f"
   },
   "source": [
    "This notebook is a practical introduction to the main [Recommender System](https://en.wikipedia.org/wiki/Recommender_system) (RecSys) techniques. The objective of a RecSys is to recommend relevant items for users, based on their preference. Preference and relevance are subjective, and they are generally inferred by items users have consumed previously.  \n",
    "The main RecSys techniques are:  \n",
    "- [**Collaborative Filtering**](https://en.wikipedia.org/wiki/Collaborative_filtering): This method makes automatic predictions (filtering) about the interests of a user by collecting preferences or taste information from many users (collaborating). The underlying assumption of the collaborative filtering approach is that if a person A has the same opinion as a person B on a set of items, A is more likely to have B's opinion for a given item than that of a randomly chosen person.   \n",
    "- [**Content-Based Filtering**](http://recommender-systems.org/content-based-filtering/): This method uses only information about the description and attributes of the items users has previously consumed to model user's preferences. In other words, these algorithms try to recommend items that are similar to those that a user liked in the past (or is examining in the present). In particular, various candidate items are compared with items previously rated by the user and the best-matching items are recommended.  \n",
    "- **Hybrid methods**:  Recent research has demonstrated that a hybrid approach, combining collaborative filtering and content-based filtering could be more effective than pure approaches in some cases. These methods can also be used to overcome some of the common problems in recommender systems such as cold start and the sparsity problem."
   ]
  },
  {
   "cell_type": "markdown",
   "metadata": {
    "_cell_guid": "bd1c7313-f898-4d87-a281-b405ad2bb006",
    "_uuid": "23c5f6f635d1ede5e6fa2ebecb7b6a4ede99a50b"
   },
   "source": [
    "In this notebook, we use a dataset we've shared on Kaggle Datasets: [Articles Sharing and Reading from CI&T Deskdrop](https://www.kaggle.com/gspmoreira/articles-sharing-reading-from-cit-deskdrop).  \n",
    "We will demonstrate how to implement **Collaborative Filtering**, **Content-Based Filtering** and **Hybrid methods** in Python, for the task of providing personalized recommendations to the users."
   ]
  },
  {
   "cell_type": "code",
   "execution_count": 2,
   "metadata": {
    "_cell_guid": "719f3966-e6fd-49c8-9f60-7bd741542450",
    "_uuid": "b61cd3125a7f8f991fc1bda85ae3cd26f74090ae"
   },
   "outputs": [],
   "source": [
    "import numpy as np\n",
    "import scipy\n",
    "import pandas as pd\n",
    "import math\n",
    "import random\n",
    "import sklearn\n",
    "from nltk.corpus import stopwords\n",
    "import nltk\n",
    "#nltk.download('stopwords')\n",
    "from sklearn.model_selection import train_test_split\n",
    "from sklearn.feature_extraction.text import TfidfVectorizer\n",
    "from sklearn.metrics.pairwise import cosine_similarity\n",
    "from scipy.sparse.linalg import svds\n",
    "import matplotlib.pyplot as plt\n",
    "\n",
    "import re"
   ]
  },
  {
   "cell_type": "markdown",
   "metadata": {
    "_cell_guid": "5f5c826d-f3d5-42d3-a7e6-0343a44cdc9f",
    "_uuid": "26f1f70fd978957b26f8884fc5f82bfe9475c666"
   },
   "source": [
    "# Loading data: CI&T Deskdrop dataset"
   ]
  },
  {
   "cell_type": "markdown",
   "metadata": {
    "_cell_guid": "3c48b62c-ad3b-4218-8fb2-2f0e86a16edc",
    "_uuid": "650c279eddc846a48274346e045cfb6e1f8895d5"
   },
   "source": [
    "In this section, we load the [Deskdrop dataset](https://www.kaggle.com/gspmoreira/articles-sharing-reading-from-cit-deskdrop), which contains a real sample of 12 months logs (Mar. 2016 - Feb. 2017) from CI&T's Internal Communication platform (DeskDrop). It contains about 73k logged users interactions on more than 3k public articles shared in the platform.\n",
    "It is composed of two CSV files:  \n",
    "- **shared_articles.csv**\n",
    "- **users_interactions.csv**\n",
    "\n",
    "Take a look in this kernels for a better picture of the dataset: \n",
    "- Deskdrop datasets EDA \n",
    "- DeskDrop Articles Topic Modeling"
   ]
  },
  {
   "cell_type": "markdown",
   "metadata": {
    "_cell_guid": "c9ee29ff-1fee-4dc9-a3cb-e5301c17fded",
    "_uuid": "1e66e976d34d4e28f5a92241b0ea82a2a66363ea"
   },
   "source": [
    "## shared_articles.csv"
   ]
  },
  {
   "cell_type": "markdown",
   "metadata": {
    "_cell_guid": "f09d2247-a40c-4aaf-90ce-15a8721a3036",
    "_uuid": "e64f4fa8a4751274bd2d37a0f45d2d3d664d6c3e"
   },
   "source": [
    "Contains information about the articles shared in the platform. Each article has its sharing date (timestamp), the original url, title, content in plain text, the article' lang (Portuguese: pt or English: en) and information about the user who shared the article (author).\n",
    "\n",
    "There are two possible event types at a given timestamp: \n",
    "- CONTENT SHARED: The article was shared in the platform and is available for users. \n",
    "- CONTENT REMOVED: The article was removed from the platform and not available for further recommendation.\n",
    "\n",
    "For the sake of simplicity, we only consider here the \"CONTENT SHARED\" event type, assuming (naively) that all articles were available during the whole one year period. For a more precise evaluation (and higher accuracy), only articles that were available at a given time should be recommended, but we let this exercice for you."
   ]
  },
  {
   "cell_type": "code",
   "execution_count": 3,
   "metadata": {},
   "outputs": [
    {
     "data": {
      "text/html": [
       "<div>\n",
       "<style scoped>\n",
       "    .dataframe tbody tr th:only-of-type {\n",
       "        vertical-align: middle;\n",
       "    }\n",
       "\n",
       "    .dataframe tbody tr th {\n",
       "        vertical-align: top;\n",
       "    }\n",
       "\n",
       "    .dataframe thead th {\n",
       "        text-align: right;\n",
       "    }\n",
       "</style>\n",
       "<table border=\"1\" class=\"dataframe\">\n",
       "  <thead>\n",
       "    <tr style=\"text-align: right;\">\n",
       "      <th></th>\n",
       "      <th>timestamp</th>\n",
       "      <th>eventType</th>\n",
       "      <th>contentId</th>\n",
       "      <th>authorPersonId</th>\n",
       "      <th>authorSessionId</th>\n",
       "      <th>authorUserAgent</th>\n",
       "      <th>authorRegion</th>\n",
       "      <th>authorCountry</th>\n",
       "      <th>contentType</th>\n",
       "      <th>url</th>\n",
       "      <th>title</th>\n",
       "      <th>text</th>\n",
       "      <th>lang</th>\n",
       "    </tr>\n",
       "  </thead>\n",
       "  <tbody>\n",
       "    <tr>\n",
       "      <th>1</th>\n",
       "      <td>1459193988</td>\n",
       "      <td>CONTENT SHARED</td>\n",
       "      <td>-4110354420726924665</td>\n",
       "      <td>4340306774493623681</td>\n",
       "      <td>8940341205206233829</td>\n",
       "      <td>NaN</td>\n",
       "      <td>NaN</td>\n",
       "      <td>NaN</td>\n",
       "      <td>HTML</td>\n",
       "      <td>http://www.nytimes.com/2016/03/28/business/dea...</td>\n",
       "      <td>Ethereum, a Virtual Currency, Enables Transact...</td>\n",
       "      <td>All of this work is still very early. The firs...</td>\n",
       "      <td>en</td>\n",
       "    </tr>\n",
       "    <tr>\n",
       "      <th>2</th>\n",
       "      <td>1459194146</td>\n",
       "      <td>CONTENT SHARED</td>\n",
       "      <td>-7292285110016212249</td>\n",
       "      <td>4340306774493623681</td>\n",
       "      <td>8940341205206233829</td>\n",
       "      <td>NaN</td>\n",
       "      <td>NaN</td>\n",
       "      <td>NaN</td>\n",
       "      <td>HTML</td>\n",
       "      <td>http://cointelegraph.com/news/bitcoin-future-w...</td>\n",
       "      <td>Bitcoin Future: When GBPcoin of Branson Wins O...</td>\n",
       "      <td>The alarm clock wakes me at 8:00 with stream o...</td>\n",
       "      <td>en</td>\n",
       "    </tr>\n",
       "    <tr>\n",
       "      <th>3</th>\n",
       "      <td>1459194474</td>\n",
       "      <td>CONTENT SHARED</td>\n",
       "      <td>-6151852268067518688</td>\n",
       "      <td>3891637997717104548</td>\n",
       "      <td>-1457532940883382585</td>\n",
       "      <td>NaN</td>\n",
       "      <td>NaN</td>\n",
       "      <td>NaN</td>\n",
       "      <td>HTML</td>\n",
       "      <td>https://cloudplatform.googleblog.com/2016/03/G...</td>\n",
       "      <td>Google Data Center 360° Tour</td>\n",
       "      <td>We're excited to share the Google Data Center ...</td>\n",
       "      <td>en</td>\n",
       "    </tr>\n",
       "    <tr>\n",
       "      <th>4</th>\n",
       "      <td>1459194497</td>\n",
       "      <td>CONTENT SHARED</td>\n",
       "      <td>2448026894306402386</td>\n",
       "      <td>4340306774493623681</td>\n",
       "      <td>8940341205206233829</td>\n",
       "      <td>NaN</td>\n",
       "      <td>NaN</td>\n",
       "      <td>NaN</td>\n",
       "      <td>HTML</td>\n",
       "      <td>https://bitcoinmagazine.com/articles/ibm-wants...</td>\n",
       "      <td>IBM Wants to \"Evolve the Internet\" With Blockc...</td>\n",
       "      <td>The Aite Group projects the blockchain market ...</td>\n",
       "      <td>en</td>\n",
       "    </tr>\n",
       "    <tr>\n",
       "      <th>5</th>\n",
       "      <td>1459194522</td>\n",
       "      <td>CONTENT SHARED</td>\n",
       "      <td>-2826566343807132236</td>\n",
       "      <td>4340306774493623681</td>\n",
       "      <td>8940341205206233829</td>\n",
       "      <td>NaN</td>\n",
       "      <td>NaN</td>\n",
       "      <td>NaN</td>\n",
       "      <td>HTML</td>\n",
       "      <td>http://www.coindesk.com/ieee-blockchain-oxford...</td>\n",
       "      <td>IEEE to Talk Blockchain at Cloud Computing Oxf...</td>\n",
       "      <td>One of the largest and oldest organizations fo...</td>\n",
       "      <td>en</td>\n",
       "    </tr>\n",
       "  </tbody>\n",
       "</table>\n",
       "</div>"
      ],
      "text/plain": [
       "    timestamp       eventType            contentId       authorPersonId  \\\n",
       "1  1459193988  CONTENT SHARED -4110354420726924665  4340306774493623681   \n",
       "2  1459194146  CONTENT SHARED -7292285110016212249  4340306774493623681   \n",
       "3  1459194474  CONTENT SHARED -6151852268067518688  3891637997717104548   \n",
       "4  1459194497  CONTENT SHARED  2448026894306402386  4340306774493623681   \n",
       "5  1459194522  CONTENT SHARED -2826566343807132236  4340306774493623681   \n",
       "\n",
       "       authorSessionId authorUserAgent authorRegion authorCountry contentType  \\\n",
       "1  8940341205206233829             NaN          NaN           NaN        HTML   \n",
       "2  8940341205206233829             NaN          NaN           NaN        HTML   \n",
       "3 -1457532940883382585             NaN          NaN           NaN        HTML   \n",
       "4  8940341205206233829             NaN          NaN           NaN        HTML   \n",
       "5  8940341205206233829             NaN          NaN           NaN        HTML   \n",
       "\n",
       "                                                 url  \\\n",
       "1  http://www.nytimes.com/2016/03/28/business/dea...   \n",
       "2  http://cointelegraph.com/news/bitcoin-future-w...   \n",
       "3  https://cloudplatform.googleblog.com/2016/03/G...   \n",
       "4  https://bitcoinmagazine.com/articles/ibm-wants...   \n",
       "5  http://www.coindesk.com/ieee-blockchain-oxford...   \n",
       "\n",
       "                                               title  \\\n",
       "1  Ethereum, a Virtual Currency, Enables Transact...   \n",
       "2  Bitcoin Future: When GBPcoin of Branson Wins O...   \n",
       "3                       Google Data Center 360° Tour   \n",
       "4  IBM Wants to \"Evolve the Internet\" With Blockc...   \n",
       "5  IEEE to Talk Blockchain at Cloud Computing Oxf...   \n",
       "\n",
       "                                                text lang  \n",
       "1  All of this work is still very early. The firs...   en  \n",
       "2  The alarm clock wakes me at 8:00 with stream o...   en  \n",
       "3  We're excited to share the Google Data Center ...   en  \n",
       "4  The Aite Group projects the blockchain market ...   en  \n",
       "5  One of the largest and oldest organizations fo...   en  "
      ]
     },
     "execution_count": 3,
     "metadata": {},
     "output_type": "execute_result"
    }
   ],
   "source": [
    "articles_df = pd.read_csv('shared_articles.csv')\n",
    "articles_df = articles_df[articles_df['eventType'] == 'CONTENT SHARED']\n",
    "articles_df.head(5)"
   ]
  },
  {
   "cell_type": "code",
   "execution_count": 4,
   "metadata": {},
   "outputs": [],
   "source": [
    "articles_df['urlDomain'] = articles_df['url'].apply(lambda x: re.sub(r'^http[s]*:\\/\\/', '', re.search(r'^http[s]*:\\/\\/[\\w\\.]*', x, re.IGNORECASE).group(0)))"
   ]
  },
  {
   "cell_type": "code",
   "execution_count": 5,
   "metadata": {},
   "outputs": [
    {
     "data": {
      "text/plain": [
       "(3047, 14)"
      ]
     },
     "execution_count": 5,
     "metadata": {},
     "output_type": "execute_result"
    }
   ],
   "source": [
    "articles_df.shape"
   ]
  },
  {
   "cell_type": "code",
   "execution_count": 6,
   "metadata": {},
   "outputs": [
    {
     "data": {
      "text/plain": [
       "HTML     3027\n",
       "VIDEO      10\n",
       "RICH       10\n",
       "Name: contentType, dtype: int64"
      ]
     },
     "execution_count": 6,
     "metadata": {},
     "output_type": "execute_result"
    }
   ],
   "source": [
    "articles_df['contentType'].value_counts()"
   ]
  },
  {
   "cell_type": "code",
   "execution_count": 7,
   "metadata": {},
   "outputs": [],
   "source": [
    "articles_df['urlDomain'] = articles_df['urlDomain'].apply(lambda x: x if x in(['techcrunch.com', 'medium.com', 'cloudplataform.googleblog.com','www.imdb.com','www.mckinsey.com']) else 'outros')"
   ]
  },
  {
   "cell_type": "markdown",
   "metadata": {
    "_cell_guid": "487936d5-d7b3-487d-9ef1-e3ba1e4bc421",
    "_uuid": "3f96f2d88fa86814e2fa1273d80f26d2559823fd"
   },
   "source": [
    "## users_interactions.csv"
   ]
  },
  {
   "cell_type": "markdown",
   "metadata": {
    "_cell_guid": "325b8db8-ef44-4b59-8138-2a59bd02d66e",
    "_uuid": "86694f1b80b04b8f9b961148fb265f355f202b26"
   },
   "source": [
    "Contains logs of user interactions on shared articles. It can be joined to **articles_shared.csv** by **contentId** column.\n",
    "\n",
    "The eventType values are:  \n",
    "- **VIEW**: The user has opened the article. \n",
    "- **LIKE**: The user has liked the article. \n",
    "- **COMMENT CREATED**: The user created a comment in the article. \n",
    "- **FOLLOW**: The user chose to be notified on any new comment in the article. \n",
    "- **BOOKMARK**: The user has bookmarked the article for easy return in the future."
   ]
  },
  {
   "cell_type": "code",
   "execution_count": 8,
   "metadata": {
    "_cell_guid": "445d39ec-f6b0-4155-9f92-0a2540918bd1",
    "_uuid": "9829842326037e364de457f832deceae074d6164"
   },
   "outputs": [
    {
     "data": {
      "text/html": [
       "<div>\n",
       "<style scoped>\n",
       "    .dataframe tbody tr th:only-of-type {\n",
       "        vertical-align: middle;\n",
       "    }\n",
       "\n",
       "    .dataframe tbody tr th {\n",
       "        vertical-align: top;\n",
       "    }\n",
       "\n",
       "    .dataframe thead th {\n",
       "        text-align: right;\n",
       "    }\n",
       "</style>\n",
       "<table border=\"1\" class=\"dataframe\">\n",
       "  <thead>\n",
       "    <tr style=\"text-align: right;\">\n",
       "      <th></th>\n",
       "      <th>Unnamed: 0</th>\n",
       "      <th>personId</th>\n",
       "      <th>timestamp</th>\n",
       "      <th>eventType</th>\n",
       "      <th>contentId</th>\n",
       "      <th>sessionId</th>\n",
       "      <th>userRegion</th>\n",
       "      <th>userCountry</th>\n",
       "      <th>browser</th>\n",
       "      <th>so</th>\n",
       "      <th>...</th>\n",
       "      <th>nativeMobile</th>\n",
       "      <th>device_group</th>\n",
       "      <th>datetime</th>\n",
       "      <th>month</th>\n",
       "      <th>interval_interact</th>\n",
       "      <th>count</th>\n",
       "      <th>mean_interval_time</th>\n",
       "      <th>sum_interval_time</th>\n",
       "      <th>countryName</th>\n",
       "      <th>userCountryRegion</th>\n",
       "    </tr>\n",
       "  </thead>\n",
       "  <tbody>\n",
       "    <tr>\n",
       "      <th>0</th>\n",
       "      <td>0</td>\n",
       "      <td>-9223121837663643404</td>\n",
       "      <td>1461322785</td>\n",
       "      <td>VIEW</td>\n",
       "      <td>-5781461435447152359</td>\n",
       "      <td>6207458156008176463</td>\n",
       "      <td>SP</td>\n",
       "      <td>BR</td>\n",
       "      <td>Chrome</td>\n",
       "      <td>Windows</td>\n",
       "      <td>...</td>\n",
       "      <td>False</td>\n",
       "      <td>pc</td>\n",
       "      <td>2016-04-22 07:59:45</td>\n",
       "      <td>2016-04</td>\n",
       "      <td>0.000000</td>\n",
       "      <td>57</td>\n",
       "      <td>7731.537427</td>\n",
       "      <td>440697.633333</td>\n",
       "      <td>Brazil</td>\n",
       "      <td>BR-SP</td>\n",
       "    </tr>\n",
       "    <tr>\n",
       "      <th>1</th>\n",
       "      <td>1</td>\n",
       "      <td>-9223121837663643404</td>\n",
       "      <td>1461322815</td>\n",
       "      <td>VIEW</td>\n",
       "      <td>7229629480273331039</td>\n",
       "      <td>6207458156008176463</td>\n",
       "      <td>SP</td>\n",
       "      <td>BR</td>\n",
       "      <td>Chrome</td>\n",
       "      <td>Windows</td>\n",
       "      <td>...</td>\n",
       "      <td>False</td>\n",
       "      <td>pc</td>\n",
       "      <td>2016-04-22 08:00:15</td>\n",
       "      <td>2016-04</td>\n",
       "      <td>0.500000</td>\n",
       "      <td>57</td>\n",
       "      <td>7731.537427</td>\n",
       "      <td>440697.633333</td>\n",
       "      <td>Brazil</td>\n",
       "      <td>BR-SP</td>\n",
       "    </tr>\n",
       "    <tr>\n",
       "      <th>2</th>\n",
       "      <td>2</td>\n",
       "      <td>-9223121837663643404</td>\n",
       "      <td>1461778829</td>\n",
       "      <td>VIEW</td>\n",
       "      <td>-6484638837208285334</td>\n",
       "      <td>3718281880049969488</td>\n",
       "      <td>SP</td>\n",
       "      <td>BR</td>\n",
       "      <td>Chrome</td>\n",
       "      <td>Windows</td>\n",
       "      <td>...</td>\n",
       "      <td>False</td>\n",
       "      <td>pc</td>\n",
       "      <td>2016-04-27 14:40:29</td>\n",
       "      <td>2016-04</td>\n",
       "      <td>7600.233333</td>\n",
       "      <td>57</td>\n",
       "      <td>7731.537427</td>\n",
       "      <td>440697.633333</td>\n",
       "      <td>Brazil</td>\n",
       "      <td>BR-SP</td>\n",
       "    </tr>\n",
       "    <tr>\n",
       "      <th>3</th>\n",
       "      <td>3</td>\n",
       "      <td>-9223121837663643404</td>\n",
       "      <td>1462283851</td>\n",
       "      <td>VIEW</td>\n",
       "      <td>-730957269757756529</td>\n",
       "      <td>2625340673871268120</td>\n",
       "      <td>SP</td>\n",
       "      <td>BR</td>\n",
       "      <td>Chrome</td>\n",
       "      <td>Windows</td>\n",
       "      <td>...</td>\n",
       "      <td>False</td>\n",
       "      <td>pc</td>\n",
       "      <td>2016-05-03 10:57:31</td>\n",
       "      <td>2016-05</td>\n",
       "      <td>8417.033333</td>\n",
       "      <td>57</td>\n",
       "      <td>7731.537427</td>\n",
       "      <td>440697.633333</td>\n",
       "      <td>Brazil</td>\n",
       "      <td>BR-SP</td>\n",
       "    </tr>\n",
       "    <tr>\n",
       "      <th>4</th>\n",
       "      <td>4</td>\n",
       "      <td>-9223121837663643404</td>\n",
       "      <td>1462452127</td>\n",
       "      <td>VIEW</td>\n",
       "      <td>-8949113594875411859</td>\n",
       "      <td>-3673331845456357462</td>\n",
       "      <td>SP</td>\n",
       "      <td>BR</td>\n",
       "      <td>Chrome</td>\n",
       "      <td>Windows</td>\n",
       "      <td>...</td>\n",
       "      <td>False</td>\n",
       "      <td>pc</td>\n",
       "      <td>2016-05-05 09:42:07</td>\n",
       "      <td>2016-05</td>\n",
       "      <td>2804.600000</td>\n",
       "      <td>57</td>\n",
       "      <td>7731.537427</td>\n",
       "      <td>440697.633333</td>\n",
       "      <td>Brazil</td>\n",
       "      <td>BR-SP</td>\n",
       "    </tr>\n",
       "  </tbody>\n",
       "</table>\n",
       "<p>5 rows × 26 columns</p>\n",
       "</div>"
      ],
      "text/plain": [
       "   Unnamed: 0             personId   timestamp eventType            contentId  \\\n",
       "0           0 -9223121837663643404  1461322785      VIEW -5781461435447152359   \n",
       "1           1 -9223121837663643404  1461322815      VIEW  7229629480273331039   \n",
       "2           2 -9223121837663643404  1461778829      VIEW -6484638837208285334   \n",
       "3           3 -9223121837663643404  1462283851      VIEW  -730957269757756529   \n",
       "4           4 -9223121837663643404  1462452127      VIEW -8949113594875411859   \n",
       "\n",
       "             sessionId userRegion userCountry browser       so  \\\n",
       "0  6207458156008176463         SP          BR  Chrome  Windows   \n",
       "1  6207458156008176463         SP          BR  Chrome  Windows   \n",
       "2  3718281880049969488         SP          BR  Chrome  Windows   \n",
       "3  2625340673871268120         SP          BR  Chrome  Windows   \n",
       "4 -3673331845456357462         SP          BR  Chrome  Windows   \n",
       "\n",
       "         ...        nativeMobile  device_group             datetime    month  \\\n",
       "0        ...               False            pc  2016-04-22 07:59:45  2016-04   \n",
       "1        ...               False            pc  2016-04-22 08:00:15  2016-04   \n",
       "2        ...               False            pc  2016-04-27 14:40:29  2016-04   \n",
       "3        ...               False            pc  2016-05-03 10:57:31  2016-05   \n",
       "4        ...               False            pc  2016-05-05 09:42:07  2016-05   \n",
       "\n",
       "  interval_interact count  mean_interval_time sum_interval_time countryName  \\\n",
       "0          0.000000    57         7731.537427     440697.633333      Brazil   \n",
       "1          0.500000    57         7731.537427     440697.633333      Brazil   \n",
       "2       7600.233333    57         7731.537427     440697.633333      Brazil   \n",
       "3       8417.033333    57         7731.537427     440697.633333      Brazil   \n",
       "4       2804.600000    57         7731.537427     440697.633333      Brazil   \n",
       "\n",
       "  userCountryRegion  \n",
       "0             BR-SP  \n",
       "1             BR-SP  \n",
       "2             BR-SP  \n",
       "3             BR-SP  \n",
       "4             BR-SP  \n",
       "\n",
       "[5 rows x 26 columns]"
      ]
     },
     "execution_count": 8,
     "metadata": {},
     "output_type": "execute_result"
    }
   ],
   "source": [
    "interactions_df = pd.read_csv('users_interactions_2.csv')\n",
    "interactions_df.head()"
   ]
  },
  {
   "cell_type": "code",
   "execution_count": 9,
   "metadata": {},
   "outputs": [
    {
     "data": {
      "text/plain": [
       "Index(['Unnamed: 0', 'personId', 'timestamp', 'eventType', 'contentId',\n",
       "       'sessionId', 'userRegion', 'userCountry', 'browser', 'so', 'device',\n",
       "       'mobile', 'pc', 'tablet', 'brand', 'model', 'nativeMobile',\n",
       "       'device_group', 'datetime', 'month', 'interval_interact', 'count',\n",
       "       'mean_interval_time', 'sum_interval_time', 'countryName',\n",
       "       'userCountryRegion'],\n",
       "      dtype='object')"
      ]
     },
     "execution_count": 9,
     "metadata": {},
     "output_type": "execute_result"
    }
   ],
   "source": [
    "interactions_df.columns"
   ]
  },
  {
   "cell_type": "code",
   "execution_count": 10,
   "metadata": {},
   "outputs": [],
   "source": [
    "interactions_df = interactions_df.loc[interactions_df['contentId'].isin(articles_df['contentId'])]"
   ]
  },
  {
   "cell_type": "markdown",
   "metadata": {
    "_cell_guid": "585f81a5-c6ff-4399-bbec-901c41fc7285",
    "_uuid": "6abb0af8474eabb50be7a9e6496bfa75ec1b2bd9"
   },
   "source": [
    "## Data munging"
   ]
  },
  {
   "cell_type": "markdown",
   "metadata": {
    "_cell_guid": "bad1a6c9-0258-4b89-85f9-bec89a523662",
    "_uuid": "84c2e91561d5de6afa7c45c173022193664c770e"
   },
   "source": [
    "As there are different interactions types, we associate them with a weight or strength, assuming that, for example, a comment in an article indicates a higher interest of the user on the item than a like, or than a simple view."
   ]
  },
  {
   "cell_type": "code",
   "execution_count": 11,
   "metadata": {
    "_cell_guid": "3239c376-05b8-4a58-9afc-f6f57f67405f",
    "_uuid": "b06f8c0b082f0ad07bf773a5ad2fae33c1f7acc2"
   },
   "outputs": [],
   "source": [
    "event_type_strength = {\n",
    "   'VIEW': 1.0,\n",
    "   'LIKE': 2., \n",
    "   'BOOKMARK': 2.5, \n",
    "   'FOLLOW': 3,\n",
    "   'COMMENT CREATED': 4,  \n",
    "}\n",
    "\n",
    "interactions_df['eventStrength'] = interactions_df['eventType'].apply(lambda x: event_type_strength[x])"
   ]
  },
  {
   "cell_type": "markdown",
   "metadata": {
    "_cell_guid": "5c92aa80-2926-44db-b358-c4c32de806c4",
    "_uuid": "91100a395fdf4fb20df02c8d248072457c980b5d"
   },
   "source": [
    "Recommender systems have a problem known as ***user cold-start***, in which is hard do provide personalized recommendations for users with none or a very few number of consumed items, due to the lack of information to model their preferences.  \n",
    "For this reason, we are keeping in the dataset only users with at leas 5 interactions."
   ]
  },
  {
   "cell_type": "code",
   "execution_count": 12,
   "metadata": {
    "_cell_guid": "bad1d8ea-9b67-4a47-80c5-87a5e55c4f38",
    "_uuid": "1698c88340183baa7f3ebb8c3b60eaa8e6ca708f"
   },
   "outputs": [
    {
     "name": "stdout",
     "output_type": "stream",
     "text": [
      "# users: 1895\n",
      "# users with at least 10 interactions: 322\n"
     ]
    }
   ],
   "source": [
    "users_interactions_count_df = interactions_df.groupby(['personId', 'contentId']).size().groupby('personId').size()\n",
    "print('# users: %d' % len(users_interactions_count_df))\n",
    "users_with_enough_interactions_df = users_interactions_count_df[users_interactions_count_df >= 30].reset_index()[['personId']]\n",
    "print('# users with at least 10 interactions: %d' % len(users_with_enough_interactions_df))"
   ]
  },
  {
   "cell_type": "code",
   "execution_count": 13,
   "metadata": {
    "_cell_guid": "4e79a418-a9d6-4e01-9f38-9b290a645626",
    "_uuid": "0f428a4c6e76f95de7ea328dc33c6539389ae5f0"
   },
   "outputs": [
    {
     "name": "stdout",
     "output_type": "stream",
     "text": [
      "# of interactions: 57980\n",
      "# of interactions from users with at least 5 interactions: 42408\n"
     ]
    }
   ],
   "source": [
    "print('# of interactions: %d' % len(interactions_df))\n",
    "interactions_from_selected_users_df = interactions_df.merge(users_with_enough_interactions_df, \n",
    "               how = 'right',\n",
    "               left_on = 'personId',\n",
    "               right_on = 'personId')\n",
    "print('# of interactions from users with at least 5 interactions: %d' % len(interactions_from_selected_users_df))"
   ]
  },
  {
   "cell_type": "markdown",
   "metadata": {
    "_cell_guid": "b81f2aae-4672-4ae7-aee5-f2c8f49ed863",
    "_uuid": "db9ae42791a79461ff11a462d142eae3d6c23e88"
   },
   "source": [
    "In Deskdrop, users are allowed to view an article many times, and interact with them in different ways (eg. like or comment). Thus, to model the user interest on a given article, we aggregate all the interactions the user has performed in an item by a weighted sum of interaction type strength and apply a log transformation to smooth the distribution."
   ]
  },
  {
   "cell_type": "code",
   "execution_count": 14,
   "metadata": {
    "_cell_guid": "54c82dd1-1102-4f11-ac6a-7993f8e5e842",
    "_uuid": "dcd64b20b47cf2c365341303ff410626a801f7a6"
   },
   "outputs": [
    {
     "name": "stdout",
     "output_type": "stream",
     "text": [
      "# of unique user/item interactions: 29014\n"
     ]
    },
    {
     "data": {
      "text/html": [
       "<div>\n",
       "<style scoped>\n",
       "    .dataframe tbody tr th:only-of-type {\n",
       "        vertical-align: middle;\n",
       "    }\n",
       "\n",
       "    .dataframe tbody tr th {\n",
       "        vertical-align: top;\n",
       "    }\n",
       "\n",
       "    .dataframe thead th {\n",
       "        text-align: right;\n",
       "    }\n",
       "</style>\n",
       "<table border=\"1\" class=\"dataframe\">\n",
       "  <thead>\n",
       "    <tr style=\"text-align: right;\">\n",
       "      <th></th>\n",
       "      <th>personId</th>\n",
       "      <th>contentId</th>\n",
       "      <th>eventStrength</th>\n",
       "    </tr>\n",
       "  </thead>\n",
       "  <tbody>\n",
       "    <tr>\n",
       "      <th>0</th>\n",
       "      <td>-9223121837663643404</td>\n",
       "      <td>-8949113594875411859</td>\n",
       "      <td>1.000000</td>\n",
       "    </tr>\n",
       "    <tr>\n",
       "      <th>1</th>\n",
       "      <td>-9223121837663643404</td>\n",
       "      <td>-8377626164558006982</td>\n",
       "      <td>1.000000</td>\n",
       "    </tr>\n",
       "    <tr>\n",
       "      <th>2</th>\n",
       "      <td>-9223121837663643404</td>\n",
       "      <td>-8208801367848627943</td>\n",
       "      <td>1.000000</td>\n",
       "    </tr>\n",
       "    <tr>\n",
       "      <th>3</th>\n",
       "      <td>-9223121837663643404</td>\n",
       "      <td>-8187220755213888616</td>\n",
       "      <td>1.000000</td>\n",
       "    </tr>\n",
       "    <tr>\n",
       "      <th>4</th>\n",
       "      <td>-9223121837663643404</td>\n",
       "      <td>-7423191370472335463</td>\n",
       "      <td>3.169925</td>\n",
       "    </tr>\n",
       "  </tbody>\n",
       "</table>\n",
       "</div>"
      ],
      "text/plain": [
       "              personId            contentId  eventStrength\n",
       "0 -9223121837663643404 -8949113594875411859       1.000000\n",
       "1 -9223121837663643404 -8377626164558006982       1.000000\n",
       "2 -9223121837663643404 -8208801367848627943       1.000000\n",
       "3 -9223121837663643404 -8187220755213888616       1.000000\n",
       "4 -9223121837663643404 -7423191370472335463       3.169925"
      ]
     },
     "execution_count": 14,
     "metadata": {},
     "output_type": "execute_result"
    }
   ],
   "source": [
    "def smooth_user_preference(x):\n",
    "    return math.log(1+x, 2)\n",
    "    \n",
    "interactions_full_df = interactions_from_selected_users_df \\\n",
    "                    .groupby(['personId', 'contentId'])['eventStrength'].sum() \\\n",
    "                    .apply(smooth_user_preference).reset_index()\n",
    "print('# of unique user/item interactions: %d' % len(interactions_full_df))\n",
    "interactions_full_df.head() "
   ]
  },
  {
   "cell_type": "markdown",
   "metadata": {
    "_cell_guid": "7db22656-f1b2-4264-b74d-92ef7e03168e",
    "_uuid": "999dac17031a334be5a2245086e9c4655c5e8324"
   },
   "source": [
    "# Evaluation"
   ]
  },
  {
   "cell_type": "markdown",
   "metadata": {
    "_cell_guid": "4c67fc79-fb30-4bb0-837d-a3097bf8b9b4",
    "_uuid": "7951a4fce829b66e1c96ef81fd33b12dac5eae0f"
   },
   "source": [
    "Evaluation is important for machine learning projects, because it allows to compare objectivelly different algorithms and hyperparameter choices for models.  \n",
    "One key aspect of evaluation is to ensure that the trained model generalizes for data it was not trained on, using **Cross-validation** techniques. We are using here a simple cross-validation approach named **holdout**, in which a random data sample (20% in this case) are kept aside in the training process, and exclusively used for evaluation. All evaluation metrics reported here are computed using the **test set**.\n",
    "\n",
    "Ps. A more robust evaluation approach could be to split train and test sets by a reference date, where the train set is composed by all interactions before that date, and the test set are interactions after that date. For the sake of simplicity, we chose the first random approach for this notebook, but you may want to try the second approach to better simulate how the recsys would perform in production predicting \"future\" users interactions."
   ]
  },
  {
   "cell_type": "code",
   "execution_count": 15,
   "metadata": {
    "_cell_guid": "e594a5ef-255a-4d30-9ab2-7cebe12fe798",
    "_uuid": "babda61be5306281b34422dbded67675a0aab17d"
   },
   "outputs": [
    {
     "name": "stdout",
     "output_type": "stream",
     "text": [
      "# interactions on Train set: 24661\n",
      "# interactions on Test set: 4353\n"
     ]
    }
   ],
   "source": [
    "interactions_train_df, interactions_test_df = train_test_split(interactions_full_df,\n",
    "                                   stratify=interactions_full_df['personId'], \n",
    "                                   test_size=0.15,\n",
    "                                   random_state=99)\n",
    "\n",
    "print('# interactions on Train set: %d' % len(interactions_train_df))\n",
    "print('# interactions on Test set: %d' % len(interactions_test_df))"
   ]
  },
  {
   "cell_type": "markdown",
   "metadata": {
    "_cell_guid": "be788cfc-2733-4184-8dfb-24d789e3b7da",
    "_uuid": "9a1ce40c5b2b7f89c2e34a8fce1adbeb0cfabf46"
   },
   "source": [
    "In Recommender Systems, there are a set metrics commonly used for evaluation. We chose to work with **Top-N accuracy metrics**, which evaluates the accuracy of the top recommendations provided to a user, comparing to the items the user has actually interacted in test set.  \n",
    "This evaluation method works as follows:\n",
    "\n",
    "* For each user\n",
    "    * For each item the user has interacted in test set\n",
    "        * Sample 100 other items the user has never interacted.   \n",
    "        Ps. Here we naively assume those non interacted items are not relevant to the user, which might not be true, as the user may simply not be aware of those not interacted items. But let's keep this assumption.\n",
    "        * Ask the recommender model to produce a ranked list of recommended items, from a set composed one interacted item and the 100 non-interacted (\"non-relevant!) items\n",
    "        * Compute the Top-N accuracy metrics for this user and interacted item from the recommendations ranked list\n",
    "* Aggregate the global Top-N accuracy metrics"
   ]
  },
  {
   "cell_type": "markdown",
   "metadata": {
    "_cell_guid": "a6f711db-3848-42de-9cb1-8adbe9fffbbd",
    "_uuid": "cb9da9e9269f20d347c9a7d0320da02f5b5d9cda"
   },
   "source": [
    "The Top-N accuracy metric choosen was **Recall@N** which evaluates whether the interacted item is among the top N items (hit) in the ranked list of 101 recommendations for a user.  \n",
    "Ps. Other popular ranking metrics are **NDCG@N** and **MAP@N**, whose score calculation takes into account the position of the relevant item in the ranked list (max. value if relevant item is in the first position). You can find a reference to implement this metrics in this [post](http://fastml.com/evaluating-recommender-systems/)."
   ]
  },
  {
   "cell_type": "code",
   "execution_count": null,
   "metadata": {},
   "outputs": [],
   "source": []
  },
  {
   "cell_type": "code",
   "execution_count": 16,
   "metadata": {
    "_cell_guid": "5f08b8ac-00c7-43db-89b6-4c6637f92ec5",
    "_uuid": "b97d86eb838b7dc3ce70ce2bc460b37f643fbcbb"
   },
   "outputs": [],
   "source": [
    "#Indexing by personId to speed up the searches during evaluation\n",
    "interactions_full_indexed_df = interactions_full_df.set_index('personId')\n",
    "interactions_train_indexed_df = interactions_train_df.set_index('personId')\n",
    "interactions_test_indexed_df = interactions_test_df.set_index('personId')"
   ]
  },
  {
   "cell_type": "code",
   "execution_count": 17,
   "metadata": {
    "_cell_guid": "3ee4bdf5-fcde-418f-accc-c51421a71d75",
    "_uuid": "4c008550d5312b45c1786407cce587eaf19b565c"
   },
   "outputs": [],
   "source": [
    "def get_items_interacted(person_id, interactions_df):\n",
    "    # Get the user's data and merge in the movie information.\n",
    "    interacted_items = interactions_df.loc[person_id]['contentId']\n",
    "    return set(interacted_items if type(interacted_items) == pd.Series else [interacted_items])"
   ]
  },
  {
   "cell_type": "code",
   "execution_count": 75,
   "metadata": {
    "_cell_guid": "0e0639e7-4041-473d-a090-cd0087ce92c3",
    "_uuid": "c9612b159a8d626fe986586230b829ce2e93aff7"
   },
   "outputs": [],
   "source": [
    "#Top-N accuracy metrics consts\n",
    "#EVAL_RANDOM_SAMPLE_NON_INTERACTED_ITEMS = 100\n",
    "EVAL_RANDOM_SAMPLE_NON_INTERACTED_ITEMS = 50\n",
    "\n",
    "class ModelEvaluator:\n",
    "\n",
    "\n",
    "    def get_not_interacted_items_sample(self, person_id, sample_size, seed=42):\n",
    "        interacted_items = get_items_interacted(person_id, interactions_full_indexed_df)\n",
    "        all_items = set(articles_df['contentId'])\n",
    "        non_interacted_items = all_items - interacted_items\n",
    "\n",
    "        random.seed(seed)\n",
    "        non_interacted_items_sample = random.sample(non_interacted_items, sample_size)\n",
    "        return set(non_interacted_items_sample)\n",
    "\n",
    "    def _verify_hit_top_n(self, item_id, recommended_items, topn):        \n",
    "            try:\n",
    "                index = next(i for i, c in enumerate(recommended_items) if c == item_id)\n",
    "            except:\n",
    "                index = -1\n",
    "            hit = int(index in range(0, topn))\n",
    "            return hit, index\n",
    "\n",
    "    def evaluate_model_for_user(self, model, person_id):\n",
    "        #Getting the items in test set\n",
    "        interacted_values_testset = interactions_test_indexed_df.loc[person_id]\n",
    "        if type(interacted_values_testset['contentId']) == pd.Series:\n",
    "            person_interacted_items_testset = set(interacted_values_testset['contentId'])\n",
    "        else:\n",
    "            person_interacted_items_testset = set([int(interacted_values_testset['contentId'])])  \n",
    "        interacted_items_count_testset = len(person_interacted_items_testset) \n",
    "\n",
    "        items_to_ignore = get_items_interacted(person_id, interactions_train_indexed_df)\n",
    "        \n",
    "        if model.MODEL_NAME != 'LGBM':  \n",
    "            \n",
    "        #Getting a ranked recommendation list from a model for a given user\n",
    "            person_recs_df = model.recommend_items(person_id, items_to_ignore= items_to_ignore, topn=10000000000)\n",
    "\n",
    "            hits_at_5_count = 0\n",
    "            hits_at_10_count = 0\n",
    "            #For each item the user has interacted in test set\n",
    "            for item_id in person_interacted_items_testset:\n",
    "                print('item_id interact ',item_id)\n",
    "                #Getting a random sample (100) items the user has not interacted \n",
    "                #(to represent items that are assumed to be no relevant to the user)\n",
    "                non_interacted_items_sample = self.get_not_interacted_items_sample(person_id, \n",
    "                                                                              sample_size=EVAL_RANDOM_SAMPLE_NON_INTERACTED_ITEMS, \n",
    "                                                                              seed=item_id%(2**32))\n",
    "\n",
    "                #Combining the current interacted item with the 100 random items\n",
    "                items_to_filter_recs = non_interacted_items_sample.union(set([item_id]))\n",
    "\n",
    "                #Filtering only recommendations that are either the interacted item or from a random sample of 100 non-interacted items\n",
    "                valid_recs_df = person_recs_df[person_recs_df['contentId'].isin(items_to_filter_recs)] \n",
    "                #print('evaluation: ',valid_recs_df[['contentId']].head(1))\n",
    "                \n",
    "                valid_recs = valid_recs_df['contentId'].values\n",
    "                #Verifying if the current interacted item is among the Top-N recommended items\n",
    "                hit_at_5, index_at_5 = self._verify_hit_top_n(item_id, valid_recs, 5)\n",
    "                hits_at_5_count += hit_at_5\n",
    "                hit_at_10, index_at_10 = self._verify_hit_top_n(item_id, valid_recs, 10)\n",
    "                hits_at_10_count += hit_at_10\n",
    "\n",
    "        else:\n",
    "            #print('Model LGBM') \n",
    "            \n",
    "            hits_at_5_count = 0\n",
    "            hits_at_10_count = 0\n",
    "            #For each item the user has interacted in test set\n",
    "            i=0\n",
    "            for item_id in person_interacted_items_testset:\n",
    "                #print('person: {}    content: {}'.format(person_id, item_id))\n",
    "\n",
    "\n",
    "                #Getting a random sample (100) items the user has not interacted \n",
    "                #(to represent items that are assumed to be no relevant to the user)\n",
    "                non_interacted_items_sample = self.get_not_interacted_items_sample(person_id, \n",
    "                                                                              sample_size=EVAL_RANDOM_SAMPLE_NON_INTERACTED_ITEMS, \n",
    "                                                                              seed=item_id%(2**32))\n",
    "\n",
    "                #Combining the current interacted item with the 100 random items\n",
    "                items_to_filter_recs = non_interacted_items_sample.union(set([item_id]))\n",
    "                #print(items_to_filter_recs)\n",
    "                person_recs_df = model.recommend_items(person_id, items_to_filter_recs, items_to_ignore= items_to_ignore, topn=10)\n",
    "\n",
    "                #Filtering only recommendations that are either the interacted item or from a random sample of 100 non-interacted items\n",
    "                valid_recs_df = person_recs_df[person_recs_df['contentId'].isin(items_to_filter_recs)]  \n",
    "                \n",
    "                valid_recs = valid_recs_df['contentId'].values\n",
    "                #Verifying if the current interacted item is among the Top-N recommended items\n",
    "                hit_at_5, index_at_5 = self._verify_hit_top_n(item_id, valid_recs, 5)\n",
    "                hits_at_5_count += hit_at_5\n",
    "                hit_at_10, index_at_10 = self._verify_hit_top_n(item_id, valid_recs, 10)\n",
    "                hits_at_10_count += hit_at_10            \n",
    "                \n",
    "                #print('Recall@5: ',(hits_at_5_count / float(i)))\n",
    "                #print('Recall@10: ',(hits_at_10_count / float(i)))           \n",
    "            \n",
    "        #Recall is the rate of the interacted items that are ranked among the Top-N recommended items, \n",
    "        #when mixed with a set of non-relevant items\n",
    "        recall_at_5 = hits_at_5_count / float(interacted_items_count_testset)\n",
    "        recall_at_10 = hits_at_10_count / float(interacted_items_count_testset)\n",
    "\n",
    "        person_metrics = {'hits@5_count':hits_at_5_count, \n",
    "                          'hits@10_count':hits_at_10_count, \n",
    "                          'interacted_count': interacted_items_count_testset,\n",
    "                          'recall@5': recall_at_5,\n",
    "                          'recall@10': recall_at_10}\n",
    "        return person_metrics\n",
    "\n",
    "    def evaluate_model(self, model):\n",
    "        #print('Running evaluation for users')\n",
    "        people_metrics = []\n",
    "        i=0\n",
    "        print('tamanho users: ',len(list(interactions_test_indexed_df.index.unique().values)))\n",
    "        #print('tamanho users: ',len(list(interactions_test_indexed_df.head(1).index.unique().values)))\n",
    "        #for idx, person_id in enumerate(list(interactions_test_indexed_df.head(1).index.unique().values)):\n",
    "        #for idx, person_id in enumerate(list(interactions_test_indexed_df.index.unique().values)):\n",
    "        for idx, person_id in enumerate(list(interactions_test_indexed_df.index.unique().values)):\n",
    "            i=i+1\n",
    "            if (i%50 == 0) and i>49:\n",
    "                print('Iteração ', i)            \n",
    "            #if idx % 100 == 0 and idx > 0:\n",
    "            #    print('%d users processed' % idx)\n",
    "            person_metrics = self.evaluate_model_for_user(model, person_id)  \n",
    "            person_metrics['_person_id'] = person_id\n",
    "            people_metrics.append(person_metrics)\n",
    "        print('%d users processed' % idx)\n",
    "\n",
    "        detailed_results_df = pd.DataFrame(people_metrics) \\\n",
    "                            .sort_values('interacted_count', ascending=False)\n",
    "        \n",
    "        global_recall_at_5 = detailed_results_df['hits@5_count'].sum() / float(detailed_results_df['interacted_count'].sum())\n",
    "        global_recall_at_10 = detailed_results_df['hits@10_count'].sum() / float(detailed_results_df['interacted_count'].sum())\n",
    "    \n",
    "        global_metrics = {'modelName': model.get_model_name(),\n",
    "                          'recall@5': global_recall_at_5,\n",
    "                          'recall@10': global_recall_at_10}    \n",
    "        #print(detailed_results_df)\n",
    "        return global_metrics, detailed_results_df\n",
    "    \n",
    "model_evaluator = ModelEvaluator()    "
   ]
  },
  {
   "cell_type": "code",
   "execution_count": 19,
   "metadata": {},
   "outputs": [],
   "source": [
    "#interactions_test_indexed_df.head(10).index.unique().values"
   ]
  },
  {
   "cell_type": "markdown",
   "metadata": {},
   "source": [
    "# LightGBM model"
   ]
  },
  {
   "cell_type": "markdown",
   "metadata": {},
   "source": [
    "### TF-IDF Itens"
   ]
  },
  {
   "cell_type": "code",
   "execution_count": 20,
   "metadata": {},
   "outputs": [],
   "source": [
    "train_articles_df = articles_df.loc[articles_df['contentId'].isin(interactions_train_df['contentId'])]\n",
    "#test_articles_df = articles_df.loc[articles_df['contentId'].isin(interactions_test_df['contentId'])]"
   ]
  },
  {
   "cell_type": "code",
   "execution_count": 21,
   "metadata": {},
   "outputs": [],
   "source": [
    "#Ignoring stopwords (words with no semantics) from English and Portuguese (as we have a corpus with mixed languages)\n",
    "stopwords_list = stopwords.words('english') + stopwords.words('portuguese')\n",
    "\n",
    "#Trains a model whose vectors size is 5000, composed by the main unigrams and bigrams found in the corpus, ignoring stopwords\n",
    "vectorizer = TfidfVectorizer(analyzer='word',\n",
    "                     ngram_range=(1, 2),\n",
    "                     min_df=0.003,\n",
    "                     max_df=0.5,\n",
    "                     max_features=5000,\n",
    "                     stop_words=stopwords_list)\n",
    "\n",
    "\n",
    "tfidf_fit = vectorizer.fit(train_articles_df['title'] + \"\" + train_articles_df['text'])\n",
    "tfidf_feature_names = vectorizer.get_feature_names()"
   ]
  },
  {
   "cell_type": "markdown",
   "metadata": {},
   "source": [
    "### Aqui faria um método para formar a base de treino e teste"
   ]
  },
  {
   "cell_type": "code",
   "execution_count": 22,
   "metadata": {},
   "outputs": [],
   "source": [
    "def df_tfidf(articles_df):\n",
    "    item_ids = articles_df['contentId'].tolist()    \n",
    "    #print(\"=============================\",item_ids.index(6989198691754522425))    \n",
    "    tfidf_matrix = tfidf_fit.transform(articles_df['title'] + \"\" + articles_df['text'])\n",
    "    \n",
    "    #tfidf_matrix\n",
    "\n",
    "    df_tfidf_matrix = pd.DataFrame(tfidf_matrix.toarray())\n",
    "\n",
    "    #lst_item_cols = ['contentId','authorPersonId','authorRegion','authorCountry','urlDomain']\n",
    "    lst_item_cols = ['contentId']\n",
    "\n",
    "    df_articles_tfidf = pd.concat([articles_df[lst_item_cols], df_tfidf_matrix.set_index(articles_df.index)], axis=1)\n",
    "\n",
    "    item_cols = lst_item_cols + tfidf_feature_names\n",
    "\n",
    "    for idx, c in enumerate(item_cols):\n",
    "        if c != 'contentId':\n",
    "            item_cols[idx] = 'item_'+str(c)\n",
    "\n",
    "    df_articles_tfidf.columns = item_cols\n",
    "\n",
    "    #df_articles_tfidf = pd.get_dummies(df_articles_tfidf)\n",
    "    df_articles_tfidf.set_index('contentId', inplace=True)\n",
    "    \n",
    "    return df_articles_tfidf, item_ids, tfidf_matrix "
   ]
  },
  {
   "cell_type": "code",
   "execution_count": 23,
   "metadata": {},
   "outputs": [],
   "source": [
    "train_df_articles_tfidf, train_items_ids, train_tfidf_matrix = df_tfidf(train_articles_df)"
   ]
  },
  {
   "cell_type": "code",
   "execution_count": 24,
   "metadata": {},
   "outputs": [],
   "source": [
    "#test_df_articles_tfidf, test_items_ids, test_tfidf_matrix = df_tfidf(test_articles_df)"
   ]
  },
  {
   "cell_type": "code",
   "execution_count": 25,
   "metadata": {},
   "outputs": [
    {
     "data": {
      "text/plain": [
       "(2899, 5000)"
      ]
     },
     "execution_count": 25,
     "metadata": {},
     "output_type": "execute_result"
    }
   ],
   "source": [
    "train_df_articles_tfidf.shape"
   ]
  },
  {
   "cell_type": "code",
   "execution_count": 26,
   "metadata": {},
   "outputs": [],
   "source": [
    "#test_df_articles_tfidf.shape"
   ]
  },
  {
   "cell_type": "markdown",
   "metadata": {},
   "source": [
    "### CRIAÇÃO DA BASE DE DADOS COM USUÁRIOS"
   ]
  },
  {
   "cell_type": "markdown",
   "metadata": {},
   "source": [
    "#### Código para capturar os itens do tf-idf de cada usuário e calcular a média ponderada com base no eventstrength"
   ]
  },
  {
   "cell_type": "code",
   "execution_count": 27,
   "metadata": {},
   "outputs": [],
   "source": [
    "#7229629480273331039"
   ]
  },
  {
   "cell_type": "code",
   "execution_count": 28,
   "metadata": {},
   "outputs": [],
   "source": [
    "#item_ids.index(1120323498091467525)"
   ]
  },
  {
   "cell_type": "code",
   "execution_count": 29,
   "metadata": {},
   "outputs": [],
   "source": [
    "#tfidf_matrix[1179326165172129711:1179326165172129711+1]"
   ]
  },
  {
   "cell_type": "code",
   "execution_count": 30,
   "metadata": {},
   "outputs": [],
   "source": [
    "#lst_user_cols = ['userRegion','userCountry','so','device_group']\n",
    "lst_user_cols = ['userCountry']"
   ]
  },
  {
   "cell_type": "code",
   "execution_count": 31,
   "metadata": {},
   "outputs": [],
   "source": [
    "def get_item_profile(item_id, tfidf_matrix, item_ids):\n",
    "    \n",
    "    #print(item_id)\n",
    "    #print('------------')\n",
    "    #print(item_ids)\n",
    "    idx = item_ids.index(item_id)\n",
    "    item_profile = tfidf_matrix[idx:idx+1]\n",
    "    return item_profile\n",
    "\n",
    "def get_item_profiles(ids, tfidf_matrix, item_ids):\n",
    "    #print(ids)\n",
    "    item_profiles_list = [get_item_profile(x, tfidf_matrix, item_ids) for x in ids]\n",
    "    #print(item_profiles_list)\n",
    "    item_profiles = scipy.sparse.vstack(item_profiles_list)\n",
    "    return item_profiles\n",
    "\n",
    "def build_users_profile(person_id, interactions_indexed_df, tfidf_matrix, item_ids):\n",
    "    interactions_person_df = interactions_indexed_df.loc[[person_id]]\n",
    "    #print(interactions_person_df.head())\n",
    "    #print(interactions_person_df['contentId'])\n",
    "    user_item_profiles = get_item_profiles(interactions_person_df['contentId'], tfidf_matrix,  item_ids)\n",
    "    \n",
    "    user_item_strengths = np.array(interactions_person_df['eventStrength']).reshape(-1,1)\n",
    "    \n",
    "    #print(user_item_strengths.shape)\n",
    "    #print(user_item_profiles.shape)\n",
    "    #print(np.sum(user_item_strengths).shape)\n",
    "    \n",
    "    #print(np.array(interactions_person_df['eventStrength']).reshape(-1,1))\n",
    "    #Weighted average of item profiles by the interactions strength\n",
    "    user_item_strengths_weighted_avg = np.sum(user_item_profiles.multiply(user_item_strengths), axis=0) / np.sum(user_item_strengths)\n",
    "    user_profile_norm = sklearn.preprocessing.normalize(user_item_strengths_weighted_avg)\n",
    "    \n",
    "    #interactions_indexed_mode_df[['userCountry']].loc[-9223121837663643404].mode()\n",
    "    #user_profile_mode = interactions_indexed_mode_df[lst_user_cols].loc[person_id].mode().head(1) #verificar porque alguns casos mostram mais de uma moda\n",
    "    \n",
    "    \n",
    "    return user_profile_norm\n",
    "\n",
    "def build_users_profiles(interactions_df, tfidf_matrix, item_ids): \n",
    "\n",
    "    interactions_indexed_mode_df = interactions_from_selected_users_df.loc[ \\\n",
    "                                     (interactions_from_selected_users_df['personId'].astype('str')+ \\\n",
    "                                      interactions_from_selected_users_df['contentId'].astype('str')) \\\n",
    "                                     .isin(interactions_df['personId'].astype('str')+ \\\n",
    "                                           interactions_df['contentId'].astype('str'))].set_index('personId')\n",
    "    #print(interactions_indexed_mode_df)\n",
    "    interactions_indexed_df = interactions_full_df.loc[ \\\n",
    "                                     (interactions_full_df['personId'].astype('str')+ \\\n",
    "                                      interactions_full_df['contentId'].astype('str')) \\\n",
    "                                     .isin(interactions_df['personId'].astype('str')+ \\\n",
    "                                           interactions_df['contentId'].astype('str'))].set_index('personId')\n",
    "    user_profiles = {}\n",
    "    for person_id in interactions_indexed_df.index.unique():\n",
    "        tfidf = build_users_profile(person_id, interactions_indexed_df, tfidf_matrix, item_ids)\n",
    "        infos = tfidf.flatten()\n",
    "        user_profiles[person_id] = infos\n",
    "        #Printar os casos em que a moda retorna mais de uma linha\n",
    "        #if np.array(mode).size > 4:\n",
    "        #    print(person_id)\n",
    "        #    print(np.array(mode))\n",
    "        \n",
    "    df_user = pd.DataFrame.from_dict(user_profiles, orient='index') \n",
    "    #user_cols = lst_user_cols + tfidf_feature_names\n",
    "    user_cols = tfidf_feature_names\n",
    "    \n",
    "    for idx, c in enumerate(user_cols):\n",
    "        user_cols[idx] = 'usr_'+str(c)\n",
    "        \n",
    "    df_user.columns = user_cols\n",
    "    #df_user = pd.get_dummies(df_user)\n",
    "    \n",
    "    return df_user#, np.array(mode), tfidf.flatten()"
   ]
  },
  {
   "cell_type": "code",
   "execution_count": 32,
   "metadata": {},
   "outputs": [],
   "source": [
    "pd.set_option('max_colwidth', 800)"
   ]
  },
  {
   "cell_type": "code",
   "execution_count": 33,
   "metadata": {},
   "outputs": [
    {
     "data": {
      "text/plain": [
       "322"
      ]
     },
     "execution_count": 33,
     "metadata": {},
     "output_type": "execute_result"
    }
   ],
   "source": [
    "train_df_user = build_users_profiles(interactions_train_df, train_tfidf_matrix, train_items_ids)\n",
    "len(train_df_user)"
   ]
  },
  {
   "cell_type": "code",
   "execution_count": 34,
   "metadata": {},
   "outputs": [
    {
     "data": {
      "text/plain": [
       "(2899, 5000)"
      ]
     },
     "execution_count": 34,
     "metadata": {},
     "output_type": "execute_result"
    }
   ],
   "source": [
    "train_tfidf_matrix.shape"
   ]
  },
  {
   "cell_type": "code",
   "execution_count": 35,
   "metadata": {},
   "outputs": [],
   "source": [
    "#test_df_user = build_users_profiles(interactions_test_df, test_tfidf_matrix, test_items_ids)\n",
    "#len(test_df_user)"
   ]
  },
  {
   "cell_type": "code",
   "execution_count": 36,
   "metadata": {},
   "outputs": [],
   "source": [
    "#test_tfidf_matrix.shape"
   ]
  },
  {
   "cell_type": "markdown",
   "metadata": {},
   "source": [
    "## Concatenando as bases interação, user e artigo"
   ]
  },
  {
   "cell_type": "code",
   "execution_count": 37,
   "metadata": {},
   "outputs": [],
   "source": [
    "def build_interactions_profiles(df_user, interactions_indexed_df, df_articles_tfidf):\n",
    "    array_users = df_user.reset_index()['index'].values#[:2]\n",
    "\n",
    "    df_interactions_indexed = interactions_indexed_df[['contentId']].join(df_user).reset_index()\n",
    "\n",
    "    df_interactions_indexed = df_interactions_indexed.set_index('contentId').join(df_articles_tfidf).reset_index()\n",
    "    \n",
    "    df_interactions_indexed.rename(columns={'index':'personId'}, inplace=True)\n",
    "    \n",
    "    \n",
    "    \n",
    "    return df_interactions_indexed"
   ]
  },
  {
   "cell_type": "code",
   "execution_count": 38,
   "metadata": {},
   "outputs": [],
   "source": [
    "df_interactions_train_indexed = build_interactions_profiles(train_df_user, interactions_train_indexed_df, train_df_articles_tfidf)"
   ]
  },
  {
   "cell_type": "code",
   "execution_count": 39,
   "metadata": {},
   "outputs": [
    {
     "data": {
      "text/plain": [
       "(24661, 10002)"
      ]
     },
     "execution_count": 39,
     "metadata": {},
     "output_type": "execute_result"
    }
   ],
   "source": [
    "df_interactions_train_indexed.shape"
   ]
  },
  {
   "cell_type": "code",
   "execution_count": 40,
   "metadata": {},
   "outputs": [],
   "source": [
    "df_interactions_train_indexed.set_index('personId', inplace=True)"
   ]
  },
  {
   "cell_type": "code",
   "execution_count": 41,
   "metadata": {},
   "outputs": [],
   "source": [
    "df_interactions_train_indexed['y'] = 1"
   ]
  },
  {
   "cell_type": "markdown",
   "metadata": {},
   "source": [
    "# TODOS OS PROCESSAMENTOS FEITOS NO NOTEBOOK PARA A BASE DE TESTE DEVEM SER FEITOS NO MÉTODO DE RECOMENDAÇÃO PARA CADA CONJUNTO DE 101 ITENS"
   ]
  },
  {
   "cell_type": "code",
   "execution_count": 42,
   "metadata": {},
   "outputs": [],
   "source": [
    "#df_interactions_test_indexed = build_interactions_profiles(test_df_user, interactions_test_indexed_df, test_df_articles_tfidf)"
   ]
  },
  {
   "cell_type": "code",
   "execution_count": 43,
   "metadata": {},
   "outputs": [],
   "source": [
    "#df_interactions_test_indexed.shape"
   ]
  },
  {
   "cell_type": "code",
   "execution_count": 44,
   "metadata": {},
   "outputs": [],
   "source": [
    "#df_test_interactions_cols = df_interactions_test_indexed.columns"
   ]
  },
  {
   "cell_type": "code",
   "execution_count": null,
   "metadata": {},
   "outputs": [],
   "source": []
  },
  {
   "cell_type": "markdown",
   "metadata": {},
   "source": [
    "#### DF NON INTERACTIONS"
   ]
  },
  {
   "cell_type": "code",
   "execution_count": 45,
   "metadata": {},
   "outputs": [],
   "source": [
    "def get_items_interacted(person_id, interactions_df):\n",
    "    # Get the user's data and merge in the movie information.\n",
    "    interacted_items = interactions_df.loc[person_id]['contentId']\n",
    "    return set(interacted_items if type(interacted_items) == pd.Series else [interacted_items])"
   ]
  },
  {
   "cell_type": "code",
   "execution_count": 46,
   "metadata": {},
   "outputs": [],
   "source": [
    "def get_not_interacted_items_sample(person_id, interacted_items, all_items_list, sample_size, seed=42):\n",
    "    #interacted_items = get_items_interacted(person_id, df_interactions_indexed)\n",
    "    #sample_size = len(interacted_items)\n",
    "    #if sample_size <= 10:\n",
    "    #    sample_size = 11\n",
    "    sample_size = 10\n",
    "    \n",
    "    all_items = set(all_items_list)\n",
    "    non_interacted_items = all_items - interacted_items\n",
    "\n",
    "    random.seed(seed)\n",
    "    non_interacted_items_sample = random.sample(non_interacted_items, sample_size)\n",
    "    return non_interacted_items_sample\n",
    "    #return set(non_interacted_items_sample)"
   ]
  },
  {
   "cell_type": "code",
   "execution_count": 47,
   "metadata": {},
   "outputs": [],
   "source": [
    "def build_df_train_test(df_interactions_indexed, df_articles_tfidf, df_user):\n",
    "    array_users = np.unique(df_interactions_indexed.index.values)#[:100]\n",
    "\n",
    "    df_non_interactions_10 = pd.DataFrame()\n",
    "    nparray = np.empty((1, df_interactions_indexed.shape[1]), dtype=int)\n",
    "\n",
    "    i=0\n",
    "    for personId in array_users:\n",
    "\n",
    "        interacted_items = df_interactions_indexed.loc[personId]['contentId']\n",
    "        interacted_items = set(interacted_items if type(interacted_items) == pd.Series else [interacted_items])\n",
    "\n",
    "        non_interacted_items_sample = get_not_interacted_items_sample(personId, interacted_items, list(df_articles_tfidf.index), sample_size=1,seed=44)\n",
    "        non_interacted_items_size = len(non_interacted_items_sample)\n",
    "        i_df = df_articles_tfidf.loc[non_interacted_items_sample]\n",
    "        data = list(i_df.index)\n",
    "        \n",
    "        i_df.reset_index(inplace=True, drop=True)\n",
    "\n",
    "        u = df_user.loc[[personId]]\n",
    "        u_df = pd.concat([u]*non_interacted_items_size, ignore_index=True)\n",
    "        #u_df2 = pd.DataFrame(data = (list(personId)*non_interacted_items_size), columns=['personId'])\n",
    "\n",
    "        #data = non_interacted_items_sample\n",
    "        #data = list(df_articles_tfidf.index)\n",
    "        \n",
    "        ui_df = pd.DataFrame(data = data, columns=['contentId'])\n",
    "        ui_df.insert(loc=0, column='personId', value=personId)\n",
    "        #print(\"--- %s df ---\" % (time.time() - start_time))\n",
    "        #print(df_non_interactions_10.append(pd.concat((ui_df,u_df,i_df),axis=1), sort=False) )\n",
    "\n",
    "        #start_time = time.time()\n",
    "        #df_non_interactions_10 = df_non_interactions_10.append(pd.concat((ui_df,u_df,i_df),axis=1), sort=False)\n",
    "        #x = pd.concat((ui_df,u_df,i_df),axis=1)\n",
    "        #df_non_interactions_10 = x.append(df_non_interactions_10, sort=False)\n",
    "        #print(\"--- %appends seconds ---\" % (time.time() - start_time))    \n",
    "\n",
    "\n",
    "        #start_time = time.time()\n",
    "       # nparray = pd.concat((ui_df,u_df,i_df),axis=1).values\n",
    "        df_concat = pd.concat((ui_df,u_df,i_df),axis=1)\n",
    "        \n",
    "        nparray = np.concatenate((nparray,np.array(df_concat.values)), axis=0)\n",
    "        #nparray = np.concatenate((nparray,np.array(pd.concat((ui_df,u_df),axis=1).values)), axis=0)\n",
    "        #print(\"--- %appends seconds ---\" % (time.time() - start_time))\n",
    "        i=i+1\n",
    "        if (i%500 == 0) and i>499:\n",
    "            print('Iteração ', i)\n",
    "\n",
    "\n",
    "    df_non_interactions_10 = pd.DataFrame(nparray)\n",
    "\n",
    "    cols = df_concat.columns\n",
    "    df_non_interactions_10.columns = cols\n",
    "    df_non_interactions_10['y'] = 0\n",
    "\n",
    "    #drop na primeira linha que foi criada\n",
    "    df_non_interactions_10.drop(df_non_interactions_10.index[0], inplace=True)\n",
    "\n",
    "    df_non_interactions_10['contentId'] = df_non_interactions_10['contentId'].astype('int64')\n",
    "    df_non_interactions_10['personId'] = df_non_interactions_10['contentId'].astype('int64')\n",
    "\n",
    "\n",
    "    df_non_interactions_10.set_index('personId', inplace=True)\n",
    "\n",
    "    ### CONCATENANDO INTERACTIONS E NON_INTERACTIONS\n",
    "    #df_interactions_indexed.rename(columns={'index':'personId'}, inplace=True)\n",
    "\n",
    "    df_interactions_and_non = pd.concat((df_interactions_indexed,df_non_interactions_10), sort=False)\n",
    "\n",
    "    df_interactions_and_non = df_interactions_and_non.fillna(0)\n",
    "    df_interactions_and_non.reset_index(inplace=True)\n",
    "\n",
    "    #y = df_interactions_and_non['y']\n",
    "\n",
    "    #return X, y\n",
    "    return df_interactions_and_non\n",
    "    "
   ]
  },
  {
   "cell_type": "code",
   "execution_count": 48,
   "metadata": {},
   "outputs": [],
   "source": [
    "#%%time\n",
    "#test_df_interactions_and_non = build_df_train_test(df_interactions_test_indexed)"
   ]
  },
  {
   "cell_type": "code",
   "execution_count": 49,
   "metadata": {},
   "outputs": [],
   "source": [
    "#del df_interactions_test_indexed"
   ]
  },
  {
   "cell_type": "code",
   "execution_count": 50,
   "metadata": {},
   "outputs": [],
   "source": [
    "#test_df_interactions_and_non.shape\n",
    "#(17266, 11109)"
   ]
  },
  {
   "cell_type": "code",
   "execution_count": 51,
   "metadata": {},
   "outputs": [],
   "source": [
    "#test_df_interactions_and_non.to_csv('test_df_interactions_and_non.csv', sep=';')"
   ]
  },
  {
   "cell_type": "code",
   "execution_count": 52,
   "metadata": {},
   "outputs": [],
   "source": [
    "#del test_df_interactions_and_non"
   ]
  },
  {
   "cell_type": "code",
   "execution_count": 53,
   "metadata": {},
   "outputs": [
    {
     "name": "stdout",
     "output_type": "stream",
     "text": [
      "Wall time: 30.7 s\n"
     ]
    }
   ],
   "source": [
    "%%time\n",
    "train_df_interactions_and_non = build_df_train_test(df_interactions_train_indexed, train_df_articles_tfidf, train_df_user)"
   ]
  },
  {
   "cell_type": "code",
   "execution_count": 54,
   "metadata": {
    "scrolled": true
   },
   "outputs": [
    {
     "data": {
      "text/html": [
       "<div>\n",
       "<style scoped>\n",
       "    .dataframe tbody tr th:only-of-type {\n",
       "        vertical-align: middle;\n",
       "    }\n",
       "\n",
       "    .dataframe tbody tr th {\n",
       "        vertical-align: top;\n",
       "    }\n",
       "\n",
       "    .dataframe thead th {\n",
       "        text-align: right;\n",
       "    }\n",
       "</style>\n",
       "<table border=\"1\" class=\"dataframe\">\n",
       "  <thead>\n",
       "    <tr style=\"text-align: right;\">\n",
       "      <th></th>\n",
       "      <th>personId</th>\n",
       "      <th>contentId</th>\n",
       "      <th>usr_00</th>\n",
       "      <th>usr_000</th>\n",
       "      <th>usr_04</th>\n",
       "      <th>usr_05</th>\n",
       "      <th>usr_10</th>\n",
       "      <th>usr_10 000</th>\n",
       "      <th>usr_10 years</th>\n",
       "      <th>usr_100</th>\n",
       "      <th>...</th>\n",
       "      <th>item_água</th>\n",
       "      <th>item_área</th>\n",
       "      <th>item_áreas</th>\n",
       "      <th>item_época</th>\n",
       "      <th>item_última</th>\n",
       "      <th>item_último</th>\n",
       "      <th>item_últimos</th>\n",
       "      <th>item_única</th>\n",
       "      <th>item_único</th>\n",
       "      <th>y</th>\n",
       "    </tr>\n",
       "  </thead>\n",
       "  <tbody>\n",
       "    <tr>\n",
       "      <th>0</th>\n",
       "      <td>-6944500707172804068</td>\n",
       "      <td>-9222795471790223670</td>\n",
       "      <td>0.017361</td>\n",
       "      <td>0.025514</td>\n",
       "      <td>0.000000</td>\n",
       "      <td>0.000000</td>\n",
       "      <td>0.033276</td>\n",
       "      <td>0.000327</td>\n",
       "      <td>0.002336</td>\n",
       "      <td>0.023471</td>\n",
       "      <td>...</td>\n",
       "      <td>0.0</td>\n",
       "      <td>0.0</td>\n",
       "      <td>0.0</td>\n",
       "      <td>0.0</td>\n",
       "      <td>0.0</td>\n",
       "      <td>0.0</td>\n",
       "      <td>0.0</td>\n",
       "      <td>0.0</td>\n",
       "      <td>0.0</td>\n",
       "      <td>1</td>\n",
       "    </tr>\n",
       "    <tr>\n",
       "      <th>1</th>\n",
       "      <td>-1032019229384696495</td>\n",
       "      <td>-9222795471790223670</td>\n",
       "      <td>0.005329</td>\n",
       "      <td>0.035735</td>\n",
       "      <td>0.000000</td>\n",
       "      <td>0.008032</td>\n",
       "      <td>0.031091</td>\n",
       "      <td>0.006844</td>\n",
       "      <td>0.006673</td>\n",
       "      <td>0.015552</td>\n",
       "      <td>...</td>\n",
       "      <td>0.0</td>\n",
       "      <td>0.0</td>\n",
       "      <td>0.0</td>\n",
       "      <td>0.0</td>\n",
       "      <td>0.0</td>\n",
       "      <td>0.0</td>\n",
       "      <td>0.0</td>\n",
       "      <td>0.0</td>\n",
       "      <td>0.0</td>\n",
       "      <td>1</td>\n",
       "    </tr>\n",
       "    <tr>\n",
       "      <th>2</th>\n",
       "      <td>1895326251577378793</td>\n",
       "      <td>-9222795471790223670</td>\n",
       "      <td>0.013240</td>\n",
       "      <td>0.014571</td>\n",
       "      <td>0.004565</td>\n",
       "      <td>0.007387</td>\n",
       "      <td>0.017129</td>\n",
       "      <td>0.002832</td>\n",
       "      <td>0.003139</td>\n",
       "      <td>0.018481</td>\n",
       "      <td>...</td>\n",
       "      <td>0.0</td>\n",
       "      <td>0.0</td>\n",
       "      <td>0.0</td>\n",
       "      <td>0.0</td>\n",
       "      <td>0.0</td>\n",
       "      <td>0.0</td>\n",
       "      <td>0.0</td>\n",
       "      <td>0.0</td>\n",
       "      <td>0.0</td>\n",
       "      <td>1</td>\n",
       "    </tr>\n",
       "    <tr>\n",
       "      <th>3</th>\n",
       "      <td>2833428826475063405</td>\n",
       "      <td>-9216926795620865886</td>\n",
       "      <td>0.009480</td>\n",
       "      <td>0.013958</td>\n",
       "      <td>0.000000</td>\n",
       "      <td>0.000000</td>\n",
       "      <td>0.021564</td>\n",
       "      <td>0.000000</td>\n",
       "      <td>0.003481</td>\n",
       "      <td>0.006005</td>\n",
       "      <td>...</td>\n",
       "      <td>0.0</td>\n",
       "      <td>0.0</td>\n",
       "      <td>0.0</td>\n",
       "      <td>0.0</td>\n",
       "      <td>0.0</td>\n",
       "      <td>0.0</td>\n",
       "      <td>0.0</td>\n",
       "      <td>0.0</td>\n",
       "      <td>0.0</td>\n",
       "      <td>1</td>\n",
       "    </tr>\n",
       "    <tr>\n",
       "      <th>4</th>\n",
       "      <td>-8781306637602263252</td>\n",
       "      <td>-9194572880052200111</td>\n",
       "      <td>0.000000</td>\n",
       "      <td>0.005528</td>\n",
       "      <td>0.008903</td>\n",
       "      <td>0.000000</td>\n",
       "      <td>0.043073</td>\n",
       "      <td>0.002678</td>\n",
       "      <td>0.000000</td>\n",
       "      <td>0.021956</td>\n",
       "      <td>...</td>\n",
       "      <td>0.0</td>\n",
       "      <td>0.0</td>\n",
       "      <td>0.0</td>\n",
       "      <td>0.0</td>\n",
       "      <td>0.0</td>\n",
       "      <td>0.0</td>\n",
       "      <td>0.0</td>\n",
       "      <td>0.0</td>\n",
       "      <td>0.0</td>\n",
       "      <td>1</td>\n",
       "    </tr>\n",
       "  </tbody>\n",
       "</table>\n",
       "<p>5 rows × 10003 columns</p>\n",
       "</div>"
      ],
      "text/plain": [
       "              personId            contentId    usr_00   usr_000    usr_04  \\\n",
       "0 -6944500707172804068 -9222795471790223670  0.017361  0.025514  0.000000   \n",
       "1 -1032019229384696495 -9222795471790223670  0.005329  0.035735  0.000000   \n",
       "2  1895326251577378793 -9222795471790223670  0.013240  0.014571  0.004565   \n",
       "3  2833428826475063405 -9216926795620865886  0.009480  0.013958  0.000000   \n",
       "4 -8781306637602263252 -9194572880052200111  0.000000  0.005528  0.008903   \n",
       "\n",
       "     usr_05    usr_10  usr_10 000  usr_10 years   usr_100 ...  item_água  \\\n",
       "0  0.000000  0.033276    0.000327      0.002336  0.023471 ...        0.0   \n",
       "1  0.008032  0.031091    0.006844      0.006673  0.015552 ...        0.0   \n",
       "2  0.007387  0.017129    0.002832      0.003139  0.018481 ...        0.0   \n",
       "3  0.000000  0.021564    0.000000      0.003481  0.006005 ...        0.0   \n",
       "4  0.000000  0.043073    0.002678      0.000000  0.021956 ...        0.0   \n",
       "\n",
       "   item_área  item_áreas  item_época  item_última  item_último  item_últimos  \\\n",
       "0        0.0         0.0         0.0          0.0          0.0           0.0   \n",
       "1        0.0         0.0         0.0          0.0          0.0           0.0   \n",
       "2        0.0         0.0         0.0          0.0          0.0           0.0   \n",
       "3        0.0         0.0         0.0          0.0          0.0           0.0   \n",
       "4        0.0         0.0         0.0          0.0          0.0           0.0   \n",
       "\n",
       "   item_única  item_único  y  \n",
       "0         0.0         0.0  1  \n",
       "1         0.0         0.0  1  \n",
       "2         0.0         0.0  1  \n",
       "3         0.0         0.0  1  \n",
       "4         0.0         0.0  1  \n",
       "\n",
       "[5 rows x 10003 columns]"
      ]
     },
     "execution_count": 54,
     "metadata": {},
     "output_type": "execute_result"
    }
   ],
   "source": [
    "train_df_interactions_and_non.head()"
   ]
  },
  {
   "cell_type": "code",
   "execution_count": 55,
   "metadata": {},
   "outputs": [],
   "source": [
    "del df_interactions_train_indexed"
   ]
  },
  {
   "cell_type": "code",
   "execution_count": 56,
   "metadata": {},
   "outputs": [
    {
     "data": {
      "text/plain": [
       "(27881, 10003)"
      ]
     },
     "execution_count": 56,
     "metadata": {},
     "output_type": "execute_result"
    }
   ],
   "source": [
    "train_df_interactions_and_non.shape\n",
    "#(44640, 11109)"
   ]
  },
  {
   "cell_type": "code",
   "execution_count": 57,
   "metadata": {},
   "outputs": [],
   "source": [
    "#train_df_interactions_and_non.to_csv('train_df_interactions_and_non.csv', sep=';')"
   ]
  },
  {
   "cell_type": "code",
   "execution_count": 58,
   "metadata": {},
   "outputs": [],
   "source": [
    "#del train_df_interactions_and_non"
   ]
  },
  {
   "cell_type": "code",
   "execution_count": null,
   "metadata": {},
   "outputs": [],
   "source": []
  },
  {
   "cell_type": "code",
   "execution_count": null,
   "metadata": {},
   "outputs": [],
   "source": []
  },
  {
   "cell_type": "code",
   "execution_count": 59,
   "metadata": {},
   "outputs": [],
   "source": [
    "#X_test = test_df_interactions_and_non.drop(['contentId','personId','y'], axis=1)\n",
    "#y_test = test_df_interactions_and_non['y']"
   ]
  },
  {
   "cell_type": "code",
   "execution_count": 60,
   "metadata": {},
   "outputs": [],
   "source": [
    "X_train = train_df_interactions_and_non.drop(['contentId','personId','y'], axis=1)\n",
    "y_train = train_df_interactions_and_non['y']"
   ]
  },
  {
   "cell_type": "code",
   "execution_count": 61,
   "metadata": {},
   "outputs": [
    {
     "data": {
      "text/plain": [
       "(27881, 10000)"
      ]
     },
     "execution_count": 61,
     "metadata": {},
     "output_type": "execute_result"
    }
   ],
   "source": [
    "X_train.shape"
   ]
  },
  {
   "cell_type": "code",
   "execution_count": 62,
   "metadata": {},
   "outputs": [
    {
     "data": {
      "text/html": [
       "<div>\n",
       "<style scoped>\n",
       "    .dataframe tbody tr th:only-of-type {\n",
       "        vertical-align: middle;\n",
       "    }\n",
       "\n",
       "    .dataframe tbody tr th {\n",
       "        vertical-align: top;\n",
       "    }\n",
       "\n",
       "    .dataframe thead th {\n",
       "        text-align: right;\n",
       "    }\n",
       "</style>\n",
       "<table border=\"1\" class=\"dataframe\">\n",
       "  <thead>\n",
       "    <tr style=\"text-align: right;\">\n",
       "      <th></th>\n",
       "      <th>usr_00</th>\n",
       "      <th>usr_000</th>\n",
       "      <th>usr_04</th>\n",
       "      <th>usr_05</th>\n",
       "      <th>usr_10</th>\n",
       "      <th>usr_10 000</th>\n",
       "      <th>usr_10 years</th>\n",
       "      <th>usr_100</th>\n",
       "      <th>usr_100 000</th>\n",
       "      <th>usr_11</th>\n",
       "      <th>...</th>\n",
       "      <th>item_ágil</th>\n",
       "      <th>item_água</th>\n",
       "      <th>item_área</th>\n",
       "      <th>item_áreas</th>\n",
       "      <th>item_época</th>\n",
       "      <th>item_última</th>\n",
       "      <th>item_último</th>\n",
       "      <th>item_últimos</th>\n",
       "      <th>item_única</th>\n",
       "      <th>item_único</th>\n",
       "    </tr>\n",
       "  </thead>\n",
       "  <tbody>\n",
       "    <tr>\n",
       "      <th>0</th>\n",
       "      <td>0.017361</td>\n",
       "      <td>0.025514</td>\n",
       "      <td>0.000000</td>\n",
       "      <td>0.000000</td>\n",
       "      <td>0.033276</td>\n",
       "      <td>0.000327</td>\n",
       "      <td>0.002336</td>\n",
       "      <td>0.023471</td>\n",
       "      <td>0.002124</td>\n",
       "      <td>0.017309</td>\n",
       "      <td>...</td>\n",
       "      <td>0.0</td>\n",
       "      <td>0.0</td>\n",
       "      <td>0.0</td>\n",
       "      <td>0.0</td>\n",
       "      <td>0.0</td>\n",
       "      <td>0.0</td>\n",
       "      <td>0.0</td>\n",
       "      <td>0.0</td>\n",
       "      <td>0.0</td>\n",
       "      <td>0.0</td>\n",
       "    </tr>\n",
       "    <tr>\n",
       "      <th>1</th>\n",
       "      <td>0.005329</td>\n",
       "      <td>0.035735</td>\n",
       "      <td>0.000000</td>\n",
       "      <td>0.008032</td>\n",
       "      <td>0.031091</td>\n",
       "      <td>0.006844</td>\n",
       "      <td>0.006673</td>\n",
       "      <td>0.015552</td>\n",
       "      <td>0.003268</td>\n",
       "      <td>0.008843</td>\n",
       "      <td>...</td>\n",
       "      <td>0.0</td>\n",
       "      <td>0.0</td>\n",
       "      <td>0.0</td>\n",
       "      <td>0.0</td>\n",
       "      <td>0.0</td>\n",
       "      <td>0.0</td>\n",
       "      <td>0.0</td>\n",
       "      <td>0.0</td>\n",
       "      <td>0.0</td>\n",
       "      <td>0.0</td>\n",
       "    </tr>\n",
       "    <tr>\n",
       "      <th>2</th>\n",
       "      <td>0.013240</td>\n",
       "      <td>0.014571</td>\n",
       "      <td>0.004565</td>\n",
       "      <td>0.007387</td>\n",
       "      <td>0.017129</td>\n",
       "      <td>0.002832</td>\n",
       "      <td>0.003139</td>\n",
       "      <td>0.018481</td>\n",
       "      <td>0.000408</td>\n",
       "      <td>0.010395</td>\n",
       "      <td>...</td>\n",
       "      <td>0.0</td>\n",
       "      <td>0.0</td>\n",
       "      <td>0.0</td>\n",
       "      <td>0.0</td>\n",
       "      <td>0.0</td>\n",
       "      <td>0.0</td>\n",
       "      <td>0.0</td>\n",
       "      <td>0.0</td>\n",
       "      <td>0.0</td>\n",
       "      <td>0.0</td>\n",
       "    </tr>\n",
       "    <tr>\n",
       "      <th>3</th>\n",
       "      <td>0.009480</td>\n",
       "      <td>0.013958</td>\n",
       "      <td>0.000000</td>\n",
       "      <td>0.000000</td>\n",
       "      <td>0.021564</td>\n",
       "      <td>0.000000</td>\n",
       "      <td>0.003481</td>\n",
       "      <td>0.006005</td>\n",
       "      <td>0.000000</td>\n",
       "      <td>0.010642</td>\n",
       "      <td>...</td>\n",
       "      <td>0.0</td>\n",
       "      <td>0.0</td>\n",
       "      <td>0.0</td>\n",
       "      <td>0.0</td>\n",
       "      <td>0.0</td>\n",
       "      <td>0.0</td>\n",
       "      <td>0.0</td>\n",
       "      <td>0.0</td>\n",
       "      <td>0.0</td>\n",
       "      <td>0.0</td>\n",
       "    </tr>\n",
       "    <tr>\n",
       "      <th>4</th>\n",
       "      <td>0.000000</td>\n",
       "      <td>0.005528</td>\n",
       "      <td>0.008903</td>\n",
       "      <td>0.000000</td>\n",
       "      <td>0.043073</td>\n",
       "      <td>0.002678</td>\n",
       "      <td>0.000000</td>\n",
       "      <td>0.021956</td>\n",
       "      <td>0.000000</td>\n",
       "      <td>0.010154</td>\n",
       "      <td>...</td>\n",
       "      <td>0.0</td>\n",
       "      <td>0.0</td>\n",
       "      <td>0.0</td>\n",
       "      <td>0.0</td>\n",
       "      <td>0.0</td>\n",
       "      <td>0.0</td>\n",
       "      <td>0.0</td>\n",
       "      <td>0.0</td>\n",
       "      <td>0.0</td>\n",
       "      <td>0.0</td>\n",
       "    </tr>\n",
       "  </tbody>\n",
       "</table>\n",
       "<p>5 rows × 10000 columns</p>\n",
       "</div>"
      ],
      "text/plain": [
       "     usr_00   usr_000    usr_04    usr_05    usr_10  usr_10 000  usr_10 years  \\\n",
       "0  0.017361  0.025514  0.000000  0.000000  0.033276    0.000327      0.002336   \n",
       "1  0.005329  0.035735  0.000000  0.008032  0.031091    0.006844      0.006673   \n",
       "2  0.013240  0.014571  0.004565  0.007387  0.017129    0.002832      0.003139   \n",
       "3  0.009480  0.013958  0.000000  0.000000  0.021564    0.000000      0.003481   \n",
       "4  0.000000  0.005528  0.008903  0.000000  0.043073    0.002678      0.000000   \n",
       "\n",
       "    usr_100  usr_100 000    usr_11     ...      item_ágil  item_água  \\\n",
       "0  0.023471     0.002124  0.017309     ...            0.0        0.0   \n",
       "1  0.015552     0.003268  0.008843     ...            0.0        0.0   \n",
       "2  0.018481     0.000408  0.010395     ...            0.0        0.0   \n",
       "3  0.006005     0.000000  0.010642     ...            0.0        0.0   \n",
       "4  0.021956     0.000000  0.010154     ...            0.0        0.0   \n",
       "\n",
       "   item_área  item_áreas  item_época  item_última  item_último  item_últimos  \\\n",
       "0        0.0         0.0         0.0          0.0          0.0           0.0   \n",
       "1        0.0         0.0         0.0          0.0          0.0           0.0   \n",
       "2        0.0         0.0         0.0          0.0          0.0           0.0   \n",
       "3        0.0         0.0         0.0          0.0          0.0           0.0   \n",
       "4        0.0         0.0         0.0          0.0          0.0           0.0   \n",
       "\n",
       "   item_única  item_único  \n",
       "0         0.0         0.0  \n",
       "1         0.0         0.0  \n",
       "2         0.0         0.0  \n",
       "3         0.0         0.0  \n",
       "4         0.0         0.0  \n",
       "\n",
       "[5 rows x 10000 columns]"
      ]
     },
     "execution_count": 62,
     "metadata": {},
     "output_type": "execute_result"
    }
   ],
   "source": [
    "X_train.head()"
   ]
  },
  {
   "cell_type": "code",
   "execution_count": 63,
   "metadata": {},
   "outputs": [],
   "source": [
    "X_train_columns = X_train.columns"
   ]
  },
  {
   "cell_type": "code",
   "execution_count": 64,
   "metadata": {},
   "outputs": [],
   "source": [
    "X_train, X_val, y_train, y_val = train_test_split(X_train,\n",
    "                                    y_train,\n",
    "                                    test_size = 0.2,\n",
    "                                    random_state=22)"
   ]
  },
  {
   "cell_type": "code",
   "execution_count": 65,
   "metadata": {},
   "outputs": [],
   "source": [
    "import lightgbm as lgb"
   ]
  },
  {
   "cell_type": "markdown",
   "metadata": {},
   "source": [
    "objective = lambdarank\n",
    "boosting_type = gbdt\n",
    "num_trees = 30\n",
    "num_leaves = 128\n",
    "feature_fraction = 0.2\n",
    "bagging_fraction = 0.2\n",
    "max_bin = 256\n",
    "learning_rate = 0.2\n",
    "label_gain = 1,30"
   ]
  },
  {
   "cell_type": "markdown",
   "metadata": {},
   "source": [
    "\n",
    "\n",
    "'num_trees': [30]\n",
    "'num_leaves': [128]\n",
    "'feature_fraction': [0.2]\n",
    "'bagging_fraction': [0.2]\n",
    "'max_bin':  [256]\n",
    "'label_gain': [1,30]"
   ]
  },
  {
   "cell_type": "code",
   "execution_count": null,
   "metadata": {},
   "outputs": [
    {
     "name": "stdout",
     "output_type": "stream",
     "text": [
      "Fitting 3 folds for each of 1 candidates, totalling 3 fits\n"
     ]
    }
   ],
   "source": [
    "from sklearn.metrics import auc, accuracy_score, roc_auc_score\n",
    "from sklearn.model_selection import GridSearchCV\n",
    "\n",
    "estimator = lgb.LGBMClassifier(learning_rate = 0.125, metric = 'l1')\n",
    "\n",
    "#'n_estimators': [x for x in range(20, 36, 2)],\n",
    "#'learning_rate': [0.10, 0.125, 0.15, 0.175, 0.2]}\n",
    "param_grid = {\n",
    "    'learning_rate': [0.05],\n",
    "    'objective' : ['binary'],\n",
    "    'metric': ['binary_logloss'],\n",
    "    'boosting_type' : ['gbdt'],\n",
    "    'num_trees': [3000],\n",
    "    'feature_fraction': [0.9],\n",
    "    'bagging_fraction': [0.9],\n",
    "    'bagging_freq':  [5],}\n",
    "gridsearch = GridSearchCV(estimator = estimator, param_grid = param_grid, \n",
    "                          cv = 3, n_jobs = -2, verbose = 1)#, \n",
    "                          #fit_params={'early_stopping_rounds':20})\n",
    "                          #fit_params={'early_stopping_rounds':20,'eval_set':[(X,y)]})\n",
    "\n",
    "gridsearch.fit(X_train, y_train,\n",
    "        eval_set = [(X_val, y_val)],\n",
    "        eval_metric = ['auc', 'binary_logloss'])"
   ]
  },
  {
   "cell_type": "code",
   "execution_count": null,
   "metadata": {},
   "outputs": [],
   "source": [
    "print('Best score: ', gridsearch.best_score_)\n",
    "mod = gridsearch.best_estimator_"
   ]
  },
  {
   "cell_type": "code",
   "execution_count": null,
   "metadata": {},
   "outputs": [],
   "source": [
    "#https://github.com/Microsoft/LightGBM/blob/master/examples/python-guide/advanced_example.py\n",
    "# if you want to re-use data, remember to set free_raw_data=False\n",
    "#lgb_train = lgb.Dataset(X_train, y_train, weight=W_train, free_raw_data=False)\n",
    "#lgb_eval = lgb.Dataset(X_test, y_test, reference=lgb_train, weight=W_test, free_raw_data=False)"
   ]
  },
  {
   "cell_type": "code",
   "execution_count": 66,
   "metadata": {},
   "outputs": [
    {
     "name": "stdout",
     "output_type": "stream",
     "text": [
      "Format a Train and Validation Set for LGB\n"
     ]
    }
   ],
   "source": [
    "print('Format a Train and Validation Set for LGB')\n",
    "df_train = lgb.Dataset(X_train, label=y_train)\n",
    "df_val = lgb.Dataset(X_val, label=y_val)\n",
    "#df_test = lgb.Dataset(X_val, label=y_val)"
   ]
  },
  {
   "cell_type": "code",
   "execution_count": 77,
   "metadata": {},
   "outputs": [
    {
     "name": "stderr",
     "output_type": "stream",
     "text": [
      "D:\\Anaconda\\lib\\site-packages\\lightgbm\\engine.py:113: UserWarning: Found `num_iterations` in params. Will use it instead of argument\n",
      "  warnings.warn(\"Found `{}` in params. Will use it instead of argument\".format(alias))\n"
     ]
    },
    {
     "name": "stdout",
     "output_type": "stream",
     "text": [
      "Training until validation scores don't improve for 20 rounds.\n",
      "[50]\tdf_val's binary_logloss: 0.257806\n",
      "[100]\tdf_val's binary_logloss: 0.227086\n",
      "[150]\tdf_val's binary_logloss: 0.210598\n",
      "[200]\tdf_val's binary_logloss: 0.20054\n",
      "[250]\tdf_val's binary_logloss: 0.193141\n",
      "[300]\tdf_val's binary_logloss: 0.187387\n",
      "[350]\tdf_val's binary_logloss: 0.182216\n",
      "[400]\tdf_val's binary_logloss: 0.178601\n",
      "[450]\tdf_val's binary_logloss: 0.176227\n",
      "[500]\tdf_val's binary_logloss: 0.1741\n",
      "[550]\tdf_val's binary_logloss: 0.172681\n",
      "[600]\tdf_val's binary_logloss: 0.171284\n",
      "[650]\tdf_val's binary_logloss: 0.17051\n",
      "[700]\tdf_val's binary_logloss: 0.169492\n",
      "[750]\tdf_val's binary_logloss: 0.168906\n",
      "Early stopping, best iteration is:\n",
      "[769]\tdf_val's binary_logloss: 0.168569\n",
      "Wall time: 4min 32s\n"
     ]
    }
   ],
   "source": [
    "%%time\n",
    "\n",
    "#'recall@5': 0.19672131147540983, 'recall@10': 0.31161202185792347\n",
    "#5000 words tf-idf\n",
    "parms = {'task': 'train',\n",
    "    'boosting_type': 'gbdt',\n",
    "    'objective': 'binary',\n",
    "    'metric': 'binary_logloss',\n",
    "    'learning_rate': 0.05, \n",
    "    'max_depth': 5,\n",
    "    'num_iterations': 3000,  \n",
    "    'min_data_in_leaf': 10,#60 \n",
    "    'lambda_l1': 1.0,\n",
    "    'feature_fraction': 0.5, \n",
    "    'bagging_fraction': 0.5, \n",
    "    'bagging_freq': 5}\n",
    "    #'num_leaves': 95,\n",
    "\n",
    "#'recall@5': 0.18729508196721312, 'recall@10': 0.3076502732240437}  \n",
    "#5000 words tf-idf\n",
    "parms = {'task': 'train',\n",
    "    'boosting_type': 'gbdt',\n",
    "    'objective': 'binary',\n",
    "    'metric': 'binary_logloss',\n",
    "    'learning_rate': 0.05, \n",
    "    'max_depth': 5,\n",
    "    'num_iterations': 3000,  \n",
    "    'min_data_in_leaf': 10,#60 \n",
    "    'lambda_l1': 1.0,\n",
    "    'feature_fraction': 0.8, \n",
    "    'bagging_fraction': 0.8, \n",
    "    'bagging_freq': 5}\n",
    "    #'num_leaves': 95,  \n",
    "    \n",
    "\n",
    "\n",
    "#'recall@5': 0.19672131147540983, 'recall@10': 0.31161202185792347\n",
    "#5000 words tf-idf\n",
    "parms = {'task': 'train',\n",
    "    'boosting_type': 'gbdt',\n",
    "    'objective': 'binary',\n",
    "    'metric': 'binary_logloss',\n",
    "    'learning_rate': 0.05, \n",
    "    'max_depth': 5,\n",
    "    'num_iterations': 3000,  \n",
    "    'min_data_in_leaf': 10,#60 \n",
    "    'lambda_l1': 1.0,\n",
    "    'feature_fraction': 0.5, \n",
    "    'bagging_fraction': 0.5, \n",
    "    'bagging_freq': 5}\n",
    "    #'num_leaves': 95,\n",
    "\n",
    "#'recall@5': 0.18729508196721312, 'recall@10': 0.3076502732240437}  \n",
    "#5000 words tf-idf\n",
    "parms = {'task': 'train',\n",
    "    'boosting_type': 'gbdt',\n",
    "    'objective': 'binary',\n",
    "    'metric': 'binary_logloss',\n",
    "    'learning_rate': 0.05, \n",
    "    'max_depth': 5,\n",
    "    'num_iterations': 3000,  \n",
    "    'min_data_in_leaf': 25,#60 \n",
    "    'lambda_l1': 1.0,\n",
    "    'feature_fraction': 0.9, \n",
    "    'bagging_fraction': 0.9, \n",
    "    'bagging_freq': 5}\n",
    "    #'num_leaves': 95,    \n",
    "\n",
    "#'recall@5': 0.18729508196721312, 'recall@10': 0.3076502732240437}  \n",
    "#5000 words tf-idf\n",
    "#mais do que 25 interações\n",
    "#50 nao interagidos aleatorios\n",
    "parms = {'random_state': 42,\n",
    "    'task': 'train',\n",
    "    'boosting_type': 'gbdt',\n",
    "    'objective': 'binary',\n",
    "    'metric': 'binary_logloss',\n",
    "    'learning_rate': 0.05, \n",
    "    'max_depth': -1,#5\n",
    "    'num_estimators': [20]\n",
    "    'num_iterations': 3000,  \n",
    "    'min_data_in_leaf': 25,#60 \n",
    "    'lambda_l1': 1.0,\n",
    "    'feature_fraction': 0.9, \n",
    "    'bagging_fraction': 0.9, \n",
    "    'bagging_freq': 5,}\n",
    "    #'num_threads': 10,\n",
    "    #'num_trees': [5],#55\n",
    "    #'num_leaves': 95,    \n",
    "    #'num_leaves': 31,\n",
    "    \n",
    "    \n",
    "rnds = 100\n",
    "#mod = lgb.train(parms, train_set=df_train, num_boost_round=rnds,valid_sets=[df_val], valid_names=['df_val'], verbose_eval=50, early_stopping_rounds=20)\n",
    "mod = lgb.train(parms, train_set=df_train, num_boost_round=rnds, valid_sets=[df_val], valid_names=['df_val'],verbose_eval=50, early_stopping_rounds=20)"
   ]
  },
  {
   "cell_type": "code",
   "execution_count": 78,
   "metadata": {
    "scrolled": true
   },
   "outputs": [
    {
     "data": {
      "text/plain": [
       "<matplotlib.axes._subplots.AxesSubplot at 0x271b6ce6668>"
      ]
     },
     "execution_count": 78,
     "metadata": {},
     "output_type": "execute_result"
    },
    {
     "data": {
      "image/png": "[encoded data removed]",
      "text/plain": [
       "<Figure size 1008x720 with 1 Axes>"
      ]
     },
     "metadata": {},
     "output_type": "display_data"
    }
   ],
   "source": [
    "import matplotlib.pyplot as plt\n",
    "%matplotlib inline\n",
    "lgb.plot_importance(mod, max_num_features=50, figsize=(14,10))"
   ]
  },
  {
   "cell_type": "code",
   "execution_count": null,
   "metadata": {},
   "outputs": [],
   "source": []
  },
  {
   "cell_type": "code",
   "execution_count": 79,
   "metadata": {},
   "outputs": [],
   "source": [
    "test_articles_df = articles_df.loc[articles_df['contentId'].isin(interactions_test_df['contentId'])]"
   ]
  },
  {
   "cell_type": "code",
   "execution_count": 80,
   "metadata": {},
   "outputs": [],
   "source": [
    "test_df_articles_tfidf, test_items_ids, test_tfidf_matrix = df_tfidf(test_articles_df)"
   ]
  },
  {
   "cell_type": "code",
   "execution_count": 81,
   "metadata": {},
   "outputs": [],
   "source": [
    "test_df_user = build_users_profiles(interactions_test_df, test_tfidf_matrix, test_items_ids)\n",
    "\n",
    "#df_interactions_test_indexed = build_interactions_profiles(test_df_user, interactions_test_indexed_df, test_df_articles_tfidf)"
   ]
  },
  {
   "cell_type": "code",
   "execution_count": 82,
   "metadata": {},
   "outputs": [],
   "source": [
    "import time as time"
   ]
  },
  {
   "cell_type": "code",
   "execution_count": 83,
   "metadata": {},
   "outputs": [],
   "source": [
    "class LGBMRecommender:\n",
    "    #import time as time\n",
    "\n",
    "    MODEL_NAME = 'LGBM'\n",
    "    def __init__(self, modelo):\n",
    "        self.modelo = modelo\n",
    "        self.time = time\n",
    "        \n",
    "    def get_model_name(self):\n",
    "        return self.MODEL_NAME\n",
    "        \n",
    "    def recommend_items(self, person_id, itens_to_rec, items_to_ignore, topn=10, verbose=False):\n",
    "\n",
    "        start_time = time.time()\n",
    "        test_articles_df = articles_df.loc[articles_df['contentId'].isin(itens_to_rec)]\n",
    "        test_df_articles_tfidf, test_items_ids, test_tfidf_matrix = df_tfidf(test_articles_df)\n",
    "        print(\"--- %seconds tfidf ---\" % (time.time() - start_time))\n",
    "        \n",
    "        start_time = time.time()\n",
    "        i_df = test_df_articles_tfidf\n",
    "        i_df.reset_index(inplace=True, drop=True)\n",
    "        \n",
    "        #test_df_user vem de fora da classe\n",
    "        #u = test_df_user.loc[[person_id]]\n",
    "        u = train_df_user.loc[[person_id]]\n",
    "        u_df = pd.concat([u]*len(itens_to_rec), ignore_index=True)\n",
    "        \n",
    "        data = list(test_articles_df['contentId'])\n",
    "        ui_df = pd.DataFrame(data = data, columns=['contentId'])\n",
    "        ui_df.insert(loc=0, column='personId', value=person_id)\n",
    "        \n",
    "        interactions_test_df_rec = pd.concat((ui_df,u_df,i_df),axis=1)\n",
    "        #print('recommendation: ', interactions_test_df_rec[['contentId']].head(1))\n",
    "        \n",
    "        \n",
    "        df_to_rec = interactions_test_df_rec\n",
    "        df_to_rec_pred = df_to_rec.drop(['contentId','personId'], axis=1)\n",
    "        print(\"--- %seconds BUILD DATASET ---\" % (time.time() - start_time))\n",
    "        #print(df_to_rec.shape)\n",
    "        \n",
    "        #df_to_rec_pred_columns = df_to_rec_pred.columns\n",
    "        #df_aux = pd.DataFrame(index = df_to_rec_pred.index, columns = X_train_columns)\n",
    "\n",
    "        #for c in X_train_columns:\n",
    "        #    if c in df_to_rec_pred_columns:\n",
    "        #        df_aux[c] = df_to_rec_pred[c]\n",
    "        #            #print(df_aux[c])\n",
    "        #    else:\n",
    "        #        #print(c)\n",
    "        #        df_aux[c] = df_aux[c].fillna(0)\n",
    "        #        \n",
    "        #df_to_rec_pred = df_aux\n",
    "        start_time = time.time()\n",
    "        #usar quando vir a resposta direto do modelo\n",
    "        pred = self.modelo.predict(df_to_rec_pred)\n",
    "        #pred = self.modelo.predict_proba(df_to_rec_pred)\n",
    "        \n",
    "        print(\"--- %seconds pred ---\" % (time.time() - start_time))\n",
    "        \n",
    "        start_time = time.time()\n",
    "        preds_df =  pd.DataFrame(pred, columns = ['1'])\n",
    "        #preds_df =  pd.DataFrame(pred, columns = ['0','1'])\n",
    "        lgbm_preds_df = pd.concat((df_to_rec[['contentId','personId']],preds_df[['1']]), axis=1)\n",
    "        \n",
    "        lgbm_preds_df.set_index('personId', inplace=True)\n",
    "        #print(\"--- %seconds lgbm_preds_df ---\" % (time.time() - start_time))\n",
    "        #print(lgbm_preds_df)\n",
    "        #print('userid ',person_id)\n",
    "        \n",
    "        #start_time = time.time()\n",
    "        \n",
    "        sorted_user_predictions = lgbm_preds_df.loc[[person_id]].sort_values(by='1',ascending=False) \\\n",
    "                                    .reset_index(drop=True).rename(columns={'1': 'recStrength'})\n",
    "        #print(sorted_user_predictions)\n",
    "        #print(\"--- %seconds sorted_user_predictions ---\" % (time.time() - start_time))\n",
    "        # Recommend the highest predicted rating movies that the user hasn't seen yet.       \n",
    "        recommendations_df = sorted_user_predictions[~sorted_user_predictions['contentId'].isin(items_to_ignore)] \\\n",
    "                               .sort_values('recStrength', ascending = False) \\\n",
    "                               .head(topn)\n",
    "        #print(recommendations_df)\n",
    "        #start_time = time.time()\n",
    "        if verbose:\n",
    "            if self.items_df is None:\n",
    "                raise Exception('\"items_df\" is required in verbose mode')\n",
    "\n",
    "            recommendations_df = recommendations_df.merge(self.items_df, how = 'left', \n",
    "                                                          left_on = 'contentId', \n",
    "                                                          right_on = 'contentId')[['recStrength', 'contentId', 'title', 'url', 'lang']]\n",
    "\n",
    "        #print(\"--- %seconds recommendations_df ---\" % (time.time() - start_time))\n",
    "        #print(recommendations_df)\n",
    "        print(\"--- %seconds RESTO ---\" % (time.time() - start_time))\n",
    "        return recommendations_df\n",
    "    \n",
    "lgbm_recommender_model = LGBMRecommender(mod)"
   ]
  },
  {
   "cell_type": "code",
   "execution_count": null,
   "metadata": {
    "scrolled": true
   },
   "outputs": [
    {
     "name": "stdout",
     "output_type": "stream",
     "text": [
      "Evaluating Light GBM model...\n",
      "tamanho users:  322\n",
      "--- 0.1825120449066162econds tfidf ---\n",
      "--- 0.053856849670410156econds BUILD DATASET ---\n",
      "--- 9.08171820640564econds pred ---\n",
      "--- 0.010970115661621094econds RESTO ---\n",
      "--- 0.13563752174377441econds tfidf ---\n",
      "--- 0.030915498733520508econds BUILD DATASET ---\n",
      "--- 5.079419136047363econds pred ---\n",
      "--- 0.00997304916381836econds RESTO ---\n",
      "--- 0.1266944408416748econds tfidf ---\n",
      "--- 0.02091383934020996econds BUILD DATASET ---\n",
      "--- 3.7665603160858154econds pred ---\n",
      "--- 0.009973526000976562econds RESTO ---\n",
      "--- 0.14661049842834473econds tfidf ---\n",
      "--- 0.03291130065917969econds BUILD DATASET ---\n",
      "--- 4.443593740463257econds pred ---\n",
      "--- 0.012964487075805664econds RESTO ---\n",
      "--- 0.14360618591308594econds tfidf ---\n",
      "--- 0.040889739990234375econds BUILD DATASET ---\n",
      "--- 3.9310734272003174econds pred ---\n",
      "--- 0.011967658996582031econds RESTO ---\n",
      "--- 0.14749789237976074econds tfidf ---\n",
      "--- 0.015623092651367188econds BUILD DATASET ---\n",
      "--- 3.0999510288238525econds pred ---\n",
      "--- 0.0econds RESTO ---\n",
      "--- 0.15047883987426758econds tfidf ---\n",
      "--- 0.02119922637939453econds BUILD DATASET ---\n",
      "--- 2.9890947341918945econds pred ---\n",
      "--- 0.004530906677246094econds RESTO ---\n",
      "--- 0.14059090614318848econds tfidf ---\n",
      "--- 0.015624284744262695econds BUILD DATASET ---\n",
      "--- 3.09598708152771econds pred ---\n",
      "--- 0.015574932098388672econds RESTO ---\n",
      "--- 0.09372735023498535econds tfidf ---\n",
      "--- 0.03780651092529297econds BUILD DATASET ---\n",
      "--- 3.1111416816711426econds pred ---\n",
      "--- 0.008975982666015625econds RESTO ---\n",
      "--- 0.1127007007598877econds tfidf ---\n",
      "--- 0.021944046020507812econds BUILD DATASET ---\n",
      "--- 3.154341697692871econds pred ---\n",
      "--- 0.0031723976135253906econds RESTO ---\n",
      "--- 0.12477898597717285econds tfidf ---\n",
      "--- 0.026929616928100586econds BUILD DATASET ---\n",
      "--- 3.2220447063446045econds pred ---\n",
      "--- 0.008976459503173828econds RESTO ---\n",
      "--- 0.11968255043029785econds tfidf ---\n",
      "--- 0.021947145462036133econds BUILD DATASET ---\n",
      "--- 3.0935537815093994econds pred ---\n",
      "--- 0.0econds RESTO ---\n",
      "--- 0.10939574241638184econds tfidf ---\n",
      "--- 0.031199216842651367econds BUILD DATASET ---\n",
      "--- 3.2479748725891113econds pred ---\n",
      "--- 0.009973287582397461econds RESTO ---\n",
      "--- 0.14259672164916992econds tfidf ---\n",
      "--- 0.031243085861206055econds BUILD DATASET ---\n",
      "--- 5.965799570083618econds pred ---\n",
      "--- 0.009973526000976562econds RESTO ---\n",
      "--- 0.157578706741333econds tfidf ---\n",
      "--- 0.029920339584350586econds BUILD DATASET ---\n",
      "--- 3.2963383197784424econds pred ---\n",
      "--- 0.0econds RESTO ---\n",
      "--- 0.09839701652526855econds tfidf ---\n",
      "--- 0.015624761581420898econds BUILD DATASET ---\n",
      "--- 3.1388280391693115econds pred ---\n",
      "--- 0.023963451385498047econds RESTO ---\n",
      "--- 0.1442258358001709econds tfidf ---\n",
      "--- 0.031240224838256836econds BUILD DATASET ---\n",
      "--- 3.10965633392334econds pred ---\n",
      "--- 0.015622138977050781econds RESTO ---\n",
      "--- 0.10935163497924805econds tfidf ---\n",
      "--- 0.031243324279785156econds BUILD DATASET ---\n",
      "--- 2.985668420791626econds pred ---\n",
      "--- 0.007977962493896484econds RESTO ---\n",
      "--- 0.09372854232788086econds tfidf ---\n",
      "--- 0.03127861022949219econds BUILD DATASET ---\n",
      "--- 2.872133255004883econds pred ---\n",
      "--- 0.015565872192382812econds RESTO ---\n",
      "--- 0.125014066696167econds tfidf ---\n",
      "--- 0.0213010311126709econds BUILD DATASET ---\n",
      "--- 2.8846306800842285econds pred ---\n",
      "--- 0.015593528747558594econds RESTO ---\n",
      "--- 0.12500309944152832econds tfidf ---\n",
      "--- 0.01558065414428711econds BUILD DATASET ---\n",
      "--- 2.9218828678131104econds pred ---\n",
      "--- 0.008976459503173828econds RESTO ---\n",
      "--- 0.12865638732910156econds tfidf ---\n",
      "--- 0.025931119918823242econds BUILD DATASET ---\n",
      "--- 3.19158673286438econds pred ---\n",
      "--- 0.008975982666015625econds RESTO ---\n",
      "--- 0.146651029586792econds tfidf ---\n",
      "--- 0.0238950252532959econds BUILD DATASET ---\n",
      "--- 3.3054401874542236econds pred ---\n",
      "--- 0.015582799911499023econds RESTO ---\n",
      "--- 0.10938286781311035econds tfidf ---\n",
      "--- 0.015628814697265625econds BUILD DATASET ---\n",
      "--- 3.8170268535614014econds pred ---\n",
      "--- 0.015620708465576172econds RESTO ---\n",
      "--- 0.12493443489074707econds tfidf ---\n",
      "--- 0.03400707244873047econds BUILD DATASET ---\n",
      "--- 3.452677011489868econds pred ---\n",
      "--- 0.010970592498779297econds RESTO ---\n",
      "--- 0.1426088809967041econds tfidf ---\n",
      "--- 0.031243562698364258econds BUILD DATASET ---\n",
      "--- 4.008748769760132econds pred ---\n",
      "--- 0.007979393005371094econds RESTO ---\n",
      "--- 0.10671710968017578econds tfidf ---\n",
      "--- 0.020975589752197266econds BUILD DATASET ---\n",
      "--- 3.3839194774627686econds pred ---\n",
      "--- 0.00897526741027832econds RESTO ---\n",
      "--- 0.10675048828125econds tfidf ---\n",
      "--- 0.020910978317260742econds BUILD DATASET ---\n",
      "--- 3.7649316787719727econds pred ---\n",
      "--- 0.011967658996582031econds RESTO ---\n",
      "--- 0.11967945098876953econds tfidf ---\n",
      "--- 0.020946979522705078econds BUILD DATASET ---\n",
      "--- 3.2991766929626465econds pred ---\n",
      "--- 0.006981372833251953econds RESTO ---\n",
      "--- 0.09478974342346191econds tfidf ---\n",
      "--- 0.017943620681762695econds BUILD DATASET ---\n",
      "--- 2.7506117820739746econds pred ---\n",
      "--- 0.006980419158935547econds RESTO ---\n",
      "--- 0.10974550247192383econds tfidf ---\n",
      "--- 0.019908428192138672econds BUILD DATASET ---\n",
      "--- 2.533226490020752econds pred ---\n",
      "--- 0.006981372833251953econds RESTO ---\n",
      "--- 0.0917959213256836econds tfidf ---\n",
      "--- 0.0169525146484375econds BUILD DATASET ---\n",
      "--- 2.5990118980407715econds pred ---\n",
      "--- 0.006981372833251953econds RESTO ---\n",
      "--- 0.09774065017700195econds tfidf ---\n",
      "--- 0.017952919006347656econds BUILD DATASET ---\n",
      "--- 2.582094430923462econds pred ---\n",
      "--- 0.007978677749633789econds RESTO ---\n",
      "--- 0.10176920890808105econds tfidf ---\n",
      "--- 0.018942594528198242econds BUILD DATASET ---\n",
      "--- 2.7546005249023438econds pred ---\n",
      "--- 0.007975339889526367econds RESTO ---\n",
      "--- 0.11074376106262207econds tfidf ---\n",
      "--- 0.018909931182861328econds BUILD DATASET ---\n",
      "--- 2.6688644886016846econds pred ---\n",
      "--- 0.00798177719116211econds RESTO ---\n",
      "--- 0.10375666618347168econds tfidf ---\n",
      "--- 0.018955230712890625econds BUILD DATASET ---\n",
      "--- 2.5381767749786377econds pred ---\n",
      "--- 0.007978200912475586econds RESTO ---\n",
      "--- 0.10073137283325195econds tfidf ---\n",
      "--- 0.018985748291015625econds BUILD DATASET ---\n",
      "--- 2.665834665298462econds pred ---\n",
      "--- 0.006981849670410156econds RESTO ---\n",
      "--- 0.09777522087097168econds tfidf ---\n",
      "--- 0.017950057983398438econds BUILD DATASET ---\n",
      "--- 2.7216897010803223econds pred ---\n",
      "--- 0.007977962493896484econds RESTO ---\n",
      "--- 0.09877324104309082econds tfidf ---\n",
      "--- 0.018913745880126953econds BUILD DATASET ---\n",
      "--- 2.6339192390441895econds pred ---\n",
      "--- 0.007979154586791992econds RESTO ---\n",
      "--- 0.11070632934570312econds tfidf ---\n",
      "--- 0.01799798011779785econds BUILD DATASET ---\n",
      "--- 2.5122392177581787econds pred ---\n",
      "--- 0.007978439331054688econds RESTO ---\n",
      "--- 0.09574437141418457econds tfidf ---\n",
      "--- 0.01894855499267578econds BUILD DATASET ---\n",
      "--- 2.6309654712677econds pred ---\n",
      "--- 0.007978439331054688econds RESTO ---\n",
      "--- 0.09677600860595703econds tfidf ---\n",
      "--- 0.016956090927124023econds BUILD DATASET ---\n",
      "--- 2.663841962814331econds pred ---\n",
      "--- 0.007977962493896484econds RESTO ---\n",
      "--- 0.10575652122497559econds tfidf ---\n",
      "--- 0.01896810531616211econds BUILD DATASET ---\n",
      "--- 2.5910305976867676econds pred ---\n",
      "--- 0.007978200912475586econds RESTO ---\n",
      "--- 0.10472249984741211econds tfidf ---\n",
      "--- 0.019946575164794922econds BUILD DATASET ---\n",
      "--- 2.5960569381713867econds pred ---\n",
      "--- 0.006981611251831055econds RESTO ---\n",
      "--- 0.10475802421569824econds tfidf ---\n",
      "--- 0.01801300048828125econds BUILD DATASET ---\n",
      "--- 2.5730862617492676econds pred ---\n",
      "--- 0.008976221084594727econds RESTO ---\n",
      "--- 0.09578108787536621econds tfidf ---\n",
      "--- 0.02195000648498535econds BUILD DATASET ---\n",
      "--- 2.7725439071655273econds pred ---\n",
      "--- 0.007977485656738281econds RESTO ---\n",
      "--- 0.09278559684753418econds tfidf ---\n",
      "--- 0.017951250076293945econds BUILD DATASET ---\n",
      "--- 2.575082302093506econds pred ---\n",
      "--- 0.00698089599609375econds RESTO ---\n",
      "--- 0.10776519775390625econds tfidf ---\n",
      "--- 0.019894123077392578econds BUILD DATASET ---\n",
      "--- 2.5571630001068115econds pred ---\n",
      "--- 0.006980419158935547econds RESTO ---\n",
      "--- 0.09478378295898438econds tfidf ---\n",
      "--- 0.01791548728942871econds BUILD DATASET ---\n",
      "--- 2.5651416778564453econds pred ---\n",
      "--- 0.006981611251831055econds RESTO ---\n",
      "--- 0.11872649192810059econds tfidf ---\n",
      "--- 0.01795172691345215econds BUILD DATASET ---\n"
     ]
    },
    {
     "name": "stdout",
     "output_type": "stream",
     "text": [
      "--- 2.6239407062530518econds pred ---\n",
      "--- 0.00698089599609375econds RESTO ---\n",
      "--- 0.08681321144104004econds tfidf ---\n",
      "--- 0.01795506477355957econds BUILD DATASET ---\n",
      "--- 2.491300582885742econds pred ---\n",
      "--- 0.006981372833251953econds RESTO ---\n",
      "--- 0.10773205757141113econds tfidf ---\n",
      "--- 0.016971349716186523econds BUILD DATASET ---\n",
      "--- 2.623948097229004econds pred ---\n",
      "--- 0.007978200912475586econds RESTO ---\n",
      "--- 0.12466883659362793econds tfidf ---\n",
      "--- 0.017990827560424805econds BUILD DATASET ---\n",
      "--- 2.5770881175994873econds pred ---\n",
      "--- 0.007978200912475586econds RESTO ---\n",
      "--- 0.10874295234680176econds tfidf ---\n",
      "--- 0.019913911819458008econds BUILD DATASET ---\n",
      "--- 2.555166482925415econds pred ---\n",
      "--- 0.006981372833251953econds RESTO ---\n",
      "--- 0.09278726577758789econds tfidf ---\n",
      "--- 0.018915653228759766econds BUILD DATASET ---\n",
      "--- 2.586085319519043econds pred ---\n",
      "--- 0.006981849670410156econds RESTO ---\n",
      "--- 0.1017611026763916econds tfidf ---\n",
      "--- 0.0189516544342041econds BUILD DATASET ---\n",
      "--- 2.520226240158081econds pred ---\n",
      "--- 0.006981372833251953econds RESTO ---\n",
      "--- 0.09773826599121094econds tfidf ---\n",
      "--- 0.016991853713989258econds BUILD DATASET ---\n",
      "--- 2.529195785522461econds pred ---\n",
      "--- 0.006981372833251953econds RESTO ---\n",
      "--- 0.09877204895019531econds tfidf ---\n",
      "--- 0.016953468322753906econds BUILD DATASET ---\n",
      "--- 2.582071304321289econds pred ---\n",
      "--- 0.00698089599609375econds RESTO ---\n",
      "--- 0.1107034683227539econds tfidf ---\n",
      "--- 0.017952680587768555econds BUILD DATASET ---\n",
      "--- 2.513280153274536econds pred ---\n",
      "--- 0.006982564926147461econds RESTO ---\n",
      "--- 0.10671472549438477econds tfidf ---\n",
      "--- 0.01699352264404297econds BUILD DATASET ---\n",
      "--- 2.7256767749786377econds pred ---\n",
      "--- 0.006981372833251953econds RESTO ---\n",
      "--- 0.10671377182006836econds tfidf ---\n",
      "--- 0.019948720932006836econds BUILD DATASET ---\n",
      "--- 2.4604198932647705econds pred ---\n",
      "--- 0.006981372833251953econds RESTO ---\n",
      "--- 0.08979392051696777econds tfidf ---\n",
      "--- 0.017954587936401367econds BUILD DATASET ---\n",
      "--- 2.4613821506500244econds pred ---\n",
      "--- 0.007979393005371094econds RESTO ---\n",
      "--- 0.09978222846984863econds tfidf ---\n",
      "--- 0.017904281616210938econds BUILD DATASET ---\n",
      "--- 2.9680697917938232econds pred ---\n",
      "--- 0.009973526000976562econds RESTO ---\n",
      "--- 0.11472821235656738econds tfidf ---\n",
      "--- 0.018950462341308594econds BUILD DATASET ---\n",
      "--- 3.0408356189727783econds pred ---\n",
      "--- 0.006981849670410156econds RESTO ---\n",
      "--- 0.09777522087097168econds tfidf ---\n",
      "--- 0.017952680587768555econds BUILD DATASET ---\n",
      "--- 3.207387924194336econds pred ---\n",
      "--- 0.008976459503173828econds RESTO ---\n",
      "--- 0.09976816177368164econds tfidf ---\n",
      "--- 0.01895880699157715econds BUILD DATASET ---\n",
      "--- 2.52819561958313econds pred ---\n",
      "--- 0.006980419158935547econds RESTO ---\n",
      "--- 0.09777450561523438econds tfidf ---\n",
      "--- 0.01794910430908203econds BUILD DATASET ---\n",
      "--- 3.018895149230957econds pred ---\n",
      "--- 0.007979154586791992econds RESTO ---\n",
      "--- 0.15961503982543945econds tfidf ---\n",
      "--- 0.02792072296142578econds BUILD DATASET ---\n",
      "--- 3.4726779460906982econds pred ---\n",
      "--- 0.008975982666015625econds RESTO ---\n",
      "--- 0.12669777870178223econds tfidf ---\n",
      "--- 0.020944833755493164econds BUILD DATASET ---\n",
      "--- 3.028864622116089econds pred ---\n",
      "--- 0.007979154586791992econds RESTO ---\n",
      "--- 0.10970783233642578econds tfidf ---\n",
      "--- 0.02792501449584961econds BUILD DATASET ---\n",
      "--- 3.022916555404663econds pred ---\n",
      "--- 0.006981849670410156econds RESTO ---\n",
      "--- 0.10275888442993164econds tfidf ---\n",
      "--- 0.01995682716369629econds BUILD DATASET ---\n",
      "--- 2.504260301589966econds pred ---\n",
      "--- 0.007979631423950195econds RESTO ---\n",
      "--- 0.11373448371887207econds tfidf ---\n",
      "--- 0.018954992294311523econds BUILD DATASET ---\n",
      "--- 2.517226457595825econds pred ---\n",
      "--- 0.006982088088989258econds RESTO ---\n",
      "--- 0.10575103759765625econds tfidf ---\n",
      "--- 0.017954349517822266econds BUILD DATASET ---\n",
      "--- 2.727670431137085econds pred ---\n",
      "--- 0.006981372833251953econds RESTO ---\n",
      "--- 0.0997323989868164econds tfidf ---\n",
      "--- 0.018950223922729492econds BUILD DATASET ---\n",
      "--- 2.559156894683838econds pred ---\n",
      "--- 0.006981372833251953econds RESTO ---\n",
      "--- 0.1037590503692627econds tfidf ---\n",
      "--- 0.017915964126586914econds BUILD DATASET ---\n",
      "--- 2.5033066272735596econds pred ---\n",
      "--- 0.006981849670410156econds RESTO ---\n",
      "--- 0.07878828048706055econds tfidf ---\n",
      "--- 0.02593255043029785econds BUILD DATASET ---\n",
      "--- 2.4853529930114746econds pred ---\n",
      "--- 0.00698089599609375econds RESTO ---\n",
      "--- 0.10876178741455078econds tfidf ---\n",
      "--- 0.018937349319458008econds BUILD DATASET ---\n",
      "--- 2.801469087600708econds pred ---\n",
      "--- 0.007978439331054688econds RESTO ---\n",
      "--- 0.10870909690856934econds tfidf ---\n",
      "--- 0.019947052001953125econds BUILD DATASET ---\n",
      "--- 2.5372159481048584econds pred ---\n",
      "--- 0.006981849670410156econds RESTO ---\n",
      "--- 0.1077122688293457econds tfidf ---\n",
      "--- 0.02393484115600586econds BUILD DATASET ---\n",
      "--- 2.8094887733459473econds pred ---\n",
      "--- 0.006981849670410156econds RESTO ---\n",
      "--- 0.10172820091247559econds tfidf ---\n",
      "--- 0.017988920211791992econds BUILD DATASET ---\n",
      "--- 2.5770723819732666econds pred ---\n",
      "--- 0.007979869842529297econds RESTO ---\n",
      "--- 0.10671472549438477econds tfidf ---\n",
      "--- 0.018949508666992188econds BUILD DATASET ---\n",
      "--- 2.4983198642730713econds pred ---\n",
      "--- 0.00698089599609375econds RESTO ---\n",
      "--- 0.1237034797668457econds tfidf ---\n",
      "--- 0.017919063568115234econds BUILD DATASET ---\n",
      "--- 2.522254705429077econds pred ---\n",
      "--- 0.006981611251831055econds RESTO ---\n",
      "--- 0.10475444793701172econds tfidf ---\n",
      "--- 0.01695871353149414econds BUILD DATASET ---\n",
      "--- 2.492298126220703econds pred ---\n",
      "--- 0.007979393005371094econds RESTO ---\n",
      "--- 0.1067500114440918econds tfidf ---\n",
      "--- 0.01795029640197754econds BUILD DATASET ---\n",
      "--- 2.4972891807556152econds pred ---\n",
      "--- 0.007979393005371094econds RESTO ---\n",
      "--- 0.1017615795135498econds tfidf ---\n",
      "--- 0.017954111099243164econds BUILD DATASET ---\n",
      "--- 2.520226001739502econds pred ---\n",
      "--- 0.006981849670410156econds RESTO ---\n",
      "--- 0.10970735549926758econds tfidf ---\n",
      "--- 0.018949270248413086econds BUILD DATASET ---\n",
      "--- 3.224377393722534econds pred ---\n",
      "--- 0.007979393005371094econds RESTO ---\n",
      "--- 0.08976006507873535econds tfidf ---\n",
      "--- 0.02094554901123047econds BUILD DATASET ---\n",
      "--- 3.4876744747161865econds pred ---\n",
      "--- 0.014960050582885742econds RESTO ---\n",
      "--- 0.13563895225524902econds tfidf ---\n",
      "--- 0.02692699432373047econds BUILD DATASET ---\n",
      "--- 3.305162191390991econds pred ---\n",
      "--- 0.00797891616821289econds RESTO ---\n",
      "--- 0.10073089599609375econds tfidf ---\n",
      "--- 0.018950700759887695econds BUILD DATASET ---\n",
      "--- 3.3848354816436768econds pred ---\n",
      "--- 0.015618562698364258econds RESTO ---\n",
      "--- 0.11928319931030273econds tfidf ---\n",
      "--- 0.01562809944152832econds BUILD DATASET ---\n",
      "--- 3.2193849086761475econds pred ---\n",
      "--- 0.007978439331054688econds RESTO ---\n",
      "--- 0.1186833381652832econds tfidf ---\n",
      "--- 0.02094864845275879econds BUILD DATASET ---\n",
      "--- 3.333085536956787econds pred ---\n",
      "--- 0.007498979568481445econds RESTO ---\n",
      "--- 0.11070466041564941econds tfidf ---\n",
      "--- 0.01795196533203125econds BUILD DATASET ---\n",
      "--- 2.5007853507995605econds pred ---\n",
      "--- 0.015565156936645508econds RESTO ---\n",
      "--- 0.10934948921203613econds tfidf ---\n",
      "--- 0.015623807907104492econds BUILD DATASET ---\n",
      "--- 2.513920783996582econds pred ---\n",
      "--- 0.007977962493896484econds RESTO ---\n",
      "--- 0.0955195426940918econds tfidf ---\n",
      "--- 0.016884803771972656econds BUILD DATASET ---\n",
      "--- 2.5222065448760986econds pred ---\n",
      "--- 0.0econds RESTO ---\n",
      "--- 0.08550000190734863econds tfidf ---\n",
      "--- 0.018949031829833984econds BUILD DATASET ---\n",
      "--- 2.4674134254455566econds pred ---\n",
      "--- 0.015573501586914062econds RESTO ---\n",
      "--- 0.11283516883850098econds tfidf ---\n",
      "--- 0.020450592041015625econds BUILD DATASET ---\n",
      "--- 2.5039596557617188econds pred ---\n",
      "--- 0.00698089599609375econds RESTO ---\n",
      "--- 0.09980988502502441econds tfidf ---\n",
      "--- 0.015623092651367188econds BUILD DATASET ---\n",
      "--- 2.5224125385284424econds pred ---\n",
      "--- 0.007971763610839844econds RESTO ---\n",
      "--- 0.10836291313171387econds tfidf ---\n",
      "--- 0.01695418357849121econds BUILD DATASET ---\n",
      "--- 2.518280267715454econds pred ---\n",
      "--- 0.0069811344146728516econds RESTO ---\n",
      "--- 0.08579635620117188econds tfidf ---\n",
      "--- 0.03398847579956055econds BUILD DATASET ---\n",
      "--- 2.471892833709717econds pred ---\n",
      "--- 0.0econds RESTO ---\n",
      "--- 0.09653210639953613econds tfidf ---\n",
      "--- 0.003293752670288086econds BUILD DATASET ---\n"
     ]
    },
    {
     "name": "stdout",
     "output_type": "stream",
     "text": [
      "--- 2.3625473976135254econds pred ---\n",
      "--- 0.015621662139892578econds RESTO ---\n",
      "--- 0.09372687339782715econds tfidf ---\n",
      "--- 0.015623092651367188econds BUILD DATASET ---\n",
      "--- 2.4064993858337402econds pred ---\n",
      "--- 0.006981372833251953econds RESTO ---\n",
      "--- 0.09574365615844727econds tfidf ---\n",
      "--- 0.017952442169189453econds BUILD DATASET ---\n",
      "--- 2.5709869861602783econds pred ---\n",
      "--- 0.007978677749633789econds RESTO ---\n",
      "--- 0.11968088150024414econds tfidf ---\n",
      "--- 0.02097797393798828econds BUILD DATASET ---\n",
      "--- 2.9720776081085205econds pred ---\n",
      "--- 0.0econds RESTO ---\n",
      "--- 0.10384774208068848econds tfidf ---\n",
      "--- 0.017951488494873047econds BUILD DATASET ---\n",
      "--- 2.554502487182617econds pred ---\n",
      "--- 0.006979227066040039econds RESTO ---\n",
      "--- 0.12466669082641602econds tfidf ---\n",
      "--- 0.01795220375061035econds BUILD DATASET ---\n",
      "--- 2.8149282932281494econds pred ---\n",
      "--- 0.007977962493896484econds RESTO ---\n",
      "--- 0.10825467109680176econds tfidf ---\n",
      "--- 0.0204012393951416econds BUILD DATASET ---\n",
      "--- 2.709243059158325econds pred ---\n",
      "--- 0.015619516372680664econds RESTO ---\n",
      "--- 0.11874628067016602econds tfidf ---\n",
      "--- 0.02294158935546875econds BUILD DATASET ---\n",
      "--- 2.5584628582000732econds pred ---\n",
      "--- 0.015566587448120117econds RESTO ---\n",
      "--- 0.10935211181640625econds tfidf ---\n",
      "--- 0.015619039535522461econds BUILD DATASET ---\n",
      "--- 2.554569959640503econds pred ---\n",
      "--- 0.0econds RESTO ---\n",
      "--- 0.11571979522705078econds tfidf ---\n",
      "--- 0.022938251495361328econds BUILD DATASET ---\n",
      "--- 2.774916648864746econds pred ---\n",
      "--- 0.007977724075317383econds RESTO ---\n",
      "--- 0.09873676300048828econds tfidf ---\n",
      "--- 0.02023005485534668econds BUILD DATASET ---\n",
      "--- 2.8339481353759766econds pred ---\n",
      "--- 0.015581846237182617econds RESTO ---\n",
      "--- 0.09868264198303223econds tfidf ---\n",
      "--- 0.03124380111694336econds BUILD DATASET ---\n",
      "--- 2.4197394847869873econds pred ---\n",
      "--- 0.006980419158935547econds RESTO ---\n",
      "--- 0.10671567916870117econds tfidf ---\n",
      "--- 0.018986225128173828econds BUILD DATASET ---\n",
      "--- 2.8567073345184326econds pred ---\n",
      "--- 0.009972095489501953econds RESTO ---\n",
      "--- 0.15259480476379395econds tfidf ---\n",
      "--- 0.030917882919311523econds BUILD DATASET ---\n",
      "--- 3.1682136058807373econds pred ---\n",
      "--- 0.00797724723815918econds RESTO ---\n",
      "--- 0.13472700119018555econds tfidf ---\n",
      "--- 0.019055604934692383econds BUILD DATASET ---\n",
      "--- 3.092221260070801econds pred ---\n",
      "--- 0.009974241256713867econds RESTO ---\n",
      "--- 0.10005760192871094econds tfidf ---\n",
      "--- 0.03434133529663086econds BUILD DATASET ---\n",
      "--- 2.6946630477905273econds pred ---\n",
      "--- 0.015609264373779297econds RESTO ---\n",
      "--- 0.09372663497924805econds tfidf ---\n",
      "--- 0.031244277954101562econds BUILD DATASET ---\n",
      "--- 2.475943088531494econds pred ---\n",
      "--- 0.0econds RESTO ---\n",
      "--- 0.09372591972351074econds tfidf ---\n",
      "--- 0.015664339065551758econds BUILD DATASET ---\n",
      "--- 2.6446774005889893econds pred ---\n",
      "--- 0.00698089599609375econds RESTO ---\n",
      "--- 0.11469721794128418econds tfidf ---\n",
      "--- 0.026911258697509766econds BUILD DATASET ---\n",
      "--- 2.7546660900115967econds pred ---\n",
      "--- 0.0econds RESTO ---\n",
      "--- 0.09372687339782715econds tfidf ---\n",
      "--- 0.0312802791595459econds BUILD DATASET ---\n",
      "--- 2.8356690406799316econds pred ---\n",
      "--- 0.015584707260131836econds RESTO ---\n",
      "--- 0.10938286781311035econds tfidf ---\n",
      "--- 0.015624761581420898econds BUILD DATASET ---\n",
      "--- 2.385146379470825econds pred ---\n",
      "--- 0.015580177307128906econds RESTO ---\n",
      "--- 0.09372711181640625econds tfidf ---\n",
      "--- 0.031244516372680664econds BUILD DATASET ---\n",
      "--- 2.3290140628814697econds pred ---\n",
      "--- 0.015578508377075195econds RESTO ---\n",
      "--- 0.09372639656066895econds tfidf ---\n",
      "--- 0.015656471252441406econds BUILD DATASET ---\n",
      "--- 2.822505235671997econds pred ---\n",
      "--- 0.015573740005493164econds RESTO ---\n",
      "--- 0.11855578422546387econds tfidf ---\n",
      "--- 0.024932861328125econds BUILD DATASET ---\n",
      "--- 2.9656972885131836econds pred ---\n",
      "--- 0.015570878982543945econds RESTO ---\n",
      "--- 0.10704350471496582econds tfidf ---\n",
      "--- 0.02792501449584961econds BUILD DATASET ---\n",
      "--- 2.9806909561157227econds pred ---\n",
      "--- 0.008976221084594727econds RESTO ---\n",
      "--- 0.1337118148803711econds tfidf ---\n",
      "--- 0.018949508666992188econds BUILD DATASET ---\n",
      "--- 2.834714412689209econds pred ---\n",
      "--- 0.008976936340332031econds RESTO ---\n",
      "--- 0.12170577049255371econds tfidf ---\n",
      "--- 0.028979063034057617econds BUILD DATASET ---\n",
      "--- 2.663519859313965econds pred ---\n",
      "--- 0.007978200912475586econds RESTO ---\n",
      "--- 0.10272550582885742econds tfidf ---\n",
      "--- 0.016954660415649414econds BUILD DATASET ---\n",
      "--- 2.720329523086548econds pred ---\n",
      "--- 0.008976459503173828econds RESTO ---\n",
      "--- 0.10372185707092285econds tfidf ---\n",
      "--- 0.020943880081176758econds BUILD DATASET ---\n",
      "--- 2.4799392223358154econds pred ---\n",
      "--- 0.006980180740356445econds RESTO ---\n",
      "--- 0.09877276420593262econds tfidf ---\n",
      "--- 0.017948150634765625econds BUILD DATASET ---\n",
      "--- 2.7795135974884033econds pred ---\n",
      "--- 0.009973287582397461econds RESTO ---\n",
      "--- 0.09202742576599121econds tfidf ---\n",
      "--- 0.015621662139892578econds BUILD DATASET ---\n",
      "--- 2.554706335067749econds pred ---\n",
      "--- 0.0econds RESTO ---\n",
      "--- 0.09372639656066895econds tfidf ---\n",
      "--- 0.01566624641418457econds BUILD DATASET ---\n",
      "--- 2.315937042236328econds pred ---\n",
      "--- 0.015578031539916992econds RESTO ---\n",
      "--- 0.07810497283935547econds tfidf ---\n",
      "--- 0.015622854232788086econds BUILD DATASET ---\n",
      "--- 2.4628407955169678econds pred ---\n",
      "--- 0.0econds RESTO ---\n",
      "--- 0.11281204223632812econds tfidf ---\n",
      "--- 0.018948793411254883econds BUILD DATASET ---\n",
      "--- 2.3118419647216797econds pred ---\n",
      "--- 0.015586376190185547econds RESTO ---\n",
      "--- 0.10938191413879395econds tfidf ---\n",
      "--- 0.015644550323486328econds BUILD DATASET ---\n",
      "--- 2.4150190353393555econds pred ---\n",
      "--- 0.0econds RESTO ---\n",
      "--- 0.12858819961547852econds tfidf ---\n",
      "--- 0.015623092651367188econds BUILD DATASET ---\n",
      "--- 2.352032423019409econds pred ---\n",
      "--- 0.015579462051391602econds RESTO ---\n",
      "--- 0.09372806549072266econds tfidf ---\n",
      "--- 0.015659809112548828econds BUILD DATASET ---\n",
      "--- 2.4085276126861572econds pred ---\n",
      "--- 0.015582561492919922econds RESTO ---\n",
      "--- 0.1150813102722168econds tfidf ---\n",
      "--- 0.016956567764282227econds BUILD DATASET ---\n",
      "--- 2.438105583190918econds pred ---\n",
      "--- 0.015565633773803711econds RESTO ---\n",
      "--- 0.09372806549072266econds tfidf ---\n",
      "--- 0.015671730041503906econds BUILD DATASET ---\n",
      "--- 2.336052894592285econds pred ---\n",
      "--- 0.0econds RESTO ---\n",
      "--- 0.09618496894836426econds tfidf ---\n",
      "--- 0.016942262649536133econds BUILD DATASET ---\n",
      "--- 2.3697397708892822econds pred ---\n",
      "--- 0.007978200912475586econds RESTO ---\n",
      "--- 0.08652591705322266econds tfidf ---\n",
      "--- 0.015627384185791016econds BUILD DATASET ---\n",
      "--- 2.4009506702423096econds pred ---\n",
      "--- 0.003258943557739258econds RESTO ---\n",
      "--- 0.10939478874206543econds tfidf ---\n",
      "--- 0.01561284065246582econds BUILD DATASET ---\n",
      "--- 2.3839550018310547econds pred ---\n",
      "--- 0.00698089599609375econds RESTO ---\n",
      "--- 0.09372806549072266econds tfidf ---\n",
      "--- 0.015658140182495117econds BUILD DATASET ---\n",
      "--- 2.351496458053589econds pred ---\n",
      "--- 0.0econds RESTO ---\n",
      "--- 0.09372758865356445econds tfidf ---\n",
      "--- 0.01566791534423828econds BUILD DATASET ---\n",
      "--- 2.3256616592407227econds pred ---\n",
      "--- 0.01558065414428711econds RESTO ---\n",
      "--- 0.09372687339782715econds tfidf ---\n",
      "--- 0.01566171646118164econds BUILD DATASET ---\n",
      "--- 2.290255308151245econds pred ---\n",
      "--- 0.0econds RESTO ---\n",
      "--- 0.09705877304077148econds tfidf ---\n",
      "--- 0.015657663345336914econds BUILD DATASET ---\n",
      "--- 2.302377223968506econds pred ---\n",
      "--- 0.01558375358581543econds RESTO ---\n",
      "--- 0.09372615814208984econds tfidf ---\n",
      "--- 0.03128242492675781econds BUILD DATASET ---\n",
      "--- 2.682652473449707econds pred ---\n",
      "--- 0.0econds RESTO ---\n",
      "--- 0.1124718189239502econds tfidf ---\n",
      "--- 0.015658140182495117econds BUILD DATASET ---\n",
      "--- 2.463226318359375econds pred ---\n",
      "--- 0.015579700469970703econds RESTO ---\n",
      "--- 0.11559414863586426econds tfidf ---\n",
      "--- 0.017945289611816406econds BUILD DATASET ---\n",
      "--- 2.299621343612671econds pred ---\n",
      "--- 0.0econds RESTO ---\n",
      "--- 0.09372258186340332econds tfidf ---\n",
      "--- 0.01566028594970703econds BUILD DATASET ---\n",
      "--- 2.3328135013580322econds pred ---\n",
      "--- 0.00698089599609375econds RESTO ---\n",
      "--- 0.08952188491821289econds tfidf ---\n",
      "--- 0.015653610229492188econds BUILD DATASET ---\n",
      "--- 2.2753121852874756econds pred ---\n",
      "--- 0.015579938888549805econds RESTO ---\n",
      "--- 0.09372639656066895econds tfidf ---\n",
      "--- 0.015656709671020508econds BUILD DATASET ---\n"
     ]
    },
    {
     "name": "stdout",
     "output_type": "stream",
     "text": [
      "--- 2.3241147994995117econds pred ---\n",
      "--- 0.0econds RESTO ---\n",
      "--- 0.10934567451477051econds tfidf ---\n",
      "--- 0.01565861701965332econds BUILD DATASET ---\n",
      "--- 2.2912514209747314econds pred ---\n",
      "--- 0.0econds RESTO ---\n",
      "--- 0.09372711181640625econds tfidf ---\n",
      "--- 0.015625476837158203econds BUILD DATASET ---\n",
      "--- 2.3242831230163574econds pred ---\n",
      "--- 0.015621662139892578econds RESTO ---\n",
      "--- 0.0951836109161377econds tfidf ---\n",
      "--- 0.015624761581420898econds BUILD DATASET ---\n",
      "--- 2.3173608779907227econds pred ---\n",
      "--- 0.006981372833251953econds RESTO ---\n",
      "--- 0.09944915771484375econds tfidf ---\n",
      "--- 0.01893901824951172econds BUILD DATASET ---\n",
      "--- 2.932244062423706econds pred ---\n",
      "--- 0.009973764419555664econds RESTO ---\n",
      "--- 0.09467434883117676econds tfidf ---\n",
      "--- 0.03355121612548828econds BUILD DATASET ---\n",
      "--- 2.733067512512207econds pred ---\n",
      "--- 0.007979393005371094econds RESTO ---\n",
      "--- 0.10892391204833984econds tfidf ---\n",
      "--- 0.02190542221069336econds BUILD DATASET ---\n",
      "--- 2.5531821250915527econds pred ---\n",
      "--- 0.01558232307434082econds RESTO ---\n",
      "--- 0.1093909740447998econds tfidf ---\n",
      "--- 0.021117448806762695econds BUILD DATASET ---\n",
      "--- 2.470822811126709econds pred ---\n",
      "--- 0.008975744247436523econds RESTO ---\n",
      "--- 0.11369872093200684econds tfidf ---\n",
      "--- 0.022937774658203125econds BUILD DATASET ---\n",
      "--- 2.6985256671905518econds pred ---\n",
      "--- 0.007978677749633789econds RESTO ---\n",
      "--- 0.09973430633544922econds tfidf ---\n",
      "--- 0.022939682006835938econds BUILD DATASET ---\n",
      "--- 2.884873390197754econds pred ---\n",
      "--- 0.006135225296020508econds RESTO ---\n",
      "--- 0.1276090145111084econds tfidf ---\n",
      "--- 0.023899316787719727econds BUILD DATASET ---\n",
      "--- 2.821817636489868econds pred ---\n",
      "--- 0.0econds RESTO ---\n",
      "--- 0.10938358306884766econds tfidf ---\n",
      "--- 0.015627145767211914econds BUILD DATASET ---\n",
      "--- 2.708587884902954econds pred ---\n",
      "--- 0.00797891616821289econds RESTO ---\n",
      "--- 0.10276341438293457econds tfidf ---\n",
      "--- 0.022902250289916992econds BUILD DATASET ---\n",
      "--- 2.5136780738830566econds pred ---\n",
      "--- 0.0econds RESTO ---\n",
      "--- 0.09867072105407715econds tfidf ---\n",
      "--- 0.015621662139892578econds BUILD DATASET ---\n",
      "--- 2.549733877182007econds pred ---\n",
      "--- 0.0econds RESTO ---\n",
      "--- 0.10683393478393555econds tfidf ---\n",
      "--- 0.023936033248901367econds BUILD DATASET ---\n",
      "--- 2.716961622238159econds pred ---\n",
      "--- 0.007978677749633789econds RESTO ---\n",
      "--- 0.1186821460723877econds tfidf ---\n",
      "--- 0.02892327308654785econds BUILD DATASET ---\n",
      "--- 2.888441324234009econds pred ---\n",
      "--- 0.007978677749633789econds RESTO ---\n",
      "--- 0.1156919002532959econds tfidf ---\n",
      "--- 0.013278007507324219econds BUILD DATASET ---\n",
      "--- 2.6450796127319336econds pred ---\n",
      "--- 0.006981372833251953econds RESTO ---\n",
      "--- 0.10272789001464844econds tfidf ---\n",
      "--- 0.01695418357849121econds BUILD DATASET ---\n",
      "--- 2.7273664474487305econds pred ---\n",
      "--- 0.0econds RESTO ---\n",
      "--- 0.10935139656066895econds tfidf ---\n",
      "--- 0.015623092651367188econds BUILD DATASET ---\n",
      "--- 2.83541202545166econds pred ---\n",
      "--- 0.007978677749633789econds RESTO ---\n",
      "--- 0.11263227462768555econds tfidf ---\n",
      "--- 0.015621662139892578econds BUILD DATASET ---\n",
      "--- 2.773857831954956econds pred ---\n",
      "--- 0.0econds RESTO ---\n",
      "--- 0.09771966934204102econds tfidf ---\n",
      "--- 0.0156252384185791econds BUILD DATASET ---\n",
      "--- 2.4132180213928223econds pred ---\n",
      "--- 0.00698089599609375econds RESTO ---\n",
      "--- 0.09832882881164551econds tfidf ---\n",
      "--- 0.016955137252807617econds BUILD DATASET ---\n",
      "--- 2.6974587440490723econds pred ---\n",
      "--- 0.0econds RESTO ---\n",
      "--- 0.10938739776611328econds tfidf ---\n",
      "--- 0.015582799911499023econds BUILD DATASET ---\n",
      "--- 2.5972495079040527econds pred ---\n",
      "--- 0.008976221084594727econds RESTO ---\n",
      "--- 0.10258150100708008econds tfidf ---\n",
      "--- 0.03192448616027832econds BUILD DATASET ---\n",
      "--- 2.881265878677368econds pred ---\n",
      "--- 0.009973764419555664econds RESTO ---\n",
      "--- 0.11868500709533691econds tfidf ---\n",
      "--- 0.01795172691345215econds BUILD DATASET ---\n",
      "--- 2.690669298171997econds pred ---\n",
      "--- 0.0econds RESTO ---\n",
      "--- 0.09372663497924805econds tfidf ---\n",
      "--- 0.015622854232788086econds BUILD DATASET ---\n",
      "--- 2.3162732124328613econds pred ---\n",
      "--- 0.0econds RESTO ---\n",
      "--- 0.09372735023498535econds tfidf ---\n",
      "--- 0.015622138977050781econds BUILD DATASET ---\n",
      "--- 2.337883472442627econds pred ---\n",
      "--- 0.015575170516967773econds RESTO ---\n",
      "--- 0.09372663497924805econds tfidf ---\n",
      "--- 0.01565718650817871econds BUILD DATASET ---\n",
      "--- 2.5118398666381836econds pred ---\n",
      "--- 0.0econds RESTO ---\n",
      "--- 0.09597897529602051econds tfidf ---\n",
      "--- 0.015659570693969727econds BUILD DATASET ---\n",
      "--- 2.6523149013519287econds pred ---\n",
      "--- 0.0109710693359375econds RESTO ---\n",
      "--- 0.10775399208068848econds tfidf ---\n",
      "--- 0.018941164016723633econds BUILD DATASET ---\n",
      "--- 2.363645553588867econds pred ---\n",
      "--- 0.006982088088989258econds RESTO ---\n",
      "--- 0.09677624702453613econds tfidf ---\n",
      "--- 0.022905349731445312econds BUILD DATASET ---\n",
      "--- 2.6389431953430176econds pred ---\n",
      "--- 0.007978200912475586econds RESTO ---\n",
      "--- 0.11070418357849121econds tfidf ---\n",
      "--- 0.01898813247680664econds BUILD DATASET ---\n",
      "--- 2.5072579383850098econds pred ---\n",
      "--- 0.00698089599609375econds RESTO ---\n",
      "--- 0.09378933906555176econds tfidf ---\n",
      "--- 0.01694965362548828econds BUILD DATASET ---\n",
      "--- 2.340705394744873econds pred ---\n",
      "--- 0.007978200912475586econds RESTO ---\n",
      "--- 0.1047213077545166econds tfidf ---\n",
      "--- 0.01695394515991211econds BUILD DATASET ---\n",
      "--- 2.5422027111053467econds pred ---\n",
      "--- 0.00698089599609375econds RESTO ---\n",
      "--- 0.1087484359741211econds tfidf ---\n",
      "--- 0.016950368881225586econds BUILD DATASET ---\n",
      "--- 2.380601644515991econds pred ---\n",
      "--- 0.007979393005371094econds RESTO ---\n",
      "--- 0.09677457809448242econds tfidf ---\n",
      "--- 0.018946170806884766econds BUILD DATASET ---\n",
      "--- 2.7725510597229004econds pred ---\n",
      "--- 0.009971141815185547econds RESTO ---\n",
      "--- 0.15059804916381836econds tfidf ---\n",
      "--- 0.04188847541809082econds BUILD DATASET ---\n",
      "--- 2.5731616020202637econds pred ---\n",
      "--- 0.0econds RESTO ---\n",
      "--- 0.09627318382263184econds tfidf ---\n",
      "--- 0.015607357025146484econds BUILD DATASET ---\n",
      "--- 2.4267942905426025econds pred ---\n",
      "--- 0.007978200912475586econds RESTO ---\n",
      "--- 0.08413267135620117econds tfidf ---\n",
      "--- 0.015665769577026367econds BUILD DATASET ---\n",
      "--- 2.4695191383361816econds pred ---\n",
      "--- 0.015579938888549805econds RESTO ---\n",
      "--- 0.11216926574707031econds tfidf ---\n",
      "--- 0.017985820770263672econds BUILD DATASET ---\n",
      "--- 2.392993450164795econds pred ---\n",
      "--- 0.0econds RESTO ---\n",
      "--- 0.09740304946899414econds tfidf ---\n",
      "--- 0.01567554473876953econds BUILD DATASET ---\n",
      "--- 2.484898567199707econds pred ---\n",
      "--- 0.0econds RESTO ---\n",
      "--- 0.08473944664001465econds tfidf ---\n",
      "--- 0.03128647804260254econds BUILD DATASET ---\n",
      "--- 2.3930819034576416econds pred ---\n",
      "--- 0.015577554702758789econds RESTO ---\n",
      "--- 0.09372639656066895econds tfidf ---\n",
      "--- 0.015655517578125econds BUILD DATASET ---\n",
      "--- 2.4327824115753174econds pred ---\n",
      "--- 0.004105567932128906econds RESTO ---\n",
      "--- 0.10658001899719238econds tfidf ---\n",
      "--- 0.016866445541381836econds BUILD DATASET ---\n",
      "--- 2.5567872524261475econds pred ---\n",
      "--- 0.008973836898803711econds RESTO ---\n",
      "--- 0.09565520286560059econds tfidf ---\n",
      "--- 0.015621185302734375econds BUILD DATASET ---\n",
      "--- 3.07499098777771econds pred ---\n",
      "--- 0.008975505828857422econds RESTO ---\n",
      "--- 0.10471987724304199econds tfidf ---\n",
      "--- 0.021940231323242188econds BUILD DATASET ---\n",
      "--- 2.687285900115967econds pred ---\n",
      "--- 0.015622615814208984econds RESTO ---\n",
      "--- 0.11903071403503418econds tfidf ---\n",
      "--- 0.021942138671875econds BUILD DATASET ---\n",
      "--- 2.683643102645874econds pred ---\n",
      "--- 0.007977008819580078econds RESTO ---\n",
      "--- 0.0889441967010498econds tfidf ---\n",
      "--- 0.015624761581420898econds BUILD DATASET ---\n",
      "--- 2.4097001552581787econds pred ---\n",
      "--- 0.015566110610961914econds RESTO ---\n",
      "--- 0.11461257934570312econds tfidf ---\n",
      "--- 0.014206886291503906econds BUILD DATASET ---\n",
      "--- 2.5311131477355957econds pred ---\n",
      "--- 0.015579700469970703econds RESTO ---\n",
      "--- 0.09372615814208984econds tfidf ---\n",
      "--- 0.0156557559967041econds BUILD DATASET ---\n",
      "--- 2.927086114883423econds pred ---\n",
      "--- 0.015582799911499023econds RESTO ---\n",
      "--- 0.09372854232788086econds tfidf ---\n",
      "--- 0.015660762786865234econds BUILD DATASET ---\n",
      "--- 2.372483968734741econds pred ---\n",
      "--- 0.0econds RESTO ---\n",
      "--- 0.09372687339782715econds tfidf ---\n",
      "--- 0.015658855438232422econds BUILD DATASET ---\n"
     ]
    },
    {
     "name": "stdout",
     "output_type": "stream",
     "text": [
      "--- 2.3969151973724365econds pred ---\n",
      "--- 0.015575647354125977econds RESTO ---\n",
      "--- 0.10940074920654297econds tfidf ---\n",
      "--- 0.01562356948852539econds BUILD DATASET ---\n",
      "--- 2.3853774070739746econds pred ---\n",
      "--- 0.009973526000976562econds RESTO ---\n",
      "--- 0.10970687866210938econds tfidf ---\n",
      "--- 0.018989086151123047econds BUILD DATASET ---\n",
      "--- 2.309035539627075econds pred ---\n",
      "--- 0.015583992004394531econds RESTO ---\n",
      "--- 0.10938715934753418econds tfidf ---\n",
      "--- 0.03124070167541504econds BUILD DATASET ---\n",
      "--- 2.926177978515625econds pred ---\n",
      "--- 0.006981372833251953econds RESTO ---\n",
      "--- 0.09384441375732422econds tfidf ---\n",
      "--- 0.03127741813659668econds BUILD DATASET ---\n",
      "--- 2.439112663269043econds pred ---\n",
      "--- 0.0econds RESTO ---\n",
      "--- 0.09372687339782715econds tfidf ---\n",
      "--- 0.0312807559967041econds BUILD DATASET ---\n",
      "--- 2.292677640914917econds pred ---\n",
      "--- 0.0econds RESTO ---\n",
      "--- 0.0940239429473877econds tfidf ---\n",
      "--- 0.015659332275390625econds BUILD DATASET ---\n",
      "--- 2.36277437210083econds pred ---\n",
      "--- 0.01562786102294922econds RESTO ---\n",
      "--- 0.09372091293334961econds tfidf ---\n",
      "--- 0.03124380111694336econds BUILD DATASET ---\n",
      "--- 2.6983253955841064econds pred ---\n",
      "--- 0.00892019271850586econds RESTO ---\n",
      "--- 0.10272669792175293econds tfidf ---\n",
      "--- 0.014177083969116211econds BUILD DATASET ---\n",
      "--- 2.7543771266937256econds pred ---\n",
      "--- 0.006981372833251953econds RESTO ---\n",
      "--- 0.0937952995300293econds tfidf ---\n",
      "--- 0.01894831657409668econds BUILD DATASET ---\n",
      "--- 2.3945529460906982econds pred ---\n",
      "--- 0.007979869842529297econds RESTO ---\n",
      "--- 0.10870909690856934econds tfidf ---\n",
      "--- 0.016954660415649414econds BUILD DATASET ---\n",
      "--- 3.0628106594085693econds pred ---\n",
      "--- 0.007978200912475586econds RESTO ---\n",
      "--- 0.13863229751586914econds tfidf ---\n",
      "--- 0.027931690216064453econds BUILD DATASET ---\n",
      "--- 2.906229019165039econds pred ---\n",
      "--- 0.010975122451782227econds RESTO ---\n",
      "--- 0.13364362716674805econds tfidf ---\n",
      "--- 0.026930809020996094econds BUILD DATASET ---\n",
      "--- 2.578104019165039econds pred ---\n",
      "--- 0.007977724075317383econds RESTO ---\n",
      "--- 0.09278631210327148econds tfidf ---\n",
      "--- 0.01696181297302246econds BUILD DATASET ---\n",
      "--- 2.3367116451263428econds pred ---\n",
      "--- 0.00698089599609375econds RESTO ---\n",
      "--- 0.0927891731262207econds tfidf ---\n",
      "--- 0.016953229904174805econds BUILD DATASET ---\n",
      "--- 2.385586977005005econds pred ---\n",
      "--- 0.007978677749633789econds RESTO ---\n",
      "--- 0.10771322250366211econds tfidf ---\n",
      "--- 0.01795172691345215econds BUILD DATASET ---\n",
      "--- 3.000976324081421econds pred ---\n",
      "--- 0.009974241256713867econds RESTO ---\n",
      "--- 0.11369657516479492econds tfidf ---\n",
      "--- 0.02293872833251953econds BUILD DATASET ---\n",
      "--- 2.7308549880981445econds pred ---\n",
      "--- 0.015577316284179688econds RESTO ---\n",
      "--- 0.09372615814208984econds tfidf ---\n",
      "--- 0.031280517578125econds BUILD DATASET ---\n",
      "--- 2.336043357849121econds pred ---\n",
      "--- 0.0econds RESTO ---\n",
      "--- 0.10894489288330078econds tfidf ---\n",
      "--- 0.015648365020751953econds BUILD DATASET ---\n",
      "--- 2.343376398086548econds pred ---\n",
      "--- 0.01557779312133789econds RESTO ---\n",
      "--- 0.09372830390930176econds tfidf ---\n",
      "--- 0.01565837860107422econds BUILD DATASET ---\n",
      "--- 2.410496711730957econds pred ---\n",
      "--- 0.0econds RESTO ---\n",
      "--- 0.09372687339782715econds tfidf ---\n",
      "--- 0.01567864418029785econds BUILD DATASET ---\n",
      "--- 2.338585615158081econds pred ---\n",
      "--- 0.0econds RESTO ---\n",
      "--- 0.07810735702514648econds tfidf ---\n",
      "--- 0.03127646446228027econds BUILD DATASET ---\n",
      "--- 2.2822048664093018econds pred ---\n",
      "--- 0.0econds RESTO ---\n",
      "--- 0.09372711181640625econds tfidf ---\n",
      "--- 0.01565837860107422econds BUILD DATASET ---\n",
      "--- 2.5059866905212402econds pred ---\n",
      "--- 0.0econds RESTO ---\n",
      "--- 0.10938858985900879econds tfidf ---\n",
      "--- 0.015625715255737305econds BUILD DATASET ---\n",
      "--- 2.297987699508667econds pred ---\n",
      "--- 0.0econds RESTO ---\n",
      "--- 0.0967550277709961econds tfidf ---\n",
      "--- 0.016956329345703125econds BUILD DATASET ---\n",
      "--- 2.369521379470825econds pred ---\n",
      "--- 0.015620946884155273econds RESTO ---\n",
      "--- 0.09372758865356445econds tfidf ---\n",
      "--- 0.0156557559967041econds BUILD DATASET ---\n",
      "--- 2.3676679134368896econds pred ---\n",
      "--- 0.0econds RESTO ---\n",
      "--- 0.09407377243041992econds tfidf ---\n",
      "--- 0.031279802322387695econds BUILD DATASET ---\n",
      "--- 2.265406847000122econds pred ---\n",
      "--- 0.0econds RESTO ---\n",
      "--- 0.09372663497924805econds tfidf ---\n",
      "--- 0.015657663345336914econds BUILD DATASET ---\n",
      "--- 2.313796281814575econds pred ---\n",
      "--- 0.00797891616821289econds RESTO ---\n",
      "--- 0.10950469970703125econds tfidf ---\n",
      "--- 0.015601158142089844econds BUILD DATASET ---\n",
      "--- 2.4112043380737305econds pred ---\n",
      "--- 0.0011615753173828125econds RESTO ---\n",
      "--- 0.09933924674987793econds tfidf ---\n",
      "--- 0.01566910743713379econds BUILD DATASET ---\n",
      "--- 2.4103310108184814econds pred ---\n",
      "--- 0.0041506290435791016econds RESTO ---\n",
      "--- 0.1157834529876709econds tfidf ---\n",
      "--- 0.015622138977050781econds BUILD DATASET ---\n",
      "--- 2.4576263427734375econds pred ---\n",
      "--- 0.0econds RESTO ---\n",
      "--- 0.10645413398742676econds tfidf ---\n",
      "--- 0.02094554901123047econds BUILD DATASET ---\n",
      "--- 2.357595682144165econds pred ---\n",
      "--- 0.0econds RESTO ---\n",
      "--- 0.10938549041748047econds tfidf ---\n",
      "--- 0.015627384185791016econds BUILD DATASET ---\n",
      "--- 2.2657763957977295econds pred ---\n",
      "--- 0.0econds RESTO ---\n",
      "--- 0.10939359664916992econds tfidf ---\n",
      "--- 0.015619039535522461econds BUILD DATASET ---\n",
      "--- 2.2655625343322754econds pred ---\n",
      "--- 0.015579938888549805econds RESTO ---\n",
      "--- 0.09372758865356445econds tfidf ---\n",
      "--- 0.031278371810913086econds BUILD DATASET ---\n",
      "--- 2.273777723312378econds pred ---\n",
      "--- 0.0econds RESTO ---\n",
      "--- 0.09372758865356445econds tfidf ---\n",
      "--- 0.024073123931884766econds BUILD DATASET ---\n",
      "--- 2.2486748695373535econds pred ---\n",
      "--- 0.015580415725708008econds RESTO ---\n",
      "--- 0.09372806549072266econds tfidf ---\n",
      "--- 0.015660524368286133econds BUILD DATASET ---\n",
      "--- 2.270345449447632econds pred ---\n",
      "--- 0.0069806575775146484econds RESTO ---\n",
      "--- 0.09677672386169434econds tfidf ---\n",
      "--- 0.016953468322753906econds BUILD DATASET ---\n",
      "--- 2.615010976791382econds pred ---\n",
      "--- 0.015623092651367188econds RESTO ---\n",
      "--- 0.11723613739013672econds tfidf ---\n",
      "--- 0.021944046020507812econds BUILD DATASET ---\n",
      "--- 2.5789291858673096econds pred ---\n",
      "--- 0.009974002838134766econds RESTO ---\n",
      "--- 0.11074161529541016econds tfidf ---\n",
      "--- 0.022935152053833008econds BUILD DATASET ---\n",
      "--- 2.3630876541137695econds pred ---\n",
      "--- 0.0econds RESTO ---\n",
      "--- 0.09336376190185547econds tfidf ---\n",
      "--- 0.01566028594970703econds BUILD DATASET ---\n",
      "--- 2.373833656311035econds pred ---\n",
      "--- 0.0econds RESTO ---\n",
      "--- 0.10935258865356445econds tfidf ---\n",
      "--- 0.015654802322387695econds BUILD DATASET ---\n",
      "--- 2.5728917121887207econds pred ---\n",
      "--- 0.015578746795654297econds RESTO ---\n",
      "--- 0.10280084609985352econds tfidf ---\n",
      "--- 0.026499032974243164econds BUILD DATASET ---\n",
      "--- 2.639853000640869econds pred ---\n",
      "--- 0.009972333908081055econds RESTO ---\n",
      "--- 0.10605120658874512econds tfidf ---\n",
      "--- 0.015673160552978516econds BUILD DATASET ---\n",
      "--- 2.5836715698242188econds pred ---\n",
      "--- 0.009974241256713867econds RESTO ---\n",
      "--- 0.10771393775939941econds tfidf ---\n",
      "--- 0.02093982696533203econds BUILD DATASET ---\n",
      "--- 3.0019304752349854econds pred ---\n",
      "--- 0.009972810745239258econds RESTO ---\n",
      "--- 0.11174178123474121econds tfidf ---\n",
      "--- 0.021936893463134766econds BUILD DATASET ---\n",
      "--- 2.721539258956909econds pred ---\n",
      "--- 0.007978677749633789econds RESTO ---\n",
      "--- 0.1077127456665039econds tfidf ---\n",
      "--- 0.02496504783630371econds BUILD DATASET ---\n",
      "--- 2.8322336673736572econds pred ---\n",
      "--- 0.007977962493896484econds RESTO ---\n",
      "--- 0.09976482391357422econds tfidf ---\n",
      "--- 0.01894998550415039econds BUILD DATASET ---\n",
      "--- 2.6362740993499756econds pred ---\n",
      "--- 0.007977962493896484econds RESTO ---\n",
      "--- 0.10261940956115723econds tfidf ---\n",
      "--- 0.01795506477355957econds BUILD DATASET ---\n",
      "--- 2.4023067951202393econds pred ---\n",
      "--- 0.0econds RESTO ---\n",
      "--- 0.10934567451477051econds tfidf ---\n",
      "--- 0.015661954879760742econds BUILD DATASET ---\n",
      "--- 2.3170788288116455econds pred ---\n",
      "--- 0.00698089599609375econds RESTO ---\n",
      "--- 0.11373019218444824econds tfidf ---\n",
      "--- 0.016961336135864258econds BUILD DATASET ---\n",
      "--- 2.3358168601989746econds pred ---\n",
      "--- 0.007978677749633789econds RESTO ---\n",
      "--- 0.10372376441955566econds tfidf ---\n",
      "--- 0.01695418357849121econds BUILD DATASET ---\n"
     ]
    },
    {
     "name": "stdout",
     "output_type": "stream",
     "text": [
      "--- 2.442167043685913econds pred ---\n",
      "--- 0.007978439331054688econds RESTO ---\n",
      "--- 0.10201549530029297econds tfidf ---\n",
      "--- 0.015659809112548828econds BUILD DATASET ---\n",
      "--- 2.5361435413360596econds pred ---\n",
      "--- 0.015576601028442383econds RESTO ---\n",
      "--- 0.10175228118896484econds tfidf ---\n",
      "--- 0.02637505531311035econds BUILD DATASET ---\n",
      "--- 2.5095231533050537econds pred ---\n",
      "--- 0.015620946884155273econds RESTO ---\n",
      "--- 0.10733652114868164econds tfidf ---\n",
      "--- 0.022939443588256836econds BUILD DATASET ---\n",
      "--- 2.7990317344665527econds pred ---\n",
      "--- 0.007979393005371094econds RESTO ---\n",
      "--- 0.11791586875915527econds tfidf ---\n",
      "--- 0.021941661834716797econds BUILD DATASET ---\n",
      "--- 3.2774181365966797econds pred ---\n",
      "--- 0.007979393005371094econds RESTO ---\n",
      "--- 0.10870933532714844econds tfidf ---\n",
      "--- 0.0048732757568359375econds BUILD DATASET ---\n",
      "--- 2.9685451984405518econds pred ---\n",
      "--- 0.00897526741027832econds RESTO ---\n",
      "--- 0.1067507266998291econds tfidf ---\n",
      "--- 0.016956329345703125econds BUILD DATASET ---\n",
      "--- 2.502065896987915econds pred ---\n",
      "--- 0.007972478866577148econds RESTO ---\n",
      "--- 0.10675978660583496econds tfidf ---\n",
      "--- 0.018949508666992188econds BUILD DATASET ---\n",
      "--- 2.4813973903656006econds pred ---\n",
      "--- 0.007976531982421875econds RESTO ---\n",
      "--- 0.09773874282836914econds tfidf ---\n",
      "--- 0.02194070816040039econds BUILD DATASET ---\n",
      "--- 3.0273611545562744econds pred ---\n",
      "--- 0.007979154586791992econds RESTO ---\n",
      "--- 0.10671472549438477econds tfidf ---\n",
      "--- 0.019995450973510742econds BUILD DATASET ---\n",
      "--- 2.963160514831543econds pred ---\n",
      "--- 0.007977485656738281econds RESTO ---\n",
      "--- 0.12067794799804688econds tfidf ---\n",
      "--- 0.018949508666992188econds BUILD DATASET ---\n",
      "--- 2.8367583751678467econds pred ---\n",
      "--- 0.006980180740356445econds RESTO ---\n",
      "--- 0.10938858985900879econds tfidf ---\n",
      "--- 0.015619993209838867econds BUILD DATASET ---\n",
      "--- 2.46085786819458econds pred ---\n",
      "--- 0.0econds RESTO ---\n",
      "--- 0.10934638977050781econds tfidf ---\n",
      "--- 0.015662670135498047econds BUILD DATASET ---\n"
     ]
    }
   ],
   "source": [
    "%%time\n",
    "print('Evaluating Light GBM model...')\n",
    "lgbm_global_metrics, lgbm_detailed_results_df = model_evaluator.evaluate_model(lgbm_recommender_model)\n",
    "print('\\nGlobal metrics:\\n%s' % lgbm_global_metrics)\n",
    "lgbm_detailed_results_df.head(10)\n",
    "\n",
    "\n",
    "###testar com 5 interações pra cima, estava dando erro num loc dentro do recomender"
   ]
  },
  {
   "cell_type": "code",
   "execution_count": null,
   "metadata": {},
   "outputs": [],
   "source": [
    "#Best result\n",
    "Global metrics:\n",
    "{'modelName': 'LGBM', 'recall@5': 0.43510928961748635, 'recall@10': 0.5644808743169399}\n",
    "Wall time: 33min 52s"
   ]
  },
  {
   "cell_type": "code",
   "execution_count": null,
   "metadata": {},
   "outputs": [],
   "source": [
    "articles_df[articles_df['contentId'] == 6989198691754522425]"
   ]
  },
  {
   "cell_type": "code",
   "execution_count": null,
   "metadata": {},
   "outputs": [],
   "source": [
    "interactions_full_df[interactions_full_df['contentId'] == 6989198691754522425]"
   ]
  },
  {
   "cell_type": "code",
   "execution_count": null,
   "metadata": {},
   "outputs": [],
   "source": []
  },
  {
   "cell_type": "code",
   "execution_count": null,
   "metadata": {},
   "outputs": [],
   "source": []
  },
  {
   "cell_type": "code",
   "execution_count": null,
   "metadata": {},
   "outputs": [],
   "source": [
    "def check_base(base):\n",
    "    s_types = base.dtypes\n",
    "    \n",
    "    s_miss = np.zeros(base.columns.size)\n",
    "    j=0\n",
    "    for i in base.columns:\n",
    "        s_miss[j] = sum(base[i].isnull())\n",
    "        j+=1\n",
    "\n",
    "    df = pd.DataFrame({'columns':base.columns, 'types':s_types.values, 'missing':s_miss})\n",
    "        \n",
    "    return df[['columns','types','missing']] #ordenando a sequência das colunas"
   ]
  },
  {
   "cell_type": "code",
   "execution_count": null,
   "metadata": {},
   "outputs": [],
   "source": [
    "articles_df.shape"
   ]
  },
  {
   "cell_type": "code",
   "execution_count": null,
   "metadata": {},
   "outputs": [],
   "source": [
    "check_base(interactions_indexed_mode_df)"
   ]
  },
  {
   "cell_type": "code",
   "execution_count": null,
   "metadata": {},
   "outputs": [],
   "source": [
    "articles_df.loc[articles_df['contentId']==-1868297195590431285]"
   ]
  },
  {
   "cell_type": "code",
   "execution_count": null,
   "metadata": {},
   "outputs": [],
   "source": []
  },
  {
   "cell_type": "code",
   "execution_count": null,
   "metadata": {},
   "outputs": [],
   "source": []
  },
  {
   "cell_type": "code",
   "execution_count": null,
   "metadata": {},
   "outputs": [],
   "source": []
  },
  {
   "cell_type": "code",
   "execution_count": null,
   "metadata": {},
   "outputs": [],
   "source": []
  },
  {
   "cell_type": "code",
   "execution_count": null,
   "metadata": {},
   "outputs": [],
   "source": []
  },
  {
   "cell_type": "code",
   "execution_count": null,
   "metadata": {},
   "outputs": [],
   "source": []
  },
  {
   "cell_type": "code",
   "execution_count": null,
   "metadata": {},
   "outputs": [],
   "source": []
  },
  {
   "cell_type": "code",
   "execution_count": null,
   "metadata": {},
   "outputs": [],
   "source": []
  },
  {
   "cell_type": "code",
   "execution_count": null,
   "metadata": {},
   "outputs": [],
   "source": []
  },
  {
   "cell_type": "code",
   "execution_count": null,
   "metadata": {},
   "outputs": [],
   "source": []
  },
  {
   "cell_type": "code",
   "execution_count": null,
   "metadata": {},
   "outputs": [],
   "source": []
  },
  {
   "cell_type": "code",
   "execution_count": null,
   "metadata": {},
   "outputs": [],
   "source": []
  },
  {
   "cell_type": "code",
   "execution_count": null,
   "metadata": {},
   "outputs": [],
   "source": []
  },
  {
   "cell_type": "code",
   "execution_count": null,
   "metadata": {},
   "outputs": [],
   "source": []
  },
  {
   "cell_type": "code",
   "execution_count": null,
   "metadata": {},
   "outputs": [],
   "source": []
  },
  {
   "cell_type": "code",
   "execution_count": null,
   "metadata": {},
   "outputs": [],
   "source": []
  },
  {
   "cell_type": "code",
   "execution_count": null,
   "metadata": {},
   "outputs": [],
   "source": []
  },
  {
   "cell_type": "code",
   "execution_count": null,
   "metadata": {},
   "outputs": [],
   "source": []
  },
  {
   "cell_type": "code",
   "execution_count": null,
   "metadata": {},
   "outputs": [],
   "source": []
  },
  {
   "cell_type": "code",
   "execution_count": null,
   "metadata": {},
   "outputs": [],
   "source": []
  },
  {
   "cell_type": "code",
   "execution_count": null,
   "metadata": {},
   "outputs": [],
   "source": []
  },
  {
   "cell_type": "code",
   "execution_count": null,
   "metadata": {},
   "outputs": [],
   "source": []
  },
  {
   "cell_type": "code",
   "execution_count": null,
   "metadata": {},
   "outputs": [],
   "source": []
  },
  {
   "cell_type": "code",
   "execution_count": null,
   "metadata": {},
   "outputs": [],
   "source": []
  },
  {
   "cell_type": "code",
   "execution_count": null,
   "metadata": {},
   "outputs": [],
   "source": []
  },
  {
   "cell_type": "code",
   "execution_count": null,
   "metadata": {},
   "outputs": [],
   "source": []
  },
  {
   "cell_type": "code",
   "execution_count": null,
   "metadata": {},
   "outputs": [],
   "source": []
  },
  {
   "cell_type": "code",
   "execution_count": null,
   "metadata": {},
   "outputs": [],
   "source": []
  },
  {
   "cell_type": "code",
   "execution_count": null,
   "metadata": {},
   "outputs": [],
   "source": []
  },
  {
   "cell_type": "code",
   "execution_count": null,
   "metadata": {},
   "outputs": [],
   "source": []
  },
  {
   "cell_type": "code",
   "execution_count": null,
   "metadata": {},
   "outputs": [],
   "source": []
  },
  {
   "cell_type": "code",
   "execution_count": null,
   "metadata": {},
   "outputs": [],
   "source": []
  },
  {
   "cell_type": "code",
   "execution_count": null,
   "metadata": {},
   "outputs": [],
   "source": []
  },
  {
   "cell_type": "code",
   "execution_count": null,
   "metadata": {},
   "outputs": [],
   "source": []
  },
  {
   "cell_type": "code",
   "execution_count": null,
   "metadata": {},
   "outputs": [],
   "source": []
  },
  {
   "cell_type": "code",
   "execution_count": null,
   "metadata": {},
   "outputs": [],
   "source": []
  },
  {
   "cell_type": "code",
   "execution_count": null,
   "metadata": {},
   "outputs": [],
   "source": []
  },
  {
   "cell_type": "code",
   "execution_count": null,
   "metadata": {},
   "outputs": [],
   "source": []
  },
  {
   "cell_type": "code",
   "execution_count": null,
   "metadata": {},
   "outputs": [],
   "source": []
  },
  {
   "cell_type": "code",
   "execution_count": null,
   "metadata": {},
   "outputs": [],
   "source": []
  },
  {
   "cell_type": "code",
   "execution_count": null,
   "metadata": {},
   "outputs": [],
   "source": []
  },
  {
   "cell_type": "code",
   "execution_count": null,
   "metadata": {},
   "outputs": [],
   "source": []
  },
  {
   "cell_type": "code",
   "execution_count": null,
   "metadata": {},
   "outputs": [],
   "source": []
  },
  {
   "cell_type": "code",
   "execution_count": null,
   "metadata": {},
   "outputs": [],
   "source": []
  },
  {
   "cell_type": "code",
   "execution_count": null,
   "metadata": {},
   "outputs": [],
   "source": []
  },
  {
   "cell_type": "code",
   "execution_count": null,
   "metadata": {},
   "outputs": [],
   "source": []
  },
  {
   "cell_type": "code",
   "execution_count": null,
   "metadata": {},
   "outputs": [],
   "source": []
  },
  {
   "cell_type": "code",
   "execution_count": null,
   "metadata": {},
   "outputs": [],
   "source": []
  },
  {
   "cell_type": "code",
   "execution_count": null,
   "metadata": {},
   "outputs": [],
   "source": []
  },
  {
   "cell_type": "code",
   "execution_count": null,
   "metadata": {},
   "outputs": [],
   "source": []
  },
  {
   "cell_type": "code",
   "execution_count": null,
   "metadata": {},
   "outputs": [],
   "source": []
  },
  {
   "cell_type": "code",
   "execution_count": null,
   "metadata": {},
   "outputs": [],
   "source": []
  },
  {
   "cell_type": "markdown",
   "metadata": {
    "_cell_guid": "385247d0-adf3-4094-94df-5c9eb4838849",
    "_uuid": "b9e9ef77403ce530fa25d4f57a43261baa3b13cc"
   },
   "source": [
    "## Hybrid Recommender"
   ]
  },
  {
   "cell_type": "markdown",
   "metadata": {
    "_cell_guid": "f82c40f2-cbba-4cd1-817f-c8a1f27dd4fb",
    "_uuid": "255de28ff7990e2ba7a0e7ad50b6887740d76c28"
   },
   "source": [
    "What if we combine Collaborative Filtering and Content-Based Filtering approaches?    \n",
    "Would that provide us with more accurate recommendations?    \n",
    "In fact, hybrid methods have performed better than individual approaches in many studies and have being extensively used by researchers and practioners.  \n",
    "Let's build a simple hybridization method, by only multiply the CF score with the Content-Based score, and ranking by resulting score."
   ]
  },
  {
   "cell_type": "code",
   "execution_count": null,
   "metadata": {
    "_cell_guid": "6014bdf1-448e-485c-9a7a-410f875f92ce",
    "_uuid": "52fabb5abddc6b642ec94434efbf64dac1bd6cd9"
   },
   "outputs": [],
   "source": [
    "class HybridRecommender:\n",
    "    \n",
    "    MODEL_NAME = 'Hybrid'\n",
    "    \n",
    "    def __init__(self, cb_rec_model, cf_rec_model, items_df):\n",
    "        self.cb_rec_model = cb_rec_model\n",
    "        self.cf_rec_model = cf_rec_model\n",
    "        self.items_df = items_df\n",
    "        \n",
    "    def get_model_name(self):\n",
    "        return self.MODEL_NAME\n",
    "        \n",
    "    def recommend_items(self, user_id, items_to_ignore=[], topn=10, verbose=False):\n",
    "        #Getting the top-1000 Content-based filtering recommendations\n",
    "        cb_recs_df = self.cb_rec_model.recommend_items(user_id, items_to_ignore=items_to_ignore, verbose=verbose,\n",
    "                                                           topn=1000).rename(columns={'recStrength': 'recStrengthCB'})\n",
    "        \n",
    "        #Getting the top-1000 Collaborative filtering recommendations\n",
    "        cf_recs_df = self.cf_rec_model.recommend_items(user_id, items_to_ignore=items_to_ignore, verbose=verbose, \n",
    "                                                           topn=1000).rename(columns={'recStrength': 'recStrengthCF'})\n",
    "        \n",
    "        #Combining the results by contentId\n",
    "        recs_df = cb_recs_df.merge(cf_recs_df,\n",
    "                                   how = 'inner', \n",
    "                                   left_on = 'contentId', \n",
    "                                   right_on = 'contentId')\n",
    "        \n",
    "        #Computing a hybrid recommendation score based on CF and CB scores\n",
    "        #recs_df['recStrengthHybrid'] = recs_df['recStrengthCB'] * recs_df['recStrengthCF']\n",
    "        print(min(recs_df['recStrengthCB']))\n",
    "        recs_df['recStrengthHybrid'] = recs_df['recStrengthCB'] * recs_df['recStrengthCF']\n",
    "        \n",
    "        #Sorting recommendations by hybrid score\n",
    "        recommendations_df = recs_df.sort_values('recStrengthHybrid', ascending=False).head(topn)\n",
    "\n",
    "        if verbose:\n",
    "            if self.items_df is None:\n",
    "                raise Exception('\"items_df\" is required in verbose mode')\n",
    "\n",
    "            recommendations_df = recommendations_df.merge(self.items_df, how = 'left', \n",
    "                                                          left_on = 'contentId', \n",
    "                                                          right_on = 'contentId')[['recStrengthHybrid', 'contentId', 'title', 'url', 'lang']]\n",
    "\n",
    "\n",
    "        return recommendations_df\n",
    "    \n",
    "hybrid_recommender_model = HybridRecommender(content_based_recommender_model, cf_recommender_model, articles_df)"
   ]
  },
  {
   "cell_type": "markdown",
   "metadata": {
    "_cell_guid": "d5f5129c-7ca6-44da-99d7-224f8cba1c6d",
    "_uuid": "14a63938f9ea9c4dc939e1831f486bf9e444853c"
   },
   "source": [
    "**It appears we have a new champion!**  \n",
    "Our simple hybrid approach surpasses Content-Based filtering with its combination with Collaborative Filtering. Now we have a **Recall@5** of **43%** and **Recall@10** of **53%**"
   ]
  },
  {
   "cell_type": "code",
   "execution_count": null,
   "metadata": {
    "_cell_guid": "ba301021-8c21-458b-8565-ae0d6e88b637",
    "_uuid": "131844d0156a866c688b19181fc63fa676017d67"
   },
   "outputs": [],
   "source": [
    "print('Evaluating Hybrid model...')\n",
    "hybrid_global_metrics, hybrid_detailed_results_df = model_evaluator.evaluate_model(hybrid_recommender_model)\n",
    "print('\\nGlobal metrics:\\n%s' % hybrid_global_metrics)\n",
    "hybrid_detailed_results_df.head(10)"
   ]
  },
  {
   "cell_type": "markdown",
   "metadata": {
    "_cell_guid": "bde95842-5f92-4161-943f-34ec80969aa4",
    "_uuid": "2732ea17af581efaec91458a7b2666f76c8bfd1d"
   },
   "source": [
    "## Comparing the methods"
   ]
  },
  {
   "cell_type": "code",
   "execution_count": null,
   "metadata": {
    "_cell_guid": "6b294753-5371-46cb-a7fa-d4f2d8c1a3e2",
    "_uuid": "06c824e8787618cc02eace0196423acb32981aec"
   },
   "outputs": [],
   "source": [
    "global_metrics_df = pd.DataFrame([pop_global_metrics, cf_global_metrics, cb_global_metrics, hybrid_global_metrics]) \\\n",
    "                        .set_index('modelName')\n",
    "global_metrics_df"
   ]
  },
  {
   "cell_type": "code",
   "execution_count": null,
   "metadata": {},
   "outputs": [],
   "source": [
    "%matplotlib inline\n",
    "ax = global_metrics_df.transpose()[['Collaborative Filtering','Content-Based','Hybrid']].plot(kind='bar', figsize=(15,8))\n",
    "for p in ax.patches:\n",
    "    ax.annotate(\"%.3f\" % p.get_height(), (p.get_x() + p.get_width() / 2., p.get_height()), ha='center', va='center', xytext=(0, 10), textcoords='offset points')\n"
   ]
  },
  {
   "cell_type": "code",
   "execution_count": null,
   "metadata": {
    "_cell_guid": "e4a67773-62e1-4eb5-a6fe-4342fb71590a",
    "_uuid": "432c01385dc6fc238a53eb0a0bbec61b641ef263"
   },
   "outputs": [],
   "source": [
    "%matplotlib inline\n",
    "ax = global_metrics_df.transpose().plot(kind='bar', figsize=(15,8))\n",
    "for p in ax.patches:\n",
    "    ax.annotate(\"%.3f\" % p.get_height(), (p.get_x() + p.get_width() / 2., p.get_height()), ha='center', va='center', xytext=(0, 10), textcoords='offset points')"
   ]
  },
  {
   "cell_type": "markdown",
   "metadata": {
    "_cell_guid": "60689e32-a091-4067-9aa6-3520d4d48af2",
    "_uuid": "24bc9679fb3bfc224aeda1b236e36ab17c468d18"
   },
   "source": [
    "# Testing"
   ]
  },
  {
   "cell_type": "markdown",
   "metadata": {
    "_cell_guid": "58b12970-5607-4626-b6a0-e6941730a059",
    "_uuid": "1e7aa27a218a053a58b0b39618eec3429da3ef6a"
   },
   "source": [
    "Let's test the best model (Hybrid) for my user."
   ]
  },
  {
   "cell_type": "code",
   "execution_count": null,
   "metadata": {
    "_cell_guid": "07d07d66-1092-4316-a852-d5895d364737",
    "_uuid": "5dad675fe82c4008691ac140e5e57fe29544a940"
   },
   "outputs": [],
   "source": [
    "def inspect_interactions(person_id, test_set=True):\n",
    "    if test_set:\n",
    "        interactions_df = interactions_test_indexed_df\n",
    "    else:\n",
    "        interactions_df = interactions_train_indexed_df\n",
    "    return interactions_df.loc[person_id].merge(articles_df, how = 'left', \n",
    "                                                      left_on = 'contentId', \n",
    "                                                      right_on = 'contentId') \\\n",
    "                          .sort_values('eventStrength', ascending = False)[['eventStrength', \n",
    "                                                                          'contentId',\n",
    "                                                                          'title', 'url', 'lang']]"
   ]
  },
  {
   "cell_type": "markdown",
   "metadata": {
    "_cell_guid": "b76a6f66-6aec-47af-a8f6-6c594781cddc",
    "_uuid": "e377b6a862349fa8483deea70f1c362117f25001"
   },
   "source": [
    "Here we see some articles I interacted in Deskdrop from train set. It can be easily observed that among my main interests are **machine learning**, **deep learning**, **artificial intelligence**, and **google cloud platform**."
   ]
  },
  {
   "cell_type": "code",
   "execution_count": null,
   "metadata": {
    "_cell_guid": "ec962ce2-0593-4d29-8383-57dc9e785589",
    "_uuid": "d850f080e3a24aab664c10f7ab1a9eb3dc5bed39"
   },
   "outputs": [],
   "source": [
    "inspect_interactions(-1479311724257856983, test_set=False).head(20)"
   ]
  },
  {
   "cell_type": "markdown",
   "metadata": {
    "_cell_guid": "c6427984-842a-4d61-8a23-580b93e0fa12",
    "_uuid": "a6d56dc1c9d14e39d95e11a6f616ca2c577cd37f"
   },
   "source": [
    "**The recommendations really matches my interests, as I would read all of them!**"
   ]
  },
  {
   "cell_type": "code",
   "execution_count": null,
   "metadata": {
    "_cell_guid": "71944eb4-51ee-4e23-8643-ef2abe83822e",
    "_uuid": "af890f5ca9b3ae92bfdb51e61af6d5737aaf8e56"
   },
   "outputs": [],
   "source": [
    "hybrid_recommender_model.recommend_items(-1479311724257856983, topn=20, verbose=True)"
   ]
  },
  {
   "cell_type": "markdown",
   "metadata": {
    "_cell_guid": "75bf1701-e83c-4440-b088-858380e584e3",
    "_uuid": "72a8ec0dc47d567c6a891f51622747154075058d"
   },
   "source": [
    "# Conclusion"
   ]
  },
  {
   "cell_type": "markdown",
   "metadata": {
    "_cell_guid": "0fe267b0-2cef-404f-be12-b4dab61a483c",
    "_uuid": "e85e19fdd4e120b4552e97565457845c510fa65d"
   },
   "source": [
    "In this notebook, we've explored and compared the main Recommender Systems techniques on [CI&T Deskdrop](https://www.kaggle.com/gspmoreira/articles-sharing-reading-from-cit-deskdrop) dataset. It could be observed that for articles recommendation, content-based filtering and a hybrid method performed better than Collaborative Filtering alone.  \n",
    "\n",
    "There is large room for improvements of the results. Here are some tips:\n",
    "- In this example, we've completely ignored the time, considering that all articles were available to be recommended to users at any time. A better approach would be to filter only articles that were available for users at a given time.\n",
    "- You could leverage the available contextual information to model users preferences across time (period of day, day of week, month), location (country and state/district) and devices (browser, mobile native app).  \n",
    "This contextual information can be easily incorporated in [Learn-to-Rank](https://en.wikipedia.org/wiki/Learning_to_rank) models (like XGBoost Gradient Boosting Decision Trees with ranking objective) or Logistic models (with categorical features [One-Hot encoded](http://scikit-learn.org/stable/modules/generated/sklearn.preprocessing.OneHotEncoder.html) or [Feature Hashed](https://en.wikipedia.org/wiki/Feature_hashing)). Take a look in the summary my solution shared for [Outbrain Click Prediction](https://www.kaggle.com/c/outbrain-click-prediction/discussion/27897#157215) competition. \n",
    "- Those basic techniques were used for didactic purposes. There are more advanced techniques in RecSys research community, specially advanced Matrix Factorization and Deep Learning models.  \n",
    "\n",
    "You can know more about state-of-the-art methods published in Recommender Systems on [ACM RecSys conference](https://recsys.acm.org/).  \n",
    "If you are more like practioner than researcher, you might try some Collaborative Filtering frameworks in this dataset, like [surprise](https://github.com/NicolasHug/Surprise), [mrec](https://github.com/Mendeley/mrec),  [python-recsys](https://github.com/ocelma/python-recsys) and [Spark ALS Matrix Factorization](https://spark.apache.org/docs/latest/mllib-collaborative-filtering.html) (distributed implementation for large datasets).  \n",
    "Take a look in this [presentation](https://www.slideshare.net/gabrielspmoreira/discovering-users-topics-of-interest-in-recommender-systems-tdc-sp-2016) where I describe a production recommender system, focused on Content-Based Filtering and Topic Modeling techniques."
   ]
  },
  {
   "cell_type": "code",
   "execution_count": null,
   "metadata": {},
   "outputs": [],
   "source": []
  },
  {
   "cell_type": "code",
   "execution_count": null,
   "metadata": {},
   "outputs": [],
   "source": []
  },
  {
   "cell_type": "code",
   "execution_count": null,
   "metadata": {},
   "outputs": [],
   "source": []
  },
  {
   "cell_type": "code",
   "execution_count": null,
   "metadata": {},
   "outputs": [],
   "source": [
    "from collections import defaultdict\n",
    "from surprise import Reader\n",
    "from surprise import SVD\n",
    "from surprise import Dataset\n",
    "from surprise.model_selection import train_test_split\n",
    "from surprise import accuracy\n",
    "\n",
    "\n",
    "\n",
    "\n",
    "\n",
    "# First train an SVD algorithm on the movielens dataset.\n",
    "#data = Dataset.load_builtin('ml-100k')\n",
    "\n",
    "reader = Reader(rating_scale=(1, 4))\n",
    "   \n",
    "# The columns must correspond to user id, item id and ratings (in that order).\n",
    "datatrain = Dataset.load_from_df(interactions_train_df[['personId', 'contentId', 'eventStrength']], reader)\n",
    "\n",
    "datatest = Dataset.load_from_df(interactions_test_df[['personId', 'contentId', 'eventStrength']], reader)\n",
    "#datatest.raw_ratings\n",
    "\n",
    "#trainset, testset = train_test_split(data, test_size=0.30)\n",
    "trainset = datatrain.construct_trainset(datatrain.raw_ratings)\n",
    "algo = SVD(n_factors=15)\n",
    "algo.fit(trainset)\n",
    "\n",
    "# Than predict ratings for all pairs (u, i) that are NOT in the training set.\n",
    "#testset = trainset.build_anti_testset()\n",
    "testset = datatest.construct_testset(datatest.raw_ratings)\n",
    "predictions = algo.test(testset)\n",
    "accuracy.rmse(predictions)\n",
    "#top_n = get_top_n(predictions, n=10)\n",
    "\n",
    "# Print the recommended items for each user\n",
    "#for uid, user_ratings in top_n.items():"
   ]
  },
  {
   "cell_type": "code",
   "execution_count": null,
   "metadata": {},
   "outputs": [],
   "source": [
    "def get_top_n(predictions, n=10):\n",
    "    i=0\n",
    "    # First map the predictions to each user.\n",
    "    top_n = defaultdict(list)\n",
    "    lst =[]\n",
    "    for uid, iid, true_r, est, _ in predictions:\n",
    "        lst_aux = [uid,iid,est]\n",
    "        #top_n[uid].append((iid, est))\n",
    "        lst.append(lst_aux)\n",
    "    return lst\n",
    "\n",
    "top_n = get_top_n(predictions, n=10)"
   ]
  },
  {
   "cell_type": "code",
   "execution_count": null,
   "metadata": {},
   "outputs": [],
   "source": [
    "top_n[:1]"
   ]
  },
  {
   "cell_type": "code",
   "execution_count": null,
   "metadata": {},
   "outputs": [],
   "source": [
    "x = pd.DataFrame(top_n).fillna(0)\n"
   ]
  },
  {
   "cell_type": "code",
   "execution_count": null,
   "metadata": {},
   "outputs": [],
   "source": [
    "x.columns = ['personId', 'contentId', 'eventStrength']"
   ]
  },
  {
   "cell_type": "code",
   "execution_count": null,
   "metadata": {},
   "outputs": [],
   "source": [
    "np.array(x.eventStrength).size"
   ]
  },
  {
   "cell_type": "code",
   "execution_count": null,
   "metadata": {},
   "outputs": [],
   "source": [
    "len(x['contentId'].unique().tolist())"
   ]
  },
  {
   "cell_type": "code",
   "execution_count": null,
   "metadata": {},
   "outputs": [],
   "source": [
    "len(x['personId'].unique().tolist())"
   ]
  },
  {
   "cell_type": "code",
   "execution_count": null,
   "metadata": {},
   "outputs": [],
   "source": [
    "x.loc[x.eventStrength == 0]"
   ]
  },
  {
   "cell_type": "code",
   "execution_count": null,
   "metadata": {},
   "outputs": [],
   "source": [
    "x.loc[(x['personId']==-9016528795238256703) & (x['contentId']==-9192549002213406534)]"
   ]
  },
  {
   "cell_type": "code",
   "execution_count": null,
   "metadata": {},
   "outputs": [],
   "source": [
    "pd.set_option('display.max_rows', 1000000) "
   ]
  },
  {
   "cell_type": "code",
   "execution_count": null,
   "metadata": {},
   "outputs": [],
   "source": [
    "#x.pivot_table(values='eventStrength', index=x['personId'].tolist(), columns=x['contentId'].tolist()).head(10)\n",
    "#x.pivot_table(values='eventStrength', index=x.personId, columns='contentId').head(10)"
   ]
  },
  {
   "cell_type": "code",
   "execution_count": null,
   "metadata": {},
   "outputs": [],
   "source": [
    "#df = x.pivot_table(values='eventStrength', index=x.personId, columns='contentId').fillna(0).transpose()\n",
    "df = x.pivot_table(values='eventStrength', index=x['personId'], columns='contentId').fillna(0).transpose()"
   ]
  },
  {
   "cell_type": "code",
   "execution_count": null,
   "metadata": {},
   "outputs": [],
   "source": [
    "df.head()"
   ]
  },
  {
   "cell_type": "code",
   "execution_count": null,
   "metadata": {},
   "outputs": [],
   "source": []
  },
  {
   "cell_type": "code",
   "execution_count": null,
   "metadata": {},
   "outputs": [],
   "source": []
  },
  {
   "cell_type": "code",
   "execution_count": null,
   "metadata": {},
   "outputs": [],
   "source": [
    "class ConstantFolds():\n",
    "\n",
    "    def __init__(self, trainset_size, n_splits=None, random_state=None,\n",
    "                 shuffle=True):\n",
    "\n",
    "        self.n_splits = 1\n",
    "        self.shuffle = shuffle\n",
    "        self.random_state = random_state\n",
    "        self.trainset_size = trainset_size\n",
    "\n",
    "    def split(self, data):\n",
    "\n",
    "        indices = np.arange(len(data.raw_ratings))\n",
    "\n",
    "        if self.shuffle:\n",
    "            get_rng(self.random_state).shuffle(indices)\n",
    "\n",
    "        raw_trainset = data.raw_ratings[:self.trainset_size]\n",
    "        raw_testset = data.raw_ratings[self.trainset_size:]\n",
    "\n",
    "        trainset = data.construct_trainset(raw_trainset)\n",
    "        testset = data.construct_testset(raw_testset)\n",
    "\n",
    "        yield trainset, testset\n",
    "\n",
    "    def get_n_folds(self):\n",
    "\n",
    "        return self.n_splits"
   ]
  },
  {
   "cell_type": "code",
   "execution_count": null,
   "metadata": {},
   "outputs": [],
   "source": [
    "raw_ratings"
   ]
  },
  {
   "cell_type": "code",
   "execution_count": null,
   "metadata": {},
   "outputs": [],
   "source": [
    "indices = np.arange(len(data.raw_ratings))\n",
    "\n",
    "if self.shuffle:\n",
    "    get_rng(self.random_state).shuffle(indices)\n",
    "\n",
    "raw_trainset = data.raw_ratings[:self.trainset_size]\n",
    "raw_testset = data.raw_ratings[self.trainset_size:]\n",
    "\n",
    "trainset = data.construct_trainset(raw_trainset)\n",
    "testset = data.construct_testset(raw_testset)\n",
    "\n",
    "yield trainset, testset"
   ]
  },
  {
   "cell_type": "code",
   "execution_count": null,
   "metadata": {},
   "outputs": [],
   "source": []
  },
  {
   "cell_type": "code",
   "execution_count": null,
   "metadata": {},
   "outputs": [],
   "source": []
  },
  {
   "cell_type": "code",
   "execution_count": null,
   "metadata": {},
   "outputs": [],
   "source": []
  },
  {
   "cell_type": "code",
   "execution_count": null,
   "metadata": {},
   "outputs": [],
   "source": []
  },
  {
   "cell_type": "code",
   "execution_count": null,
   "metadata": {},
   "outputs": [],
   "source": []
  },
  {
   "cell_type": "code",
   "execution_count": null,
   "metadata": {},
   "outputs": [],
   "source": []
  },
  {
   "cell_type": "code",
   "execution_count": null,
   "metadata": {},
   "outputs": [],
   "source": []
  },
  {
   "cell_type": "code",
   "execution_count": null,
   "metadata": {},
   "outputs": [],
   "source": []
  },
  {
   "cell_type": "code",
   "execution_count": null,
   "metadata": {},
   "outputs": [],
   "source": []
  },
  {
   "cell_type": "code",
   "execution_count": null,
   "metadata": {},
   "outputs": [],
   "source": []
  },
  {
   "cell_type": "code",
   "execution_count": null,
   "metadata": {},
   "outputs": [],
   "source": []
  },
  {
   "cell_type": "code",
   "execution_count": null,
   "metadata": {},
   "outputs": [],
   "source": []
  },
  {
   "cell_type": "code",
   "execution_count": null,
   "metadata": {},
   "outputs": [],
   "source": []
  },
  {
   "cell_type": "code",
   "execution_count": null,
   "metadata": {},
   "outputs": [],
   "source": []
  },
  {
   "cell_type": "code",
   "execution_count": null,
   "metadata": {},
   "outputs": [],
   "source": []
  },
  {
   "cell_type": "code",
   "execution_count": null,
   "metadata": {},
   "outputs": [],
   "source": []
  },
  {
   "cell_type": "code",
   "execution_count": null,
   "metadata": {},
   "outputs": [],
   "source": []
  },
  {
   "cell_type": "code",
   "execution_count": null,
   "metadata": {},
   "outputs": [],
   "source": []
  },
  {
   "cell_type": "code",
   "execution_count": null,
   "metadata": {},
   "outputs": [],
   "source": []
  },
  {
   "cell_type": "code",
   "execution_count": null,
   "metadata": {},
   "outputs": [],
   "source": []
  },
  {
   "cell_type": "code",
   "execution_count": null,
   "metadata": {},
   "outputs": [],
   "source": []
  },
  {
   "cell_type": "code",
   "execution_count": null,
   "metadata": {},
   "outputs": [],
   "source": []
  },
  {
   "cell_type": "code",
   "execution_count": null,
   "metadata": {},
   "outputs": [],
   "source": []
  },
  {
   "cell_type": "code",
   "execution_count": null,
   "metadata": {},
   "outputs": [],
   "source": []
  },
  {
   "cell_type": "code",
   "execution_count": null,
   "metadata": {},
   "outputs": [],
   "source": []
  },
  {
   "cell_type": "code",
   "execution_count": null,
   "metadata": {},
   "outputs": [],
   "source": []
  },
  {
   "cell_type": "code",
   "execution_count": null,
   "metadata": {},
   "outputs": [],
   "source": []
  },
  {
   "cell_type": "code",
   "execution_count": null,
   "metadata": {},
   "outputs": [],
   "source": []
  },
  {
   "cell_type": "code",
   "execution_count": null,
   "metadata": {},
   "outputs": [],
   "source": []
  },
  {
   "cell_type": "code",
   "execution_count": null,
   "metadata": {},
   "outputs": [],
   "source": []
  },
  {
   "cell_type": "code",
   "execution_count": null,
   "metadata": {},
   "outputs": [],
   "source": []
  },
  {
   "cell_type": "code",
   "execution_count": null,
   "metadata": {},
   "outputs": [],
   "source": []
  }
 ],
 "metadata": {
  "kernelspec": {
   "display_name": "Python 3",
   "language": "python",
   "name": "python3"
  },
  "language_info": {
   "codemirror_mode": {
    "name": "ipython",
    "version": 3
   },
   "file_extension": ".py",
   "mimetype": "text/x-python",
   "name": "python",
   "nbconvert_exporter": "python",
   "pygments_lexer": "ipython3",
   "version": "3.6.5"
  }
 },
 "nbformat": 4,
 "nbformat_minor": 1
}
